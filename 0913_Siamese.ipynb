{
  "nbformat": 4,
  "nbformat_minor": 0,
  "metadata": {
    "colab": {
      "name": "0913 Siamese.ipynb",
      "provenance": [],
      "collapsed_sections": []
    },
    "kernelspec": {
      "name": "python3",
      "display_name": "Python 3"
    },
    "language_info": {
      "name": "python"
    },
    "accelerator": "GPU"
  },
  "cells": [
    {
      "cell_type": "code",
      "metadata": {
        "id": "KNekYkV6NtYw"
      },
      "source": [
        "!git clone https://github.com/brendenlake/omniglot.git\n",
        "%cd omniglot/python\n",
        "!unzip images_evaluation.zip\n",
        "!unzip images_background.zip\n",
        "%cd ../.."
      ],
      "execution_count": null,
      "outputs": []
    },
    {
      "cell_type": "code",
      "metadata": {
        "id": "CMygyV86N0LT"
      },
      "source": [
        "import zipfile\n",
        "from pathlib import Path\n",
        "import glob\n",
        "import os, sys\n",
        "\n",
        "import numpy as np\n",
        "import random"
      ],
      "execution_count": 2,
      "outputs": []
    },
    {
      "cell_type": "code",
      "metadata": {
        "colab": {
          "base_uri": "https://localhost:8080/"
        },
        "id": "zJ68jz6aONAB",
        "outputId": "cfb36f63-d084-47cf-d8a7-b305fa530e92"
      },
      "source": [
        "CUR_DIR = Path.cwd()\n",
        "CUR_DIR"
      ],
      "execution_count": 3,
      "outputs": [
        {
          "output_type": "execute_result",
          "data": {
            "text/plain": [
              "PosixPath('/content')"
            ]
          },
          "metadata": {},
          "execution_count": 3
        }
      ]
    },
    {
      "cell_type": "code",
      "metadata": {
        "colab": {
          "base_uri": "https://localhost:8080/"
        },
        "id": "k5-1EvxbOOWX",
        "outputId": "05589d8a-56f1-4798-92d8-43ea326f576c"
      },
      "source": [
        "DATA_PATH = CUR_DIR / 'omniglot/python'\n",
        "DATA_PATH"
      ],
      "execution_count": 4,
      "outputs": [
        {
          "output_type": "execute_result",
          "data": {
            "text/plain": [
              "PosixPath('/content/omniglot/python')"
            ]
          },
          "metadata": {},
          "execution_count": 4
        }
      ]
    },
    {
      "cell_type": "code",
      "metadata": {
        "colab": {
          "base_uri": "https://localhost:8080/"
        },
        "id": "zz1Bz6jtOQ63",
        "outputId": "d1af8333-3ced-400c-92f1-215ac2919c0a"
      },
      "source": [
        "BACKGROUND = DATA_PATH / 'images_background'\n",
        "EVALUATION = DATA_PATH / 'images_evaluation'\n",
        "print(BACKGROUND)\n",
        "print(EVALUATION)"
      ],
      "execution_count": 5,
      "outputs": [
        {
          "output_type": "stream",
          "name": "stdout",
          "text": [
            "/content/omniglot/python/images_background\n",
            "/content/omniglot/python/images_evaluation\n"
          ]
        }
      ]
    },
    {
      "cell_type": "code",
      "metadata": {
        "colab": {
          "base_uri": "https://localhost:8080/"
        },
        "id": "6y4HN_VPOVvr",
        "outputId": "ff874210-52ce-4b36-e68d-aea1d50dea68"
      },
      "source": [
        "backgrounds = [x for x in glob.glob(os.path.join(BACKGROUND, '*'))]\n",
        "evaluations = [x for x in glob.glob(os.path.join(EVALUATION, '*'))]\n",
        "print(len(backgrounds))\n",
        "print(len(evaluations))"
      ],
      "execution_count": 6,
      "outputs": [
        {
          "output_type": "stream",
          "name": "stdout",
          "text": [
            "30\n",
            "20\n"
          ]
        }
      ]
    },
    {
      "cell_type": "code",
      "metadata": {
        "colab": {
          "base_uri": "https://localhost:8080/"
        },
        "id": "d2M00CXAOZCu",
        "outputId": "80d3d441-1c4f-4ca6-8d17-f358e4213ddd"
      },
      "source": [
        "pick_10 = list(np.random.choice(evaluations, size=10, replace=False))\n",
        "print(len(pick_10))\n",
        "\n",
        "backgrounds += pick_10\n",
        "print(len(backgrounds))\n",
        "\n",
        "evaluations = [x for x in evaluations if x not in pick_10]\n",
        "print(len(evaluations))"
      ],
      "execution_count": 7,
      "outputs": [
        {
          "output_type": "stream",
          "name": "stdout",
          "text": [
            "10\n",
            "40\n",
            "10\n"
          ]
        }
      ]
    },
    {
      "cell_type": "code",
      "metadata": {
        "id": "4_nKGkvLOeKu"
      },
      "source": [
        "SEED = 42"
      ],
      "execution_count": 8,
      "outputs": []
    },
    {
      "cell_type": "code",
      "metadata": {
        "id": "K4Uz9tj6Of-4"
      },
      "source": [
        "import torch\n",
        "from torch.utils.data import Dataset, DataLoader\n",
        "import torchvision.datasets as dset\n",
        "from torchvision import transforms\n",
        "from PIL import Image"
      ],
      "execution_count": 9,
      "outputs": []
    },
    {
      "cell_type": "code",
      "metadata": {
        "id": "0pFNZTg5OhMw"
      },
      "source": [
        "class TrainDataset(Dataset):\n",
        "    def __init__(self, path_list, transform=None):\n",
        "        super(TrainDataset, self).__init__()\n",
        "        np.random.seed(SEED)\n",
        "    \n",
        "        self.transform = transform\n",
        "        self.data, self.n_classes, self.len = self.load_data(path_list)\n",
        "        \n",
        "    def load_data(self, path_list):\n",
        "        print('Start loading the data')\n",
        "        data = {}\n",
        "        idx, elements = 0, 0\n",
        "        for path in path_list:\n",
        "            #print(path)\n",
        "            for char_path in os.listdir(path):\n",
        "                if isinstance(char_path, bytes):\n",
        "                    char_path = char_path.decode('utf-8')\n",
        "                #print(char_path, type(char_path))\n",
        "                data[idx] = []\n",
        "                for img_path in os.listdir(os.path.join(path, char_path)):\n",
        "                    img = os.path.join(path, char_path, img_path)\n",
        "                    data[idx].append(Image.open(img).convert('L'))\n",
        "                elements += len(data[idx])\n",
        "                idx += 1\n",
        "        print('Complete the loading')\n",
        "        return data, idx, elements\n",
        "    \n",
        "    def __len__(self):\n",
        "        return self.len\n",
        "    \n",
        "    def __getitem__(self, idx):\n",
        "        label, img1, img2 = None, None, None\n",
        "        \n",
        "        # get two images from \"same\" class\n",
        "        if idx % 2 == 1:\n",
        "            label = 1 # same\n",
        "            idx1 = random.randint(0, self.n_classes - 1)\n",
        "            img1 = random.choice(self.data[idx1])\n",
        "            img2 = random.choice(self.data[idx1])\n",
        "    \n",
        "        # get two images from \"different\" class\n",
        "        else:\n",
        "            label = 0 # different\n",
        "            idx1 = random.randint(0, self.n_classes - 1)\n",
        "            idx2 = random.randint(0, self.n_classes - 1)\n",
        "            \n",
        "            # idx1 and idx2 must be different\n",
        "            while idx1 == idx2:\n",
        "                idx2 = random.randint(0, self.n_classes - 1)\n",
        "            img1 = random.choice(self.data[idx1])\n",
        "            img2 = random.choice(self.data[idx2])\n",
        "        \n",
        "        # transform the data if exists\n",
        "        if self.transform:\n",
        "            img1 = self.transform(img1)\n",
        "            img2 = self.transform(img2)\n",
        "        return img1, img2, torch.from_numpy(np.array([label], dtype=np.float32))\n",
        "            "
      ],
      "execution_count": 10,
      "outputs": []
    },
    {
      "cell_type": "code",
      "metadata": {
        "id": "tSKAy7qNOiuo"
      },
      "source": [
        "class TestDataset(Dataset):\n",
        "    def __init__(self, path_list, transform=None, times=200, way=20):\n",
        "        super(TestDataset, self).__init__()\n",
        "        np.random.seed(SEED + 1)\n",
        "    \n",
        "        self.transform = transform\n",
        "        self.times = times\n",
        "        self.way = way\n",
        "        self.img1 = None\n",
        "        self.c1 = None\n",
        "        self.data, self.n_classes, self.len = self.load_data(path_list)\n",
        "        \n",
        "    def load_data(self, path_list):\n",
        "        print('Start loading the data')\n",
        "        data = {}\n",
        "        idx, elements = 0, 0\n",
        "        for path in path_list:\n",
        "            for char_path in os.listdir(path):\n",
        "                data[idx] = []\n",
        "                for img_path in os.listdir(os.path.join(path, char_path)):\n",
        "                    img = os.path.join(path, char_path, img_path)\n",
        "                    data[idx].append(Image.open(img).convert('L'))\n",
        "                elements += len(data[idx])\n",
        "                idx += 1\n",
        "        print('Complete the loading')\n",
        "        return data, idx, elements\n",
        "    \n",
        "    def __len__(self):\n",
        "        return self.len\n",
        "        #return self.times * self.way\n",
        "    \n",
        "    def __getitem__(self, idx):\n",
        "        i = idx % self.way\n",
        "        label = None\n",
        "        if i == 0:\n",
        "            self.c1 = random.randint(0, self.n_classes - 1)\n",
        "            self.img1 = random.choice(self.data[self.c1])\n",
        "            img2 = random.choice(self.data[self.c1])\n",
        "            label = 1\n",
        "        else:\n",
        "            c2 = random.randint(0, self.n_classes - 1)\n",
        "            while self.c1 == c2:\n",
        "                c2 = random.randint(0, self.n_classes - 1)\n",
        "            img2 = random.choice(self.data[c2])\n",
        "            label = 0\n",
        "            \n",
        "        if self.transform:\n",
        "            img1 = self.transform(self.img1)\n",
        "            img2 = self.transform(img2)\n",
        "            \n",
        "        return img1, img2, torch.from_numpy(np.array([label], dtype=np.float32))\n",
        "            "
      ],
      "execution_count": 34,
      "outputs": []
    },
    {
      "cell_type": "code",
      "metadata": {
        "colab": {
          "base_uri": "https://localhost:8080/"
        },
        "id": "lywxBhcjOj79",
        "outputId": "0dfe1d7e-de5d-4b65-ad94-415be3e5fb80"
      },
      "source": [
        "transform_dataset = transforms.Compose([\n",
        "    transforms.RandomAffine(10),\n",
        "    transforms.ToTensor(),\n",
        "])\n",
        "\n",
        "train_set = TrainDataset(backgrounds, transform=transform_dataset)\n",
        "test_set = TestDataset(evaluations, transform=transforms.ToTensor())"
      ],
      "execution_count": 35,
      "outputs": [
        {
          "output_type": "stream",
          "name": "stdout",
          "text": [
            "Start loading the data\n",
            "Complete the loading\n",
            "Start loading the data\n",
            "Complete the loading\n"
          ]
        }
      ]
    },
    {
      "cell_type": "code",
      "metadata": {
        "id": "RTTNT7G8WDZf"
      },
      "source": [
        "BATCH_SIZE = 32\n",
        "TIMES = 400\n",
        "WAY = 20\n",
        "\n",
        "train_loader = DataLoader(train_set, \n",
        "                          batch_size=BATCH_SIZE,\n",
        "                          shuffle=False,\n",
        "                          )\n",
        "test_loader = DataLoader(test_set,\n",
        "                         batch_size=WAY,\n",
        "                         shuffle=False,\n",
        "                        )"
      ],
      "execution_count": 36,
      "outputs": []
    },
    {
      "cell_type": "code",
      "metadata": {
        "id": "qskM98ktUu1V"
      },
      "source": [
        "import torch.nn as nn\n",
        "import torch.nn.functional as F\n",
        "\n",
        "class SiameseNet(nn.Module):\n",
        "    def __init__(self):\n",
        "        super(SiameseNet, self).__init__()\n",
        "        self.conv = nn.Sequential(\n",
        "                nn.Conv2d(1, 64, 10),  # 64@96*96\n",
        "                nn.ReLU(inplace=True),\n",
        "                nn.MaxPool2d(2),  # 64@48*48\n",
        "                \n",
        "                nn.Conv2d(64, 128, 7),\n",
        "                nn.ReLU(),    # 128@42*42\n",
        "                nn.MaxPool2d(2),   # 128@21*21\n",
        "                \n",
        "                nn.Conv2d(128, 128, 4),\n",
        "                nn.ReLU(), # 128@18*18\n",
        "                nn.MaxPool2d(2), # 128@9*9\n",
        "                \n",
        "                nn.Conv2d(128, 256, 4),\n",
        "                nn.ReLU(),   # 256@6*6\n",
        "            )\n",
        "        self.linear = nn.Sequential(nn.Linear(9216, 4096), nn.Sigmoid())\n",
        "        self.out = nn.Linear(4096, 1)\n",
        "        \n",
        "    def forward_1(self, x):\n",
        "        x = self.conv(x)\n",
        "        x = x.view(x.size()[0], -1)\n",
        "        x = self.linear(x)\n",
        "        return x\n",
        "    \n",
        "    def forward(self, x1, x2):\n",
        "        out1 = self.forward_1(x1)\n",
        "        out2 = self.forward_1(x2)\n",
        "        L1_dist = torch.abs(out1 - out2)\n",
        "        out = self.out(L1_dist)\n",
        "        return out"
      ],
      "execution_count": 37,
      "outputs": []
    },
    {
      "cell_type": "code",
      "metadata": {
        "colab": {
          "base_uri": "https://localhost:8080/"
        },
        "id": "tj_dDeJdVe49",
        "outputId": "1ac313b7-686a-48ec-be51-a3aacfef337e"
      },
      "source": [
        "is_cuda = torch.cuda.is_available()\n",
        "is_cuda"
      ],
      "execution_count": 38,
      "outputs": [
        {
          "output_type": "execute_result",
          "data": {
            "text/plain": [
              "True"
            ]
          },
          "metadata": {},
          "execution_count": 38
        }
      ]
    },
    {
      "cell_type": "code",
      "metadata": {
        "id": "JqtBzwMIZF6k"
      },
      "source": [
        "import matplotlib.pyplot as plt\n",
        "import seaborn as sns"
      ],
      "execution_count": 39,
      "outputs": []
    },
    {
      "cell_type": "code",
      "metadata": {
        "colab": {
          "base_uri": "https://localhost:8080/",
          "height": 1000
        },
        "id": "PaWOoCC3VU1Y",
        "outputId": "8c5bc799-9a5c-433f-97d7-29a75443badd"
      },
      "source": [
        "import time\n",
        "from fastprogress import progress_bar\n",
        "import datetime\n",
        "\n",
        "\n",
        "model = SiameseNet()\n",
        "if is_cuda:\n",
        "    model.cuda()\n",
        "\n",
        "criterion = nn.BCEWithLogitsLoss(size_average=True)\n",
        "# optimizer = torch.optim.Adam(model.parameters(), lr=0.001)\n",
        "# scheduler = torch.optim.lr_scheduler.ReduceLROnPlateau(optimizer, \n",
        "#                                                        'min', \n",
        "#                                                         patience=10)\n",
        "\n",
        "EPOCHS = 100\n",
        "SHOW_EVERY = 50\n",
        "TEST_EVERY = 50\n",
        "LR = 0.001\n",
        "\n",
        "train_loss = []\n",
        "loss_val = 0\n",
        "\n",
        "time_start = time.time()\n",
        "for epoch in progress_bar(range(1, EPOCHS + 1)):\n",
        "    optimizer = torch.optim.Adam(model.parameters(), lr=LR)\n",
        "    scheduler = torch.optim.lr_scheduler.ReduceLROnPlateau(optimizer, \n",
        "                                                       'min', \n",
        "                                                        patience=10)    \n",
        "    train_loss = []\n",
        "    time_start = time.time()\n",
        "    for batch, (img1, img2, label) in enumerate(progress_bar(train_loader), 1):\n",
        "        #print(batch)\n",
        "        model.train()\n",
        "        optimizer.zero_grad()\n",
        "        if is_cuda:\n",
        "            img1, img2, label = img1.cuda(), img2.cuda(), label.cuda()\n",
        "        output = model.forward(img1, img2)\n",
        "        loss = criterion(output, label)\n",
        "        train_loss.append(loss.item())\n",
        "        loss_val += loss.item()\n",
        "        \n",
        "        loss.backward()\n",
        "        optimizer.step()\n",
        "        \n",
        "        if batch % SHOW_EVERY == 0:\n",
        "            print(f'[{epoch}][{batch}] Loss: {loss_val / SHOW_EVERY:.4f}, time_lapsed: {time.time() - time_start:.4f}')\n",
        "            loss_val = 0\n",
        "            time_start = time.time()\n",
        "        \n",
        "    # per-epoch\n",
        "    model.eval()\n",
        "    test_loss = 0\n",
        "    correct, wrong = 0, 0\n",
        "    \n",
        "    with torch.no_grad():\n",
        "        for (img1, img2, label) in progress_bar(test_loader):\n",
        "            if is_cuda:\n",
        "                img1, img2, label = img1.cuda(), img2.cuda(), label.cuda()\n",
        "            output = model(img1, img2) #.data.cpu().numpy()\n",
        "            test_loss += criterion(output, label)\n",
        "            output = output.data.cpu().numpy()\n",
        "            pred = np.argmax(output)\n",
        "            if pred == 0:\n",
        "                correct += 1\n",
        "            else:\n",
        "                wrong += 1\n",
        "    \n",
        "    print('*' * 50)\n",
        "    acc = correct / (correct + wrong)\n",
        "    test_loss /= len(test_loader)\n",
        "    print(f'[{epoch}]| Test Loss: {test_loss:.4f}, correct: {correct}, wrong: {wrong}, accuracy: {acc:.4f}')\n",
        "    print('*' * 50)\n",
        "    #scheduler.step(test_loss)\n",
        "    LR = LR * 0.99\n"
      ],
      "execution_count": null,
      "outputs": [
        {
          "output_type": "stream",
          "name": "stderr",
          "text": [
            "/usr/local/lib/python3.7/dist-packages/torch/nn/_reduction.py:42: UserWarning: size_average and reduce args will be deprecated, please use reduction='mean' instead.\n",
            "  warnings.warn(warning.format(ret))\n"
          ]
        },
        {
          "output_type": "display_data",
          "data": {
            "text/html": [
              "\n",
              "    <div>\n",
              "        <style>\n",
              "            /* Turns off some styling */\n",
              "            progress {\n",
              "                /* gets rid of default border in Firefox and Opera. */\n",
              "                border: none;\n",
              "                /* Needs to be in here for Safari polyfill so background images work as expected. */\n",
              "                background-size: auto;\n",
              "            }\n",
              "            .progress-bar-interrupted, .progress-bar-interrupted::-webkit-progress-bar {\n",
              "                background: #F44336;\n",
              "            }\n",
              "        </style>\n",
              "      <progress value='57' class='' max='100' style='width:300px; height:20px; vertical-align: middle;'></progress>\n",
              "      57.00% [57/100 2:44:16<2:03:55]\n",
              "    </div>\n",
              "    "
            ],
            "text/plain": [
              "<IPython.core.display.HTML object>"
            ]
          },
          "metadata": {}
        },
        {
          "output_type": "display_data",
          "data": {
            "text/html": [
              "\n",
              "    <div>\n",
              "        <style>\n",
              "            /* Turns off some styling */\n",
              "            progress {\n",
              "                /* gets rid of default border in Firefox and Opera. */\n",
              "                border: none;\n",
              "                /* Needs to be in here for Safari polyfill so background images work as expected. */\n",
              "                background-size: auto;\n",
              "            }\n",
              "            .progress-bar-interrupted, .progress-bar-interrupted::-webkit-progress-bar {\n",
              "                background: #F44336;\n",
              "            }\n",
              "        </style>\n",
              "      <progress value='807' class='' max='807' style='width:300px; height:20px; vertical-align: middle;'></progress>\n",
              "      100.00% [807/807 02:34<00:00]\n",
              "    </div>\n",
              "    "
            ],
            "text/plain": [
              "<IPython.core.display.HTML object>"
            ]
          },
          "metadata": {}
        },
        {
          "output_type": "stream",
          "name": "stdout",
          "text": [
            "[1][50] Loss: 0.6413, time_lapsed: 9.5927\n",
            "[1][100] Loss: 0.6308, time_lapsed: 9.5114\n",
            "[1][150] Loss: 0.5881, time_lapsed: 9.5144\n",
            "[1][200] Loss: 0.5633, time_lapsed: 9.5190\n",
            "[1][250] Loss: 0.5648, time_lapsed: 9.5346\n",
            "[1][300] Loss: 0.5424, time_lapsed: 9.5375\n",
            "[1][350] Loss: 0.5516, time_lapsed: 9.5476\n",
            "[1][400] Loss: 0.4967, time_lapsed: 9.5421\n",
            "[1][450] Loss: 0.5274, time_lapsed: 9.5410\n",
            "[1][500] Loss: 0.5034, time_lapsed: 9.5482\n",
            "[1][550] Loss: 0.4891, time_lapsed: 9.5481\n",
            "[1][600] Loss: 0.4687, time_lapsed: 9.5552\n",
            "[1][650] Loss: 0.4647, time_lapsed: 9.5615\n",
            "[1][700] Loss: 0.4574, time_lapsed: 9.5756\n",
            "[1][750] Loss: 0.4571, time_lapsed: 9.5715\n",
            "[1][800] Loss: 0.4548, time_lapsed: 9.5646\n"
          ]
        },
        {
          "output_type": "display_data",
          "data": {
            "text/html": [
              "\n",
              "    <div>\n",
              "        <style>\n",
              "            /* Turns off some styling */\n",
              "            progress {\n",
              "                /* gets rid of default border in Firefox and Opera. */\n",
              "                border: none;\n",
              "                /* Needs to be in here for Safari polyfill so background images work as expected. */\n",
              "                background-size: auto;\n",
              "            }\n",
              "            .progress-bar-interrupted, .progress-bar-interrupted::-webkit-progress-bar {\n",
              "                background: #F44336;\n",
              "            }\n",
              "        </style>\n",
              "      <progress value='333' class='' max='333' style='width:300px; height:20px; vertical-align: middle;'></progress>\n",
              "      100.00% [333/333 00:19<00:00]\n",
              "    </div>\n",
              "    "
            ],
            "text/plain": [
              "<IPython.core.display.HTML object>"
            ]
          },
          "metadata": {}
        },
        {
          "output_type": "stream",
          "name": "stdout",
          "text": [
            "**************************************************\n",
            "[1]| Test Loss: 0.5281, correct: 98, wrong: 235, accuracy: 0.2943\n",
            "**************************************************\n"
          ]
        },
        {
          "output_type": "display_data",
          "data": {
            "text/html": [
              "\n",
              "    <div>\n",
              "        <style>\n",
              "            /* Turns off some styling */\n",
              "            progress {\n",
              "                /* gets rid of default border in Firefox and Opera. */\n",
              "                border: none;\n",
              "                /* Needs to be in here for Safari polyfill so background images work as expected. */\n",
              "                background-size: auto;\n",
              "            }\n",
              "            .progress-bar-interrupted, .progress-bar-interrupted::-webkit-progress-bar {\n",
              "                background: #F44336;\n",
              "            }\n",
              "        </style>\n",
              "      <progress value='807' class='' max='807' style='width:300px; height:20px; vertical-align: middle;'></progress>\n",
              "      100.00% [807/807 02:33<00:00]\n",
              "    </div>\n",
              "    "
            ],
            "text/plain": [
              "<IPython.core.display.HTML object>"
            ]
          },
          "metadata": {}
        },
        {
          "output_type": "stream",
          "name": "stdout",
          "text": [
            "[2][50] Loss: 0.4801, time_lapsed: 9.4519\n",
            "[2][100] Loss: 0.3994, time_lapsed: 9.5476\n",
            "[2][150] Loss: 0.4243, time_lapsed: 9.5427\n",
            "[2][200] Loss: 0.4211, time_lapsed: 9.5464\n",
            "[2][250] Loss: 0.3986, time_lapsed: 9.5541\n",
            "[2][300] Loss: 0.3835, time_lapsed: 9.5476\n",
            "[2][350] Loss: 0.3859, time_lapsed: 9.5432\n",
            "[2][400] Loss: 0.3623, time_lapsed: 9.5451\n",
            "[2][450] Loss: 0.3636, time_lapsed: 9.5464\n",
            "[2][500] Loss: 0.3562, time_lapsed: 9.5465\n",
            "[2][550] Loss: 0.3533, time_lapsed: 9.5397\n",
            "[2][600] Loss: 0.3524, time_lapsed: 9.5372\n",
            "[2][650] Loss: 0.3539, time_lapsed: 9.5474\n",
            "[2][700] Loss: 0.3345, time_lapsed: 9.5504\n",
            "[2][750] Loss: 0.3190, time_lapsed: 9.5544\n",
            "[2][800] Loss: 0.3014, time_lapsed: 9.5446\n"
          ]
        },
        {
          "output_type": "display_data",
          "data": {
            "text/html": [
              "\n",
              "    <div>\n",
              "        <style>\n",
              "            /* Turns off some styling */\n",
              "            progress {\n",
              "                /* gets rid of default border in Firefox and Opera. */\n",
              "                border: none;\n",
              "                /* Needs to be in here for Safari polyfill so background images work as expected. */\n",
              "                background-size: auto;\n",
              "            }\n",
              "            .progress-bar-interrupted, .progress-bar-interrupted::-webkit-progress-bar {\n",
              "                background: #F44336;\n",
              "            }\n",
              "        </style>\n",
              "      <progress value='333' class='' max='333' style='width:300px; height:20px; vertical-align: middle;'></progress>\n",
              "      100.00% [333/333 00:19<00:00]\n",
              "    </div>\n",
              "    "
            ],
            "text/plain": [
              "<IPython.core.display.HTML object>"
            ]
          },
          "metadata": {}
        },
        {
          "output_type": "stream",
          "name": "stdout",
          "text": [
            "**************************************************\n",
            "[2]| Test Loss: 0.4360, correct: 165, wrong: 168, accuracy: 0.4955\n",
            "**************************************************\n"
          ]
        },
        {
          "output_type": "display_data",
          "data": {
            "text/html": [
              "\n",
              "    <div>\n",
              "        <style>\n",
              "            /* Turns off some styling */\n",
              "            progress {\n",
              "                /* gets rid of default border in Firefox and Opera. */\n",
              "                border: none;\n",
              "                /* Needs to be in here for Safari polyfill so background images work as expected. */\n",
              "                background-size: auto;\n",
              "            }\n",
              "            .progress-bar-interrupted, .progress-bar-interrupted::-webkit-progress-bar {\n",
              "                background: #F44336;\n",
              "            }\n",
              "        </style>\n",
              "      <progress value='807' class='' max='807' style='width:300px; height:20px; vertical-align: middle;'></progress>\n",
              "      100.00% [807/807 02:33<00:00]\n",
              "    </div>\n",
              "    "
            ],
            "text/plain": [
              "<IPython.core.display.HTML object>"
            ]
          },
          "metadata": {}
        },
        {
          "output_type": "stream",
          "name": "stdout",
          "text": [
            "[3][50] Loss: 0.3442, time_lapsed: 9.4331\n",
            "[3][100] Loss: 0.2838, time_lapsed: 9.5248\n",
            "[3][150] Loss: 0.3028, time_lapsed: 9.5303\n",
            "[3][200] Loss: 0.3186, time_lapsed: 9.5372\n",
            "[3][250] Loss: 0.2990, time_lapsed: 9.5355\n",
            "[3][300] Loss: 0.2734, time_lapsed: 9.5245\n",
            "[3][350] Loss: 0.2710, time_lapsed: 9.5340\n",
            "[3][400] Loss: 0.2758, time_lapsed: 9.5293\n",
            "[3][450] Loss: 0.2726, time_lapsed: 9.5385\n",
            "[3][500] Loss: 0.2676, time_lapsed: 9.5280\n",
            "[3][550] Loss: 0.2267, time_lapsed: 9.5212\n",
            "[3][600] Loss: 0.2615, time_lapsed: 9.5233\n",
            "[3][650] Loss: 0.2770, time_lapsed: 9.5267\n",
            "[3][700] Loss: 0.2462, time_lapsed: 9.5309\n",
            "[3][750] Loss: 0.2705, time_lapsed: 9.5260\n",
            "[3][800] Loss: 0.2440, time_lapsed: 9.5259\n"
          ]
        },
        {
          "output_type": "display_data",
          "data": {
            "text/html": [
              "\n",
              "    <div>\n",
              "        <style>\n",
              "            /* Turns off some styling */\n",
              "            progress {\n",
              "                /* gets rid of default border in Firefox and Opera. */\n",
              "                border: none;\n",
              "                /* Needs to be in here for Safari polyfill so background images work as expected. */\n",
              "                background-size: auto;\n",
              "            }\n",
              "            .progress-bar-interrupted, .progress-bar-interrupted::-webkit-progress-bar {\n",
              "                background: #F44336;\n",
              "            }\n",
              "        </style>\n",
              "      <progress value='333' class='' max='333' style='width:300px; height:20px; vertical-align: middle;'></progress>\n",
              "      100.00% [333/333 00:19<00:00]\n",
              "    </div>\n",
              "    "
            ],
            "text/plain": [
              "<IPython.core.display.HTML object>"
            ]
          },
          "metadata": {}
        },
        {
          "output_type": "stream",
          "name": "stdout",
          "text": [
            "**************************************************\n",
            "[3]| Test Loss: 0.1912, correct: 194, wrong: 139, accuracy: 0.5826\n",
            "**************************************************\n"
          ]
        },
        {
          "output_type": "display_data",
          "data": {
            "text/html": [
              "\n",
              "    <div>\n",
              "        <style>\n",
              "            /* Turns off some styling */\n",
              "            progress {\n",
              "                /* gets rid of default border in Firefox and Opera. */\n",
              "                border: none;\n",
              "                /* Needs to be in here for Safari polyfill so background images work as expected. */\n",
              "                background-size: auto;\n",
              "            }\n",
              "            .progress-bar-interrupted, .progress-bar-interrupted::-webkit-progress-bar {\n",
              "                background: #F44336;\n",
              "            }\n",
              "        </style>\n",
              "      <progress value='807' class='' max='807' style='width:300px; height:20px; vertical-align: middle;'></progress>\n",
              "      100.00% [807/807 02:33<00:00]\n",
              "    </div>\n",
              "    "
            ],
            "text/plain": [
              "<IPython.core.display.HTML object>"
            ]
          },
          "metadata": {}
        },
        {
          "output_type": "stream",
          "name": "stdout",
          "text": [
            "[4][50] Loss: 0.3049, time_lapsed: 9.4262\n",
            "[4][100] Loss: 0.2647, time_lapsed: 9.5291\n",
            "[4][150] Loss: 0.2417, time_lapsed: 9.5247\n",
            "[4][200] Loss: 0.2526, time_lapsed: 9.5299\n",
            "[4][250] Loss: 0.2359, time_lapsed: 9.5279\n",
            "[4][300] Loss: 0.2186, time_lapsed: 9.5247\n",
            "[4][350] Loss: 0.2564, time_lapsed: 9.5282\n",
            "[4][400] Loss: 0.2298, time_lapsed: 9.5247\n",
            "[4][450] Loss: 0.2184, time_lapsed: 9.5245\n",
            "[4][500] Loss: 0.2293, time_lapsed: 9.5319\n",
            "[4][550] Loss: 0.2335, time_lapsed: 9.5263\n",
            "[4][600] Loss: 0.2220, time_lapsed: 9.5282\n",
            "[4][650] Loss: 0.2289, time_lapsed: 9.5313\n",
            "[4][700] Loss: 0.2268, time_lapsed: 9.5295\n",
            "[4][750] Loss: 0.2065, time_lapsed: 9.5257\n",
            "[4][800] Loss: 0.1987, time_lapsed: 9.5310\n"
          ]
        },
        {
          "output_type": "display_data",
          "data": {
            "text/html": [
              "\n",
              "    <div>\n",
              "        <style>\n",
              "            /* Turns off some styling */\n",
              "            progress {\n",
              "                /* gets rid of default border in Firefox and Opera. */\n",
              "                border: none;\n",
              "                /* Needs to be in here for Safari polyfill so background images work as expected. */\n",
              "                background-size: auto;\n",
              "            }\n",
              "            .progress-bar-interrupted, .progress-bar-interrupted::-webkit-progress-bar {\n",
              "                background: #F44336;\n",
              "            }\n",
              "        </style>\n",
              "      <progress value='333' class='' max='333' style='width:300px; height:20px; vertical-align: middle;'></progress>\n",
              "      100.00% [333/333 00:19<00:00]\n",
              "    </div>\n",
              "    "
            ],
            "text/plain": [
              "<IPython.core.display.HTML object>"
            ]
          },
          "metadata": {}
        },
        {
          "output_type": "stream",
          "name": "stdout",
          "text": [
            "**************************************************\n",
            "[4]| Test Loss: 0.2024, correct: 230, wrong: 103, accuracy: 0.6907\n",
            "**************************************************\n"
          ]
        },
        {
          "output_type": "display_data",
          "data": {
            "text/html": [
              "\n",
              "    <div>\n",
              "        <style>\n",
              "            /* Turns off some styling */\n",
              "            progress {\n",
              "                /* gets rid of default border in Firefox and Opera. */\n",
              "                border: none;\n",
              "                /* Needs to be in here for Safari polyfill so background images work as expected. */\n",
              "                background-size: auto;\n",
              "            }\n",
              "            .progress-bar-interrupted, .progress-bar-interrupted::-webkit-progress-bar {\n",
              "                background: #F44336;\n",
              "            }\n",
              "        </style>\n",
              "      <progress value='807' class='' max='807' style='width:300px; height:20px; vertical-align: middle;'></progress>\n",
              "      100.00% [807/807 02:33<00:00]\n",
              "    </div>\n",
              "    "
            ],
            "text/plain": [
              "<IPython.core.display.HTML object>"
            ]
          },
          "metadata": {}
        },
        {
          "output_type": "stream",
          "name": "stdout",
          "text": [
            "[5][50] Loss: 0.2614, time_lapsed: 9.4303\n",
            "[5][100] Loss: 0.2393, time_lapsed: 9.5225\n",
            "[5][150] Loss: 0.1929, time_lapsed: 9.5208\n",
            "[5][200] Loss: 0.2251, time_lapsed: 9.5224\n",
            "[5][250] Loss: 0.2067, time_lapsed: 9.5221\n",
            "[5][300] Loss: 0.2110, time_lapsed: 9.5267\n",
            "[5][350] Loss: 0.2022, time_lapsed: 9.5310\n",
            "[5][400] Loss: 0.2251, time_lapsed: 9.5202\n",
            "[5][450] Loss: 0.2036, time_lapsed: 9.5292\n",
            "[5][500] Loss: 0.2039, time_lapsed: 9.5265\n",
            "[5][550] Loss: 0.2023, time_lapsed: 9.5250\n",
            "[5][600] Loss: 0.1906, time_lapsed: 9.5244\n",
            "[5][650] Loss: 0.2125, time_lapsed: 9.5277\n",
            "[5][700] Loss: 0.2070, time_lapsed: 9.5329\n",
            "[5][750] Loss: 0.1966, time_lapsed: 9.5259\n",
            "[5][800] Loss: 0.1965, time_lapsed: 9.5251\n"
          ]
        },
        {
          "output_type": "display_data",
          "data": {
            "text/html": [
              "\n",
              "    <div>\n",
              "        <style>\n",
              "            /* Turns off some styling */\n",
              "            progress {\n",
              "                /* gets rid of default border in Firefox and Opera. */\n",
              "                border: none;\n",
              "                /* Needs to be in here for Safari polyfill so background images work as expected. */\n",
              "                background-size: auto;\n",
              "            }\n",
              "            .progress-bar-interrupted, .progress-bar-interrupted::-webkit-progress-bar {\n",
              "                background: #F44336;\n",
              "            }\n",
              "        </style>\n",
              "      <progress value='333' class='' max='333' style='width:300px; height:20px; vertical-align: middle;'></progress>\n",
              "      100.00% [333/333 00:19<00:00]\n",
              "    </div>\n",
              "    "
            ],
            "text/plain": [
              "<IPython.core.display.HTML object>"
            ]
          },
          "metadata": {}
        },
        {
          "output_type": "stream",
          "name": "stdout",
          "text": [
            "**************************************************\n",
            "[5]| Test Loss: 0.2258, correct: 236, wrong: 97, accuracy: 0.7087\n",
            "**************************************************\n"
          ]
        },
        {
          "output_type": "display_data",
          "data": {
            "text/html": [
              "\n",
              "    <div>\n",
              "        <style>\n",
              "            /* Turns off some styling */\n",
              "            progress {\n",
              "                /* gets rid of default border in Firefox and Opera. */\n",
              "                border: none;\n",
              "                /* Needs to be in here for Safari polyfill so background images work as expected. */\n",
              "                background-size: auto;\n",
              "            }\n",
              "            .progress-bar-interrupted, .progress-bar-interrupted::-webkit-progress-bar {\n",
              "                background: #F44336;\n",
              "            }\n",
              "        </style>\n",
              "      <progress value='807' class='' max='807' style='width:300px; height:20px; vertical-align: middle;'></progress>\n",
              "      100.00% [807/807 02:33<00:00]\n",
              "    </div>\n",
              "    "
            ],
            "text/plain": [
              "<IPython.core.display.HTML object>"
            ]
          },
          "metadata": {}
        },
        {
          "output_type": "stream",
          "name": "stdout",
          "text": [
            "[6][50] Loss: 0.2185, time_lapsed: 9.4327\n",
            "[6][100] Loss: 0.1776, time_lapsed: 9.5266\n",
            "[6][150] Loss: 0.1992, time_lapsed: 9.5226\n",
            "[6][200] Loss: 0.2134, time_lapsed: 9.5242\n",
            "[6][250] Loss: 0.1931, time_lapsed: 9.5294\n",
            "[6][300] Loss: 0.2111, time_lapsed: 9.5271\n",
            "[6][350] Loss: 0.2144, time_lapsed: 9.5219\n",
            "[6][400] Loss: 0.1898, time_lapsed: 9.5262\n",
            "[6][450] Loss: 0.1743, time_lapsed: 9.5221\n",
            "[6][500] Loss: 0.1896, time_lapsed: 9.5270\n",
            "[6][550] Loss: 0.1769, time_lapsed: 9.5303\n",
            "[6][600] Loss: 0.1991, time_lapsed: 9.5213\n",
            "[6][650] Loss: 0.1846, time_lapsed: 9.5217\n",
            "[6][700] Loss: 0.1990, time_lapsed: 9.5224\n",
            "[6][750] Loss: 0.1853, time_lapsed: 9.5269\n",
            "[6][800] Loss: 0.1867, time_lapsed: 9.5229\n"
          ]
        },
        {
          "output_type": "display_data",
          "data": {
            "text/html": [
              "\n",
              "    <div>\n",
              "        <style>\n",
              "            /* Turns off some styling */\n",
              "            progress {\n",
              "                /* gets rid of default border in Firefox and Opera. */\n",
              "                border: none;\n",
              "                /* Needs to be in here for Safari polyfill so background images work as expected. */\n",
              "                background-size: auto;\n",
              "            }\n",
              "            .progress-bar-interrupted, .progress-bar-interrupted::-webkit-progress-bar {\n",
              "                background: #F44336;\n",
              "            }\n",
              "        </style>\n",
              "      <progress value='333' class='' max='333' style='width:300px; height:20px; vertical-align: middle;'></progress>\n",
              "      100.00% [333/333 00:19<00:00]\n",
              "    </div>\n",
              "    "
            ],
            "text/plain": [
              "<IPython.core.display.HTML object>"
            ]
          },
          "metadata": {}
        },
        {
          "output_type": "stream",
          "name": "stdout",
          "text": [
            "**************************************************\n",
            "[6]| Test Loss: 0.2621, correct: 245, wrong: 88, accuracy: 0.7357\n",
            "**************************************************\n"
          ]
        },
        {
          "output_type": "display_data",
          "data": {
            "text/html": [
              "\n",
              "    <div>\n",
              "        <style>\n",
              "            /* Turns off some styling */\n",
              "            progress {\n",
              "                /* gets rid of default border in Firefox and Opera. */\n",
              "                border: none;\n",
              "                /* Needs to be in here for Safari polyfill so background images work as expected. */\n",
              "                background-size: auto;\n",
              "            }\n",
              "            .progress-bar-interrupted, .progress-bar-interrupted::-webkit-progress-bar {\n",
              "                background: #F44336;\n",
              "            }\n",
              "        </style>\n",
              "      <progress value='807' class='' max='807' style='width:300px; height:20px; vertical-align: middle;'></progress>\n",
              "      100.00% [807/807 02:33<00:00]\n",
              "    </div>\n",
              "    "
            ],
            "text/plain": [
              "<IPython.core.display.HTML object>"
            ]
          },
          "metadata": {}
        },
        {
          "output_type": "stream",
          "name": "stdout",
          "text": [
            "[7][50] Loss: 0.2096, time_lapsed: 9.4358\n",
            "[7][100] Loss: 0.1589, time_lapsed: 9.5295\n",
            "[7][150] Loss: 0.1662, time_lapsed: 9.5292\n",
            "[7][200] Loss: 0.2171, time_lapsed: 9.5319\n",
            "[7][250] Loss: 0.1672, time_lapsed: 9.5349\n",
            "[7][300] Loss: 0.1842, time_lapsed: 9.5225\n",
            "[7][350] Loss: 0.1596, time_lapsed: 9.5280\n",
            "[7][400] Loss: 0.1895, time_lapsed: 9.5218\n",
            "[7][450] Loss: 0.1695, time_lapsed: 9.5268\n",
            "[7][500] Loss: 0.1605, time_lapsed: 9.5303\n",
            "[7][550] Loss: 0.1611, time_lapsed: 9.5234\n",
            "[7][600] Loss: 0.1595, time_lapsed: 9.5259\n",
            "[7][650] Loss: 0.1736, time_lapsed: 9.5224\n",
            "[7][700] Loss: 0.1665, time_lapsed: 9.5251\n",
            "[7][750] Loss: 0.1729, time_lapsed: 9.5255\n",
            "[7][800] Loss: 0.1560, time_lapsed: 9.5241\n"
          ]
        },
        {
          "output_type": "display_data",
          "data": {
            "text/html": [
              "\n",
              "    <div>\n",
              "        <style>\n",
              "            /* Turns off some styling */\n",
              "            progress {\n",
              "                /* gets rid of default border in Firefox and Opera. */\n",
              "                border: none;\n",
              "                /* Needs to be in here for Safari polyfill so background images work as expected. */\n",
              "                background-size: auto;\n",
              "            }\n",
              "            .progress-bar-interrupted, .progress-bar-interrupted::-webkit-progress-bar {\n",
              "                background: #F44336;\n",
              "            }\n",
              "        </style>\n",
              "      <progress value='333' class='' max='333' style='width:300px; height:20px; vertical-align: middle;'></progress>\n",
              "      100.00% [333/333 00:19<00:00]\n",
              "    </div>\n",
              "    "
            ],
            "text/plain": [
              "<IPython.core.display.HTML object>"
            ]
          },
          "metadata": {}
        },
        {
          "output_type": "stream",
          "name": "stdout",
          "text": [
            "**************************************************\n",
            "[7]| Test Loss: 0.1452, correct: 256, wrong: 77, accuracy: 0.7688\n",
            "**************************************************\n"
          ]
        },
        {
          "output_type": "display_data",
          "data": {
            "text/html": [
              "\n",
              "    <div>\n",
              "        <style>\n",
              "            /* Turns off some styling */\n",
              "            progress {\n",
              "                /* gets rid of default border in Firefox and Opera. */\n",
              "                border: none;\n",
              "                /* Needs to be in here for Safari polyfill so background images work as expected. */\n",
              "                background-size: auto;\n",
              "            }\n",
              "            .progress-bar-interrupted, .progress-bar-interrupted::-webkit-progress-bar {\n",
              "                background: #F44336;\n",
              "            }\n",
              "        </style>\n",
              "      <progress value='807' class='' max='807' style='width:300px; height:20px; vertical-align: middle;'></progress>\n",
              "      100.00% [807/807 02:33<00:00]\n",
              "    </div>\n",
              "    "
            ],
            "text/plain": [
              "<IPython.core.display.HTML object>"
            ]
          },
          "metadata": {}
        },
        {
          "output_type": "stream",
          "name": "stdout",
          "text": [
            "[8][50] Loss: 0.2094, time_lapsed: 9.4380\n",
            "[8][100] Loss: 0.1760, time_lapsed: 9.5244\n",
            "[8][150] Loss: 0.1628, time_lapsed: 9.5249\n",
            "[8][200] Loss: 0.1610, time_lapsed: 9.5290\n",
            "[8][250] Loss: 0.1681, time_lapsed: 9.5193\n",
            "[8][300] Loss: 0.1636, time_lapsed: 9.5270\n",
            "[8][350] Loss: 0.1391, time_lapsed: 9.5230\n",
            "[8][400] Loss: 0.1401, time_lapsed: 9.5314\n",
            "[8][450] Loss: 0.1925, time_lapsed: 9.5211\n",
            "[8][500] Loss: 0.1546, time_lapsed: 9.5275\n",
            "[8][550] Loss: 0.1576, time_lapsed: 9.5261\n",
            "[8][600] Loss: 0.1602, time_lapsed: 9.5258\n",
            "[8][650] Loss: 0.1662, time_lapsed: 9.5276\n",
            "[8][700] Loss: 0.1497, time_lapsed: 9.5257\n",
            "[8][750] Loss: 0.1541, time_lapsed: 9.5304\n",
            "[8][800] Loss: 0.1457, time_lapsed: 9.5246\n"
          ]
        },
        {
          "output_type": "display_data",
          "data": {
            "text/html": [
              "\n",
              "    <div>\n",
              "        <style>\n",
              "            /* Turns off some styling */\n",
              "            progress {\n",
              "                /* gets rid of default border in Firefox and Opera. */\n",
              "                border: none;\n",
              "                /* Needs to be in here for Safari polyfill so background images work as expected. */\n",
              "                background-size: auto;\n",
              "            }\n",
              "            .progress-bar-interrupted, .progress-bar-interrupted::-webkit-progress-bar {\n",
              "                background: #F44336;\n",
              "            }\n",
              "        </style>\n",
              "      <progress value='333' class='' max='333' style='width:300px; height:20px; vertical-align: middle;'></progress>\n",
              "      100.00% [333/333 00:19<00:00]\n",
              "    </div>\n",
              "    "
            ],
            "text/plain": [
              "<IPython.core.display.HTML object>"
            ]
          },
          "metadata": {}
        },
        {
          "output_type": "stream",
          "name": "stdout",
          "text": [
            "**************************************************\n",
            "[8]| Test Loss: 0.1980, correct: 253, wrong: 80, accuracy: 0.7598\n",
            "**************************************************\n"
          ]
        },
        {
          "output_type": "display_data",
          "data": {
            "text/html": [
              "\n",
              "    <div>\n",
              "        <style>\n",
              "            /* Turns off some styling */\n",
              "            progress {\n",
              "                /* gets rid of default border in Firefox and Opera. */\n",
              "                border: none;\n",
              "                /* Needs to be in here for Safari polyfill so background images work as expected. */\n",
              "                background-size: auto;\n",
              "            }\n",
              "            .progress-bar-interrupted, .progress-bar-interrupted::-webkit-progress-bar {\n",
              "                background: #F44336;\n",
              "            }\n",
              "        </style>\n",
              "      <progress value='807' class='' max='807' style='width:300px; height:20px; vertical-align: middle;'></progress>\n",
              "      100.00% [807/807 02:33<00:00]\n",
              "    </div>\n",
              "    "
            ],
            "text/plain": [
              "<IPython.core.display.HTML object>"
            ]
          },
          "metadata": {}
        },
        {
          "output_type": "stream",
          "name": "stdout",
          "text": [
            "[9][50] Loss: 0.1825, time_lapsed: 9.4331\n",
            "[9][100] Loss: 0.1350, time_lapsed: 9.5251\n",
            "[9][150] Loss: 0.1688, time_lapsed: 9.5244\n",
            "[9][200] Loss: 0.1692, time_lapsed: 9.5239\n",
            "[9][250] Loss: 0.1370, time_lapsed: 9.5212\n",
            "[9][300] Loss: 0.1488, time_lapsed: 9.5221\n",
            "[9][350] Loss: 0.1525, time_lapsed: 9.5285\n",
            "[9][400] Loss: 0.1881, time_lapsed: 9.5292\n",
            "[9][450] Loss: 0.1560, time_lapsed: 9.5257\n",
            "[9][500] Loss: 0.1407, time_lapsed: 9.5221\n",
            "[9][550] Loss: 0.1636, time_lapsed: 9.5208\n",
            "[9][600] Loss: 0.1701, time_lapsed: 9.5222\n",
            "[9][650] Loss: 0.1385, time_lapsed: 9.5259\n",
            "[9][700] Loss: 0.1310, time_lapsed: 9.5226\n",
            "[9][750] Loss: 0.1342, time_lapsed: 9.5304\n",
            "[9][800] Loss: 0.1299, time_lapsed: 9.5249\n"
          ]
        },
        {
          "output_type": "display_data",
          "data": {
            "text/html": [
              "\n",
              "    <div>\n",
              "        <style>\n",
              "            /* Turns off some styling */\n",
              "            progress {\n",
              "                /* gets rid of default border in Firefox and Opera. */\n",
              "                border: none;\n",
              "                /* Needs to be in here for Safari polyfill so background images work as expected. */\n",
              "                background-size: auto;\n",
              "            }\n",
              "            .progress-bar-interrupted, .progress-bar-interrupted::-webkit-progress-bar {\n",
              "                background: #F44336;\n",
              "            }\n",
              "        </style>\n",
              "      <progress value='333' class='' max='333' style='width:300px; height:20px; vertical-align: middle;'></progress>\n",
              "      100.00% [333/333 00:19<00:00]\n",
              "    </div>\n",
              "    "
            ],
            "text/plain": [
              "<IPython.core.display.HTML object>"
            ]
          },
          "metadata": {}
        },
        {
          "output_type": "stream",
          "name": "stdout",
          "text": [
            "**************************************************\n",
            "[9]| Test Loss: 0.2339, correct: 263, wrong: 70, accuracy: 0.7898\n",
            "**************************************************\n"
          ]
        },
        {
          "output_type": "display_data",
          "data": {
            "text/html": [
              "\n",
              "    <div>\n",
              "        <style>\n",
              "            /* Turns off some styling */\n",
              "            progress {\n",
              "                /* gets rid of default border in Firefox and Opera. */\n",
              "                border: none;\n",
              "                /* Needs to be in here for Safari polyfill so background images work as expected. */\n",
              "                background-size: auto;\n",
              "            }\n",
              "            .progress-bar-interrupted, .progress-bar-interrupted::-webkit-progress-bar {\n",
              "                background: #F44336;\n",
              "            }\n",
              "        </style>\n",
              "      <progress value='807' class='' max='807' style='width:300px; height:20px; vertical-align: middle;'></progress>\n",
              "      100.00% [807/807 02:33<00:00]\n",
              "    </div>\n",
              "    "
            ],
            "text/plain": [
              "<IPython.core.display.HTML object>"
            ]
          },
          "metadata": {}
        },
        {
          "output_type": "stream",
          "name": "stdout",
          "text": [
            "[10][50] Loss: 0.1452, time_lapsed: 9.4428\n",
            "[10][100] Loss: 0.1265, time_lapsed: 9.5217\n",
            "[10][150] Loss: 0.1640, time_lapsed: 9.5264\n",
            "[10][200] Loss: 0.1624, time_lapsed: 9.5293\n",
            "[10][250] Loss: 0.1376, time_lapsed: 9.5265\n",
            "[10][300] Loss: 0.1451, time_lapsed: 9.5264\n",
            "[10][350] Loss: 0.1361, time_lapsed: 9.5221\n",
            "[10][400] Loss: 0.1358, time_lapsed: 9.5261\n",
            "[10][450] Loss: 0.1509, time_lapsed: 9.5229\n",
            "[10][500] Loss: 0.1534, time_lapsed: 9.5197\n",
            "[10][550] Loss: 0.1350, time_lapsed: 9.5258\n",
            "[10][600] Loss: 0.1479, time_lapsed: 9.5258\n",
            "[10][650] Loss: 0.1260, time_lapsed: 9.5236\n",
            "[10][700] Loss: 0.1524, time_lapsed: 9.5237\n",
            "[10][750] Loss: 0.1307, time_lapsed: 9.5227\n",
            "[10][800] Loss: 0.1309, time_lapsed: 9.5282\n"
          ]
        },
        {
          "output_type": "display_data",
          "data": {
            "text/html": [
              "\n",
              "    <div>\n",
              "        <style>\n",
              "            /* Turns off some styling */\n",
              "            progress {\n",
              "                /* gets rid of default border in Firefox and Opera. */\n",
              "                border: none;\n",
              "                /* Needs to be in here for Safari polyfill so background images work as expected. */\n",
              "                background-size: auto;\n",
              "            }\n",
              "            .progress-bar-interrupted, .progress-bar-interrupted::-webkit-progress-bar {\n",
              "                background: #F44336;\n",
              "            }\n",
              "        </style>\n",
              "      <progress value='333' class='' max='333' style='width:300px; height:20px; vertical-align: middle;'></progress>\n",
              "      100.00% [333/333 00:19<00:00]\n",
              "    </div>\n",
              "    "
            ],
            "text/plain": [
              "<IPython.core.display.HTML object>"
            ]
          },
          "metadata": {}
        },
        {
          "output_type": "stream",
          "name": "stdout",
          "text": [
            "**************************************************\n",
            "[10]| Test Loss: 0.2125, correct: 265, wrong: 68, accuracy: 0.7958\n",
            "**************************************************\n"
          ]
        },
        {
          "output_type": "display_data",
          "data": {
            "text/html": [
              "\n",
              "    <div>\n",
              "        <style>\n",
              "            /* Turns off some styling */\n",
              "            progress {\n",
              "                /* gets rid of default border in Firefox and Opera. */\n",
              "                border: none;\n",
              "                /* Needs to be in here for Safari polyfill so background images work as expected. */\n",
              "                background-size: auto;\n",
              "            }\n",
              "            .progress-bar-interrupted, .progress-bar-interrupted::-webkit-progress-bar {\n",
              "                background: #F44336;\n",
              "            }\n",
              "        </style>\n",
              "      <progress value='807' class='' max='807' style='width:300px; height:20px; vertical-align: middle;'></progress>\n",
              "      100.00% [807/807 02:33<00:00]\n",
              "    </div>\n",
              "    "
            ],
            "text/plain": [
              "<IPython.core.display.HTML object>"
            ]
          },
          "metadata": {}
        },
        {
          "output_type": "stream",
          "name": "stdout",
          "text": [
            "[11][50] Loss: 0.1703, time_lapsed: 9.4376\n",
            "[11][100] Loss: 0.1270, time_lapsed: 9.5228\n",
            "[11][150] Loss: 0.1379, time_lapsed: 9.5289\n",
            "[11][200] Loss: 0.1519, time_lapsed: 9.5166\n",
            "[11][250] Loss: 0.1318, time_lapsed: 9.5298\n",
            "[11][300] Loss: 0.1185, time_lapsed: 9.5208\n",
            "[11][350] Loss: 0.1439, time_lapsed: 9.5236\n",
            "[11][400] Loss: 0.1185, time_lapsed: 9.5166\n",
            "[11][450] Loss: 0.1179, time_lapsed: 9.5199\n",
            "[11][500] Loss: 0.1348, time_lapsed: 9.5209\n",
            "[11][550] Loss: 0.1161, time_lapsed: 9.5244\n",
            "[11][600] Loss: 0.1242, time_lapsed: 9.5242\n",
            "[11][650] Loss: 0.1353, time_lapsed: 9.5239\n",
            "[11][700] Loss: 0.1347, time_lapsed: 9.5209\n",
            "[11][750] Loss: 0.1261, time_lapsed: 9.5282\n",
            "[11][800] Loss: 0.1513, time_lapsed: 9.5186\n"
          ]
        },
        {
          "output_type": "display_data",
          "data": {
            "text/html": [
              "\n",
              "    <div>\n",
              "        <style>\n",
              "            /* Turns off some styling */\n",
              "            progress {\n",
              "                /* gets rid of default border in Firefox and Opera. */\n",
              "                border: none;\n",
              "                /* Needs to be in here for Safari polyfill so background images work as expected. */\n",
              "                background-size: auto;\n",
              "            }\n",
              "            .progress-bar-interrupted, .progress-bar-interrupted::-webkit-progress-bar {\n",
              "                background: #F44336;\n",
              "            }\n",
              "        </style>\n",
              "      <progress value='333' class='' max='333' style='width:300px; height:20px; vertical-align: middle;'></progress>\n",
              "      100.00% [333/333 00:19<00:00]\n",
              "    </div>\n",
              "    "
            ],
            "text/plain": [
              "<IPython.core.display.HTML object>"
            ]
          },
          "metadata": {}
        },
        {
          "output_type": "stream",
          "name": "stdout",
          "text": [
            "**************************************************\n",
            "[11]| Test Loss: 0.1231, correct: 255, wrong: 78, accuracy: 0.7658\n",
            "**************************************************\n"
          ]
        },
        {
          "output_type": "display_data",
          "data": {
            "text/html": [
              "\n",
              "    <div>\n",
              "        <style>\n",
              "            /* Turns off some styling */\n",
              "            progress {\n",
              "                /* gets rid of default border in Firefox and Opera. */\n",
              "                border: none;\n",
              "                /* Needs to be in here for Safari polyfill so background images work as expected. */\n",
              "                background-size: auto;\n",
              "            }\n",
              "            .progress-bar-interrupted, .progress-bar-interrupted::-webkit-progress-bar {\n",
              "                background: #F44336;\n",
              "            }\n",
              "        </style>\n",
              "      <progress value='807' class='' max='807' style='width:300px; height:20px; vertical-align: middle;'></progress>\n",
              "      100.00% [807/807 02:33<00:00]\n",
              "    </div>\n",
              "    "
            ],
            "text/plain": [
              "<IPython.core.display.HTML object>"
            ]
          },
          "metadata": {}
        },
        {
          "output_type": "stream",
          "name": "stdout",
          "text": [
            "[12][50] Loss: 0.1448, time_lapsed: 9.4316\n",
            "[12][100] Loss: 0.1381, time_lapsed: 9.5231\n",
            "[12][150] Loss: 0.1467, time_lapsed: 9.5214\n",
            "[12][200] Loss: 0.1271, time_lapsed: 9.5237\n",
            "[12][250] Loss: 0.1216, time_lapsed: 9.5225\n",
            "[12][300] Loss: 0.1321, time_lapsed: 9.5306\n",
            "[12][350] Loss: 0.1421, time_lapsed: 9.5188\n",
            "[12][400] Loss: 0.1202, time_lapsed: 9.5214\n",
            "[12][450] Loss: 0.1179, time_lapsed: 9.5211\n",
            "[12][500] Loss: 0.1342, time_lapsed: 9.5237\n",
            "[12][550] Loss: 0.1331, time_lapsed: 9.5223\n",
            "[12][600] Loss: 0.1329, time_lapsed: 9.5250\n",
            "[12][650] Loss: 0.1118, time_lapsed: 9.5247\n",
            "[12][700] Loss: 0.1117, time_lapsed: 9.5172\n",
            "[12][750] Loss: 0.1107, time_lapsed: 9.5221\n",
            "[12][800] Loss: 0.1013, time_lapsed: 9.5233\n"
          ]
        },
        {
          "output_type": "display_data",
          "data": {
            "text/html": [
              "\n",
              "    <div>\n",
              "        <style>\n",
              "            /* Turns off some styling */\n",
              "            progress {\n",
              "                /* gets rid of default border in Firefox and Opera. */\n",
              "                border: none;\n",
              "                /* Needs to be in here for Safari polyfill so background images work as expected. */\n",
              "                background-size: auto;\n",
              "            }\n",
              "            .progress-bar-interrupted, .progress-bar-interrupted::-webkit-progress-bar {\n",
              "                background: #F44336;\n",
              "            }\n",
              "        </style>\n",
              "      <progress value='333' class='' max='333' style='width:300px; height:20px; vertical-align: middle;'></progress>\n",
              "      100.00% [333/333 00:19<00:00]\n",
              "    </div>\n",
              "    "
            ],
            "text/plain": [
              "<IPython.core.display.HTML object>"
            ]
          },
          "metadata": {}
        },
        {
          "output_type": "stream",
          "name": "stdout",
          "text": [
            "**************************************************\n",
            "[12]| Test Loss: 0.1341, correct: 267, wrong: 66, accuracy: 0.8018\n",
            "**************************************************\n"
          ]
        },
        {
          "output_type": "display_data",
          "data": {
            "text/html": [
              "\n",
              "    <div>\n",
              "        <style>\n",
              "            /* Turns off some styling */\n",
              "            progress {\n",
              "                /* gets rid of default border in Firefox and Opera. */\n",
              "                border: none;\n",
              "                /* Needs to be in here for Safari polyfill so background images work as expected. */\n",
              "                background-size: auto;\n",
              "            }\n",
              "            .progress-bar-interrupted, .progress-bar-interrupted::-webkit-progress-bar {\n",
              "                background: #F44336;\n",
              "            }\n",
              "        </style>\n",
              "      <progress value='807' class='' max='807' style='width:300px; height:20px; vertical-align: middle;'></progress>\n",
              "      100.00% [807/807 02:33<00:00]\n",
              "    </div>\n",
              "    "
            ],
            "text/plain": [
              "<IPython.core.display.HTML object>"
            ]
          },
          "metadata": {}
        },
        {
          "output_type": "stream",
          "name": "stdout",
          "text": [
            "[13][50] Loss: 0.1330, time_lapsed: 9.4330\n",
            "[13][100] Loss: 0.1281, time_lapsed: 9.5290\n",
            "[13][150] Loss: 0.1153, time_lapsed: 9.5345\n",
            "[13][200] Loss: 0.1147, time_lapsed: 9.5258\n",
            "[13][250] Loss: 0.1412, time_lapsed: 9.5227\n",
            "[13][300] Loss: 0.1249, time_lapsed: 9.5264\n",
            "[13][350] Loss: 0.1185, time_lapsed: 9.5278\n",
            "[13][400] Loss: 0.1130, time_lapsed: 9.5273\n",
            "[13][450] Loss: 0.1096, time_lapsed: 9.5208\n",
            "[13][500] Loss: 0.1120, time_lapsed: 9.5203\n",
            "[13][550] Loss: 0.1230, time_lapsed: 9.5332\n",
            "[13][600] Loss: 0.1191, time_lapsed: 9.5192\n",
            "[13][650] Loss: 0.1072, time_lapsed: 9.5266\n",
            "[13][700] Loss: 0.1369, time_lapsed: 9.5271\n",
            "[13][750] Loss: 0.1419, time_lapsed: 9.5233\n",
            "[13][800] Loss: 0.1421, time_lapsed: 9.5222\n"
          ]
        },
        {
          "output_type": "display_data",
          "data": {
            "text/html": [
              "\n",
              "    <div>\n",
              "        <style>\n",
              "            /* Turns off some styling */\n",
              "            progress {\n",
              "                /* gets rid of default border in Firefox and Opera. */\n",
              "                border: none;\n",
              "                /* Needs to be in here for Safari polyfill so background images work as expected. */\n",
              "                background-size: auto;\n",
              "            }\n",
              "            .progress-bar-interrupted, .progress-bar-interrupted::-webkit-progress-bar {\n",
              "                background: #F44336;\n",
              "            }\n",
              "        </style>\n",
              "      <progress value='333' class='' max='333' style='width:300px; height:20px; vertical-align: middle;'></progress>\n",
              "      100.00% [333/333 00:19<00:00]\n",
              "    </div>\n",
              "    "
            ],
            "text/plain": [
              "<IPython.core.display.HTML object>"
            ]
          },
          "metadata": {}
        },
        {
          "output_type": "stream",
          "name": "stdout",
          "text": [
            "**************************************************\n",
            "[13]| Test Loss: 0.2697, correct: 243, wrong: 90, accuracy: 0.7297\n",
            "**************************************************\n"
          ]
        },
        {
          "output_type": "display_data",
          "data": {
            "text/html": [
              "\n",
              "    <div>\n",
              "        <style>\n",
              "            /* Turns off some styling */\n",
              "            progress {\n",
              "                /* gets rid of default border in Firefox and Opera. */\n",
              "                border: none;\n",
              "                /* Needs to be in here for Safari polyfill so background images work as expected. */\n",
              "                background-size: auto;\n",
              "            }\n",
              "            .progress-bar-interrupted, .progress-bar-interrupted::-webkit-progress-bar {\n",
              "                background: #F44336;\n",
              "            }\n",
              "        </style>\n",
              "      <progress value='807' class='' max='807' style='width:300px; height:20px; vertical-align: middle;'></progress>\n",
              "      100.00% [807/807 02:33<00:00]\n",
              "    </div>\n",
              "    "
            ],
            "text/plain": [
              "<IPython.core.display.HTML object>"
            ]
          },
          "metadata": {}
        },
        {
          "output_type": "stream",
          "name": "stdout",
          "text": [
            "[14][50] Loss: 0.1477, time_lapsed: 9.4353\n",
            "[14][100] Loss: 0.1348, time_lapsed: 9.5260\n",
            "[14][150] Loss: 0.1142, time_lapsed: 9.5186\n",
            "[14][200] Loss: 0.1328, time_lapsed: 9.5270\n",
            "[14][250] Loss: 0.1259, time_lapsed: 9.5271\n",
            "[14][300] Loss: 0.1327, time_lapsed: 9.5270\n",
            "[14][350] Loss: 0.0988, time_lapsed: 9.5292\n",
            "[14][400] Loss: 0.1159, time_lapsed: 9.5218\n",
            "[14][450] Loss: 0.0988, time_lapsed: 9.5306\n",
            "[14][500] Loss: 0.0941, time_lapsed: 9.5201\n",
            "[14][550] Loss: 0.1174, time_lapsed: 9.5164\n",
            "[14][600] Loss: 0.1214, time_lapsed: 9.5165\n",
            "[14][650] Loss: 0.1271, time_lapsed: 9.5281\n",
            "[14][700] Loss: 0.1295, time_lapsed: 9.5308\n",
            "[14][750] Loss: 0.0991, time_lapsed: 9.5270\n",
            "[14][800] Loss: 0.1441, time_lapsed: 9.5372\n"
          ]
        },
        {
          "output_type": "display_data",
          "data": {
            "text/html": [
              "\n",
              "    <div>\n",
              "        <style>\n",
              "            /* Turns off some styling */\n",
              "            progress {\n",
              "                /* gets rid of default border in Firefox and Opera. */\n",
              "                border: none;\n",
              "                /* Needs to be in here for Safari polyfill so background images work as expected. */\n",
              "                background-size: auto;\n",
              "            }\n",
              "            .progress-bar-interrupted, .progress-bar-interrupted::-webkit-progress-bar {\n",
              "                background: #F44336;\n",
              "            }\n",
              "        </style>\n",
              "      <progress value='333' class='' max='333' style='width:300px; height:20px; vertical-align: middle;'></progress>\n",
              "      100.00% [333/333 00:19<00:00]\n",
              "    </div>\n",
              "    "
            ],
            "text/plain": [
              "<IPython.core.display.HTML object>"
            ]
          },
          "metadata": {}
        },
        {
          "output_type": "stream",
          "name": "stdout",
          "text": [
            "**************************************************\n",
            "[14]| Test Loss: 0.2098, correct: 257, wrong: 76, accuracy: 0.7718\n",
            "**************************************************\n"
          ]
        },
        {
          "output_type": "display_data",
          "data": {
            "text/html": [
              "\n",
              "    <div>\n",
              "        <style>\n",
              "            /* Turns off some styling */\n",
              "            progress {\n",
              "                /* gets rid of default border in Firefox and Opera. */\n",
              "                border: none;\n",
              "                /* Needs to be in here for Safari polyfill so background images work as expected. */\n",
              "                background-size: auto;\n",
              "            }\n",
              "            .progress-bar-interrupted, .progress-bar-interrupted::-webkit-progress-bar {\n",
              "                background: #F44336;\n",
              "            }\n",
              "        </style>\n",
              "      <progress value='807' class='' max='807' style='width:300px; height:20px; vertical-align: middle;'></progress>\n",
              "      100.00% [807/807 02:33<00:00]\n",
              "    </div>\n",
              "    "
            ],
            "text/plain": [
              "<IPython.core.display.HTML object>"
            ]
          },
          "metadata": {}
        },
        {
          "output_type": "stream",
          "name": "stdout",
          "text": [
            "[15][50] Loss: 0.1521, time_lapsed: 9.4350\n",
            "[15][100] Loss: 0.1011, time_lapsed: 9.5241\n",
            "[15][150] Loss: 0.1148, time_lapsed: 9.5232\n",
            "[15][200] Loss: 0.1451, time_lapsed: 9.5250\n",
            "[15][250] Loss: 0.1079, time_lapsed: 9.5224\n",
            "[15][300] Loss: 0.1114, time_lapsed: 9.5203\n",
            "[15][350] Loss: 0.1196, time_lapsed: 9.5329\n",
            "[15][400] Loss: 0.1035, time_lapsed: 9.5221\n",
            "[15][450] Loss: 0.1027, time_lapsed: 9.5245\n",
            "[15][500] Loss: 0.1203, time_lapsed: 9.5305\n",
            "[15][550] Loss: 0.1170, time_lapsed: 9.5227\n",
            "[15][600] Loss: 0.1312, time_lapsed: 9.5325\n",
            "[15][650] Loss: 0.1393, time_lapsed: 9.5279\n",
            "[15][700] Loss: 0.1145, time_lapsed: 9.5287\n",
            "[15][750] Loss: 0.1123, time_lapsed: 9.5284\n",
            "[15][800] Loss: 0.1199, time_lapsed: 9.5205\n"
          ]
        },
        {
          "output_type": "display_data",
          "data": {
            "text/html": [
              "\n",
              "    <div>\n",
              "        <style>\n",
              "            /* Turns off some styling */\n",
              "            progress {\n",
              "                /* gets rid of default border in Firefox and Opera. */\n",
              "                border: none;\n",
              "                /* Needs to be in here for Safari polyfill so background images work as expected. */\n",
              "                background-size: auto;\n",
              "            }\n",
              "            .progress-bar-interrupted, .progress-bar-interrupted::-webkit-progress-bar {\n",
              "                background: #F44336;\n",
              "            }\n",
              "        </style>\n",
              "      <progress value='333' class='' max='333' style='width:300px; height:20px; vertical-align: middle;'></progress>\n",
              "      100.00% [333/333 00:19<00:00]\n",
              "    </div>\n",
              "    "
            ],
            "text/plain": [
              "<IPython.core.display.HTML object>"
            ]
          },
          "metadata": {}
        },
        {
          "output_type": "stream",
          "name": "stdout",
          "text": [
            "**************************************************\n",
            "[15]| Test Loss: 0.2464, correct: 264, wrong: 69, accuracy: 0.7928\n",
            "**************************************************\n"
          ]
        },
        {
          "output_type": "display_data",
          "data": {
            "text/html": [
              "\n",
              "    <div>\n",
              "        <style>\n",
              "            /* Turns off some styling */\n",
              "            progress {\n",
              "                /* gets rid of default border in Firefox and Opera. */\n",
              "                border: none;\n",
              "                /* Needs to be in here for Safari polyfill so background images work as expected. */\n",
              "                background-size: auto;\n",
              "            }\n",
              "            .progress-bar-interrupted, .progress-bar-interrupted::-webkit-progress-bar {\n",
              "                background: #F44336;\n",
              "            }\n",
              "        </style>\n",
              "      <progress value='807' class='' max='807' style='width:300px; height:20px; vertical-align: middle;'></progress>\n",
              "      100.00% [807/807 02:33<00:00]\n",
              "    </div>\n",
              "    "
            ],
            "text/plain": [
              "<IPython.core.display.HTML object>"
            ]
          },
          "metadata": {}
        },
        {
          "output_type": "stream",
          "name": "stdout",
          "text": [
            "[16][50] Loss: 0.1322, time_lapsed: 9.4329\n",
            "[16][100] Loss: 0.1064, time_lapsed: 9.5254\n",
            "[16][150] Loss: 0.1053, time_lapsed: 9.5281\n",
            "[16][200] Loss: 0.1220, time_lapsed: 9.5253\n",
            "[16][250] Loss: 0.1149, time_lapsed: 9.5230\n",
            "[16][300] Loss: 0.1505, time_lapsed: 9.5238\n",
            "[16][350] Loss: 0.1204, time_lapsed: 9.5238\n",
            "[16][400] Loss: 0.1136, time_lapsed: 9.5235\n",
            "[16][450] Loss: 0.1173, time_lapsed: 9.5182\n",
            "[16][500] Loss: 0.1015, time_lapsed: 9.5218\n",
            "[16][550] Loss: 0.0965, time_lapsed: 9.5263\n",
            "[16][600] Loss: 0.1226, time_lapsed: 9.5257\n",
            "[16][650] Loss: 0.1028, time_lapsed: 9.5202\n",
            "[16][700] Loss: 0.1207, time_lapsed: 9.5227\n",
            "[16][750] Loss: 0.0973, time_lapsed: 9.5228\n",
            "[16][800] Loss: 0.1234, time_lapsed: 9.5168\n"
          ]
        },
        {
          "output_type": "display_data",
          "data": {
            "text/html": [
              "\n",
              "    <div>\n",
              "        <style>\n",
              "            /* Turns off some styling */\n",
              "            progress {\n",
              "                /* gets rid of default border in Firefox and Opera. */\n",
              "                border: none;\n",
              "                /* Needs to be in here for Safari polyfill so background images work as expected. */\n",
              "                background-size: auto;\n",
              "            }\n",
              "            .progress-bar-interrupted, .progress-bar-interrupted::-webkit-progress-bar {\n",
              "                background: #F44336;\n",
              "            }\n",
              "        </style>\n",
              "      <progress value='333' class='' max='333' style='width:300px; height:20px; vertical-align: middle;'></progress>\n",
              "      100.00% [333/333 00:19<00:00]\n",
              "    </div>\n",
              "    "
            ],
            "text/plain": [
              "<IPython.core.display.HTML object>"
            ]
          },
          "metadata": {}
        },
        {
          "output_type": "stream",
          "name": "stdout",
          "text": [
            "**************************************************\n",
            "[16]| Test Loss: 0.1942, correct: 252, wrong: 81, accuracy: 0.7568\n",
            "**************************************************\n"
          ]
        },
        {
          "output_type": "display_data",
          "data": {
            "text/html": [
              "\n",
              "    <div>\n",
              "        <style>\n",
              "            /* Turns off some styling */\n",
              "            progress {\n",
              "                /* gets rid of default border in Firefox and Opera. */\n",
              "                border: none;\n",
              "                /* Needs to be in here for Safari polyfill so background images work as expected. */\n",
              "                background-size: auto;\n",
              "            }\n",
              "            .progress-bar-interrupted, .progress-bar-interrupted::-webkit-progress-bar {\n",
              "                background: #F44336;\n",
              "            }\n",
              "        </style>\n",
              "      <progress value='807' class='' max='807' style='width:300px; height:20px; vertical-align: middle;'></progress>\n",
              "      100.00% [807/807 02:33<00:00]\n",
              "    </div>\n",
              "    "
            ],
            "text/plain": [
              "<IPython.core.display.HTML object>"
            ]
          },
          "metadata": {}
        },
        {
          "output_type": "stream",
          "name": "stdout",
          "text": [
            "[17][50] Loss: 0.1266, time_lapsed: 9.4308\n",
            "[17][100] Loss: 0.1072, time_lapsed: 9.5233\n",
            "[17][150] Loss: 0.1117, time_lapsed: 9.5258\n",
            "[17][200] Loss: 0.0768, time_lapsed: 9.5320\n",
            "[17][250] Loss: 0.1062, time_lapsed: 9.5260\n",
            "[17][300] Loss: 0.1201, time_lapsed: 9.5179\n",
            "[17][350] Loss: 0.0955, time_lapsed: 9.5195\n",
            "[17][400] Loss: 0.1046, time_lapsed: 9.5221\n",
            "[17][450] Loss: 0.1056, time_lapsed: 9.5279\n",
            "[17][500] Loss: 0.0920, time_lapsed: 9.5207\n",
            "[17][550] Loss: 0.0850, time_lapsed: 9.5176\n",
            "[17][600] Loss: 0.0955, time_lapsed: 9.5177\n",
            "[17][650] Loss: 0.1007, time_lapsed: 9.5214\n",
            "[17][700] Loss: 0.1050, time_lapsed: 9.5178\n",
            "[17][750] Loss: 0.1035, time_lapsed: 9.5184\n",
            "[17][800] Loss: 0.0871, time_lapsed: 9.5184\n"
          ]
        },
        {
          "output_type": "display_data",
          "data": {
            "text/html": [
              "\n",
              "    <div>\n",
              "        <style>\n",
              "            /* Turns off some styling */\n",
              "            progress {\n",
              "                /* gets rid of default border in Firefox and Opera. */\n",
              "                border: none;\n",
              "                /* Needs to be in here for Safari polyfill so background images work as expected. */\n",
              "                background-size: auto;\n",
              "            }\n",
              "            .progress-bar-interrupted, .progress-bar-interrupted::-webkit-progress-bar {\n",
              "                background: #F44336;\n",
              "            }\n",
              "        </style>\n",
              "      <progress value='333' class='' max='333' style='width:300px; height:20px; vertical-align: middle;'></progress>\n",
              "      100.00% [333/333 00:19<00:00]\n",
              "    </div>\n",
              "    "
            ],
            "text/plain": [
              "<IPython.core.display.HTML object>"
            ]
          },
          "metadata": {}
        },
        {
          "output_type": "stream",
          "name": "stdout",
          "text": [
            "**************************************************\n",
            "[17]| Test Loss: 0.1928, correct: 264, wrong: 69, accuracy: 0.7928\n",
            "**************************************************\n"
          ]
        },
        {
          "output_type": "display_data",
          "data": {
            "text/html": [
              "\n",
              "    <div>\n",
              "        <style>\n",
              "            /* Turns off some styling */\n",
              "            progress {\n",
              "                /* gets rid of default border in Firefox and Opera. */\n",
              "                border: none;\n",
              "                /* Needs to be in here for Safari polyfill so background images work as expected. */\n",
              "                background-size: auto;\n",
              "            }\n",
              "            .progress-bar-interrupted, .progress-bar-interrupted::-webkit-progress-bar {\n",
              "                background: #F44336;\n",
              "            }\n",
              "        </style>\n",
              "      <progress value='807' class='' max='807' style='width:300px; height:20px; vertical-align: middle;'></progress>\n",
              "      100.00% [807/807 02:33<00:00]\n",
              "    </div>\n",
              "    "
            ],
            "text/plain": [
              "<IPython.core.display.HTML object>"
            ]
          },
          "metadata": {}
        },
        {
          "output_type": "stream",
          "name": "stdout",
          "text": [
            "[18][50] Loss: 0.1219, time_lapsed: 9.4322\n",
            "[18][100] Loss: 0.0932, time_lapsed: 9.5228\n",
            "[18][150] Loss: 0.1094, time_lapsed: 9.5259\n",
            "[18][200] Loss: 0.0781, time_lapsed: 9.5204\n",
            "[18][250] Loss: 0.1198, time_lapsed: 9.5206\n",
            "[18][300] Loss: 0.1056, time_lapsed: 9.5271\n",
            "[18][350] Loss: 0.0997, time_lapsed: 9.5199\n",
            "[18][400] Loss: 0.1168, time_lapsed: 9.5217\n",
            "[18][450] Loss: 0.1128, time_lapsed: 9.5297\n",
            "[18][500] Loss: 0.0911, time_lapsed: 9.5246\n",
            "[18][550] Loss: 0.1072, time_lapsed: 9.5276\n",
            "[18][600] Loss: 0.1081, time_lapsed: 9.5315\n",
            "[18][650] Loss: 0.1173, time_lapsed: 9.5271\n",
            "[18][700] Loss: 0.1104, time_lapsed: 9.5240\n",
            "[18][750] Loss: 0.0932, time_lapsed: 9.5263\n",
            "[18][800] Loss: 0.1057, time_lapsed: 9.5287\n"
          ]
        },
        {
          "output_type": "display_data",
          "data": {
            "text/html": [
              "\n",
              "    <div>\n",
              "        <style>\n",
              "            /* Turns off some styling */\n",
              "            progress {\n",
              "                /* gets rid of default border in Firefox and Opera. */\n",
              "                border: none;\n",
              "                /* Needs to be in here for Safari polyfill so background images work as expected. */\n",
              "                background-size: auto;\n",
              "            }\n",
              "            .progress-bar-interrupted, .progress-bar-interrupted::-webkit-progress-bar {\n",
              "                background: #F44336;\n",
              "            }\n",
              "        </style>\n",
              "      <progress value='333' class='' max='333' style='width:300px; height:20px; vertical-align: middle;'></progress>\n",
              "      100.00% [333/333 00:19<00:00]\n",
              "    </div>\n",
              "    "
            ],
            "text/plain": [
              "<IPython.core.display.HTML object>"
            ]
          },
          "metadata": {}
        },
        {
          "output_type": "stream",
          "name": "stdout",
          "text": [
            "**************************************************\n",
            "[18]| Test Loss: 0.1735, correct: 264, wrong: 69, accuracy: 0.7928\n",
            "**************************************************\n"
          ]
        },
        {
          "output_type": "display_data",
          "data": {
            "text/html": [
              "\n",
              "    <div>\n",
              "        <style>\n",
              "            /* Turns off some styling */\n",
              "            progress {\n",
              "                /* gets rid of default border in Firefox and Opera. */\n",
              "                border: none;\n",
              "                /* Needs to be in here for Safari polyfill so background images work as expected. */\n",
              "                background-size: auto;\n",
              "            }\n",
              "            .progress-bar-interrupted, .progress-bar-interrupted::-webkit-progress-bar {\n",
              "                background: #F44336;\n",
              "            }\n",
              "        </style>\n",
              "      <progress value='807' class='' max='807' style='width:300px; height:20px; vertical-align: middle;'></progress>\n",
              "      100.00% [807/807 02:33<00:00]\n",
              "    </div>\n",
              "    "
            ],
            "text/plain": [
              "<IPython.core.display.HTML object>"
            ]
          },
          "metadata": {}
        },
        {
          "output_type": "stream",
          "name": "stdout",
          "text": [
            "[19][50] Loss: 0.1260, time_lapsed: 9.4387\n",
            "[19][100] Loss: 0.0790, time_lapsed: 9.5234\n",
            "[19][150] Loss: 0.1083, time_lapsed: 9.5173\n",
            "[19][200] Loss: 0.1138, time_lapsed: 9.5216\n",
            "[19][250] Loss: 0.1104, time_lapsed: 9.5239\n",
            "[19][300] Loss: 0.0853, time_lapsed: 9.5251\n",
            "[19][350] Loss: 0.0930, time_lapsed: 9.5282\n",
            "[19][400] Loss: 0.0859, time_lapsed: 9.5231\n",
            "[19][450] Loss: 0.0940, time_lapsed: 9.5214\n",
            "[19][500] Loss: 0.1019, time_lapsed: 9.5267\n",
            "[19][550] Loss: 0.1044, time_lapsed: 9.5253\n",
            "[19][600] Loss: 0.1049, time_lapsed: 9.5155\n",
            "[19][650] Loss: 0.0915, time_lapsed: 9.5267\n",
            "[19][700] Loss: 0.0856, time_lapsed: 9.5186\n",
            "[19][750] Loss: 0.1075, time_lapsed: 9.5230\n",
            "[19][800] Loss: 0.0791, time_lapsed: 9.5222\n"
          ]
        },
        {
          "output_type": "display_data",
          "data": {
            "text/html": [
              "\n",
              "    <div>\n",
              "        <style>\n",
              "            /* Turns off some styling */\n",
              "            progress {\n",
              "                /* gets rid of default border in Firefox and Opera. */\n",
              "                border: none;\n",
              "                /* Needs to be in here for Safari polyfill so background images work as expected. */\n",
              "                background-size: auto;\n",
              "            }\n",
              "            .progress-bar-interrupted, .progress-bar-interrupted::-webkit-progress-bar {\n",
              "                background: #F44336;\n",
              "            }\n",
              "        </style>\n",
              "      <progress value='333' class='' max='333' style='width:300px; height:20px; vertical-align: middle;'></progress>\n",
              "      100.00% [333/333 00:19<00:00]\n",
              "    </div>\n",
              "    "
            ],
            "text/plain": [
              "<IPython.core.display.HTML object>"
            ]
          },
          "metadata": {}
        },
        {
          "output_type": "stream",
          "name": "stdout",
          "text": [
            "**************************************************\n",
            "[19]| Test Loss: 0.2263, correct: 270, wrong: 63, accuracy: 0.8108\n",
            "**************************************************\n"
          ]
        },
        {
          "output_type": "display_data",
          "data": {
            "text/html": [
              "\n",
              "    <div>\n",
              "        <style>\n",
              "            /* Turns off some styling */\n",
              "            progress {\n",
              "                /* gets rid of default border in Firefox and Opera. */\n",
              "                border: none;\n",
              "                /* Needs to be in here for Safari polyfill so background images work as expected. */\n",
              "                background-size: auto;\n",
              "            }\n",
              "            .progress-bar-interrupted, .progress-bar-interrupted::-webkit-progress-bar {\n",
              "                background: #F44336;\n",
              "            }\n",
              "        </style>\n",
              "      <progress value='807' class='' max='807' style='width:300px; height:20px; vertical-align: middle;'></progress>\n",
              "      100.00% [807/807 02:33<00:00]\n",
              "    </div>\n",
              "    "
            ],
            "text/plain": [
              "<IPython.core.display.HTML object>"
            ]
          },
          "metadata": {}
        },
        {
          "output_type": "stream",
          "name": "stdout",
          "text": [
            "[20][50] Loss: 0.1228, time_lapsed: 9.4338\n",
            "[20][100] Loss: 0.1014, time_lapsed: 9.5203\n",
            "[20][150] Loss: 0.0876, time_lapsed: 9.5219\n",
            "[20][200] Loss: 0.0922, time_lapsed: 9.5214\n",
            "[20][250] Loss: 0.0996, time_lapsed: 9.5174\n",
            "[20][300] Loss: 0.1151, time_lapsed: 9.5203\n",
            "[20][350] Loss: 0.1070, time_lapsed: 9.5154\n",
            "[20][400] Loss: 0.1160, time_lapsed: 9.5227\n",
            "[20][450] Loss: 0.0979, time_lapsed: 9.5168\n",
            "[20][500] Loss: 0.0949, time_lapsed: 9.5185\n",
            "[20][550] Loss: 0.1173, time_lapsed: 9.5143\n",
            "[20][600] Loss: 0.0837, time_lapsed: 9.5195\n",
            "[20][650] Loss: 0.0969, time_lapsed: 9.5203\n",
            "[20][700] Loss: 0.0873, time_lapsed: 9.5143\n",
            "[20][750] Loss: 0.0963, time_lapsed: 9.5176\n",
            "[20][800] Loss: 0.0802, time_lapsed: 9.5121\n"
          ]
        },
        {
          "output_type": "display_data",
          "data": {
            "text/html": [
              "\n",
              "    <div>\n",
              "        <style>\n",
              "            /* Turns off some styling */\n",
              "            progress {\n",
              "                /* gets rid of default border in Firefox and Opera. */\n",
              "                border: none;\n",
              "                /* Needs to be in here for Safari polyfill so background images work as expected. */\n",
              "                background-size: auto;\n",
              "            }\n",
              "            .progress-bar-interrupted, .progress-bar-interrupted::-webkit-progress-bar {\n",
              "                background: #F44336;\n",
              "            }\n",
              "        </style>\n",
              "      <progress value='333' class='' max='333' style='width:300px; height:20px; vertical-align: middle;'></progress>\n",
              "      100.00% [333/333 00:19<00:00]\n",
              "    </div>\n",
              "    "
            ],
            "text/plain": [
              "<IPython.core.display.HTML object>"
            ]
          },
          "metadata": {}
        },
        {
          "output_type": "stream",
          "name": "stdout",
          "text": [
            "**************************************************\n",
            "[20]| Test Loss: 0.1207, correct: 262, wrong: 71, accuracy: 0.7868\n",
            "**************************************************\n"
          ]
        },
        {
          "output_type": "display_data",
          "data": {
            "text/html": [
              "\n",
              "    <div>\n",
              "        <style>\n",
              "            /* Turns off some styling */\n",
              "            progress {\n",
              "                /* gets rid of default border in Firefox and Opera. */\n",
              "                border: none;\n",
              "                /* Needs to be in here for Safari polyfill so background images work as expected. */\n",
              "                background-size: auto;\n",
              "            }\n",
              "            .progress-bar-interrupted, .progress-bar-interrupted::-webkit-progress-bar {\n",
              "                background: #F44336;\n",
              "            }\n",
              "        </style>\n",
              "      <progress value='807' class='' max='807' style='width:300px; height:20px; vertical-align: middle;'></progress>\n",
              "      100.00% [807/807 02:33<00:00]\n",
              "    </div>\n",
              "    "
            ],
            "text/plain": [
              "<IPython.core.display.HTML object>"
            ]
          },
          "metadata": {}
        },
        {
          "output_type": "stream",
          "name": "stdout",
          "text": [
            "[21][50] Loss: 0.0918, time_lapsed: 9.4431\n",
            "[21][100] Loss: 0.0859, time_lapsed: 9.5224\n",
            "[21][150] Loss: 0.0934, time_lapsed: 9.5261\n",
            "[21][200] Loss: 0.0983, time_lapsed: 9.5264\n",
            "[21][250] Loss: 0.0848, time_lapsed: 9.5214\n",
            "[21][300] Loss: 0.0978, time_lapsed: 9.5140\n",
            "[21][350] Loss: 0.0986, time_lapsed: 9.5187\n",
            "[21][400] Loss: 0.0992, time_lapsed: 9.5168\n",
            "[21][450] Loss: 0.1000, time_lapsed: 9.5235\n",
            "[21][500] Loss: 0.0795, time_lapsed: 9.5170\n",
            "[21][550] Loss: 0.0959, time_lapsed: 9.5221\n",
            "[21][600] Loss: 0.1061, time_lapsed: 9.5294\n",
            "[21][650] Loss: 0.0864, time_lapsed: 9.5202\n",
            "[21][700] Loss: 0.1205, time_lapsed: 9.5240\n",
            "[21][750] Loss: 0.1095, time_lapsed: 9.5304\n",
            "[21][800] Loss: 0.0943, time_lapsed: 9.5176\n"
          ]
        },
        {
          "output_type": "display_data",
          "data": {
            "text/html": [
              "\n",
              "    <div>\n",
              "        <style>\n",
              "            /* Turns off some styling */\n",
              "            progress {\n",
              "                /* gets rid of default border in Firefox and Opera. */\n",
              "                border: none;\n",
              "                /* Needs to be in here for Safari polyfill so background images work as expected. */\n",
              "                background-size: auto;\n",
              "            }\n",
              "            .progress-bar-interrupted, .progress-bar-interrupted::-webkit-progress-bar {\n",
              "                background: #F44336;\n",
              "            }\n",
              "        </style>\n",
              "      <progress value='333' class='' max='333' style='width:300px; height:20px; vertical-align: middle;'></progress>\n",
              "      100.00% [333/333 00:19<00:00]\n",
              "    </div>\n",
              "    "
            ],
            "text/plain": [
              "<IPython.core.display.HTML object>"
            ]
          },
          "metadata": {}
        },
        {
          "output_type": "stream",
          "name": "stdout",
          "text": [
            "**************************************************\n",
            "[21]| Test Loss: 0.1715, correct: 267, wrong: 66, accuracy: 0.8018\n",
            "**************************************************\n"
          ]
        },
        {
          "output_type": "display_data",
          "data": {
            "text/html": [
              "\n",
              "    <div>\n",
              "        <style>\n",
              "            /* Turns off some styling */\n",
              "            progress {\n",
              "                /* gets rid of default border in Firefox and Opera. */\n",
              "                border: none;\n",
              "                /* Needs to be in here for Safari polyfill so background images work as expected. */\n",
              "                background-size: auto;\n",
              "            }\n",
              "            .progress-bar-interrupted, .progress-bar-interrupted::-webkit-progress-bar {\n",
              "                background: #F44336;\n",
              "            }\n",
              "        </style>\n",
              "      <progress value='807' class='' max='807' style='width:300px; height:20px; vertical-align: middle;'></progress>\n",
              "      100.00% [807/807 02:33<00:00]\n",
              "    </div>\n",
              "    "
            ],
            "text/plain": [
              "<IPython.core.display.HTML object>"
            ]
          },
          "metadata": {}
        },
        {
          "output_type": "stream",
          "name": "stdout",
          "text": [
            "[22][50] Loss: 0.1370, time_lapsed: 9.4440\n",
            "[22][100] Loss: 0.0995, time_lapsed: 9.5264\n",
            "[22][150] Loss: 0.0917, time_lapsed: 9.5233\n",
            "[22][200] Loss: 0.1038, time_lapsed: 9.5297\n",
            "[22][250] Loss: 0.0955, time_lapsed: 9.5224\n",
            "[22][300] Loss: 0.1124, time_lapsed: 9.5215\n",
            "[22][350] Loss: 0.1075, time_lapsed: 9.5227\n",
            "[22][400] Loss: 0.0914, time_lapsed: 9.5242\n",
            "[22][450] Loss: 0.0888, time_lapsed: 9.5236\n",
            "[22][500] Loss: 0.1122, time_lapsed: 9.5267\n",
            "[22][550] Loss: 0.1175, time_lapsed: 9.5279\n",
            "[22][600] Loss: 0.1048, time_lapsed: 9.5195\n",
            "[22][650] Loss: 0.1065, time_lapsed: 9.5315\n",
            "[22][700] Loss: 0.0877, time_lapsed: 9.5247\n",
            "[22][750] Loss: 0.0900, time_lapsed: 9.5210\n",
            "[22][800] Loss: 0.0732, time_lapsed: 9.5235\n"
          ]
        },
        {
          "output_type": "display_data",
          "data": {
            "text/html": [
              "\n",
              "    <div>\n",
              "        <style>\n",
              "            /* Turns off some styling */\n",
              "            progress {\n",
              "                /* gets rid of default border in Firefox and Opera. */\n",
              "                border: none;\n",
              "                /* Needs to be in here for Safari polyfill so background images work as expected. */\n",
              "                background-size: auto;\n",
              "            }\n",
              "            .progress-bar-interrupted, .progress-bar-interrupted::-webkit-progress-bar {\n",
              "                background: #F44336;\n",
              "            }\n",
              "        </style>\n",
              "      <progress value='333' class='' max='333' style='width:300px; height:20px; vertical-align: middle;'></progress>\n",
              "      100.00% [333/333 00:19<00:00]\n",
              "    </div>\n",
              "    "
            ],
            "text/plain": [
              "<IPython.core.display.HTML object>"
            ]
          },
          "metadata": {}
        },
        {
          "output_type": "stream",
          "name": "stdout",
          "text": [
            "**************************************************\n",
            "[22]| Test Loss: 0.1843, correct: 263, wrong: 70, accuracy: 0.7898\n",
            "**************************************************\n"
          ]
        },
        {
          "output_type": "display_data",
          "data": {
            "text/html": [
              "\n",
              "    <div>\n",
              "        <style>\n",
              "            /* Turns off some styling */\n",
              "            progress {\n",
              "                /* gets rid of default border in Firefox and Opera. */\n",
              "                border: none;\n",
              "                /* Needs to be in here for Safari polyfill so background images work as expected. */\n",
              "                background-size: auto;\n",
              "            }\n",
              "            .progress-bar-interrupted, .progress-bar-interrupted::-webkit-progress-bar {\n",
              "                background: #F44336;\n",
              "            }\n",
              "        </style>\n",
              "      <progress value='807' class='' max='807' style='width:300px; height:20px; vertical-align: middle;'></progress>\n",
              "      100.00% [807/807 02:33<00:00]\n",
              "    </div>\n",
              "    "
            ],
            "text/plain": [
              "<IPython.core.display.HTML object>"
            ]
          },
          "metadata": {}
        },
        {
          "output_type": "stream",
          "name": "stdout",
          "text": [
            "[23][50] Loss: 0.1169, time_lapsed: 9.4396\n",
            "[23][100] Loss: 0.0893, time_lapsed: 9.5259\n",
            "[23][150] Loss: 0.1052, time_lapsed: 9.5235\n",
            "[23][200] Loss: 0.0852, time_lapsed: 9.5243\n",
            "[23][250] Loss: 0.0650, time_lapsed: 9.5186\n",
            "[23][300] Loss: 0.0881, time_lapsed: 9.5224\n",
            "[23][350] Loss: 0.0990, time_lapsed: 9.5247\n",
            "[23][400] Loss: 0.1067, time_lapsed: 9.5234\n",
            "[23][450] Loss: 0.1120, time_lapsed: 9.5257\n",
            "[23][500] Loss: 0.0977, time_lapsed: 9.5272\n",
            "[23][550] Loss: 0.0897, time_lapsed: 9.5295\n",
            "[23][600] Loss: 0.1061, time_lapsed: 9.5257\n",
            "[23][650] Loss: 0.1089, time_lapsed: 9.5231\n",
            "[23][700] Loss: 0.0900, time_lapsed: 9.5230\n",
            "[23][750] Loss: 0.0750, time_lapsed: 9.5181\n",
            "[23][800] Loss: 0.0913, time_lapsed: 9.5231\n"
          ]
        },
        {
          "output_type": "display_data",
          "data": {
            "text/html": [
              "\n",
              "    <div>\n",
              "        <style>\n",
              "            /* Turns off some styling */\n",
              "            progress {\n",
              "                /* gets rid of default border in Firefox and Opera. */\n",
              "                border: none;\n",
              "                /* Needs to be in here for Safari polyfill so background images work as expected. */\n",
              "                background-size: auto;\n",
              "            }\n",
              "            .progress-bar-interrupted, .progress-bar-interrupted::-webkit-progress-bar {\n",
              "                background: #F44336;\n",
              "            }\n",
              "        </style>\n",
              "      <progress value='333' class='' max='333' style='width:300px; height:20px; vertical-align: middle;'></progress>\n",
              "      100.00% [333/333 00:19<00:00]\n",
              "    </div>\n",
              "    "
            ],
            "text/plain": [
              "<IPython.core.display.HTML object>"
            ]
          },
          "metadata": {}
        },
        {
          "output_type": "stream",
          "name": "stdout",
          "text": [
            "**************************************************\n",
            "[23]| Test Loss: 0.1917, correct: 268, wrong: 65, accuracy: 0.8048\n",
            "**************************************************\n"
          ]
        },
        {
          "output_type": "display_data",
          "data": {
            "text/html": [
              "\n",
              "    <div>\n",
              "        <style>\n",
              "            /* Turns off some styling */\n",
              "            progress {\n",
              "                /* gets rid of default border in Firefox and Opera. */\n",
              "                border: none;\n",
              "                /* Needs to be in here for Safari polyfill so background images work as expected. */\n",
              "                background-size: auto;\n",
              "            }\n",
              "            .progress-bar-interrupted, .progress-bar-interrupted::-webkit-progress-bar {\n",
              "                background: #F44336;\n",
              "            }\n",
              "        </style>\n",
              "      <progress value='807' class='' max='807' style='width:300px; height:20px; vertical-align: middle;'></progress>\n",
              "      100.00% [807/807 02:33<00:00]\n",
              "    </div>\n",
              "    "
            ],
            "text/plain": [
              "<IPython.core.display.HTML object>"
            ]
          },
          "metadata": {}
        },
        {
          "output_type": "stream",
          "name": "stdout",
          "text": [
            "[24][50] Loss: 0.0947, time_lapsed: 9.4339\n",
            "[24][100] Loss: 0.1039, time_lapsed: 9.5151\n",
            "[24][150] Loss: 0.0843, time_lapsed: 9.5214\n",
            "[24][200] Loss: 0.0984, time_lapsed: 9.5203\n",
            "[24][250] Loss: 0.0877, time_lapsed: 9.5203\n",
            "[24][300] Loss: 0.0741, time_lapsed: 9.5186\n",
            "[24][350] Loss: 0.0919, time_lapsed: 9.5230\n",
            "[24][400] Loss: 0.0917, time_lapsed: 9.5226\n",
            "[24][450] Loss: 0.0934, time_lapsed: 9.5211\n",
            "[24][500] Loss: 0.0974, time_lapsed: 9.5208\n",
            "[24][550] Loss: 0.0949, time_lapsed: 9.5288\n",
            "[24][600] Loss: 0.0882, time_lapsed: 9.5221\n",
            "[24][650] Loss: 0.0850, time_lapsed: 9.5246\n",
            "[24][700] Loss: 0.0842, time_lapsed: 9.5252\n",
            "[24][750] Loss: 0.0936, time_lapsed: 9.5288\n",
            "[24][800] Loss: 0.0744, time_lapsed: 9.5203\n"
          ]
        },
        {
          "output_type": "display_data",
          "data": {
            "text/html": [
              "\n",
              "    <div>\n",
              "        <style>\n",
              "            /* Turns off some styling */\n",
              "            progress {\n",
              "                /* gets rid of default border in Firefox and Opera. */\n",
              "                border: none;\n",
              "                /* Needs to be in here for Safari polyfill so background images work as expected. */\n",
              "                background-size: auto;\n",
              "            }\n",
              "            .progress-bar-interrupted, .progress-bar-interrupted::-webkit-progress-bar {\n",
              "                background: #F44336;\n",
              "            }\n",
              "        </style>\n",
              "      <progress value='333' class='' max='333' style='width:300px; height:20px; vertical-align: middle;'></progress>\n",
              "      100.00% [333/333 00:19<00:00]\n",
              "    </div>\n",
              "    "
            ],
            "text/plain": [
              "<IPython.core.display.HTML object>"
            ]
          },
          "metadata": {}
        },
        {
          "output_type": "stream",
          "name": "stdout",
          "text": [
            "**************************************************\n",
            "[24]| Test Loss: 0.1222, correct: 264, wrong: 69, accuracy: 0.7928\n",
            "**************************************************\n"
          ]
        },
        {
          "output_type": "display_data",
          "data": {
            "text/html": [
              "\n",
              "    <div>\n",
              "        <style>\n",
              "            /* Turns off some styling */\n",
              "            progress {\n",
              "                /* gets rid of default border in Firefox and Opera. */\n",
              "                border: none;\n",
              "                /* Needs to be in here for Safari polyfill so background images work as expected. */\n",
              "                background-size: auto;\n",
              "            }\n",
              "            .progress-bar-interrupted, .progress-bar-interrupted::-webkit-progress-bar {\n",
              "                background: #F44336;\n",
              "            }\n",
              "        </style>\n",
              "      <progress value='807' class='' max='807' style='width:300px; height:20px; vertical-align: middle;'></progress>\n",
              "      100.00% [807/807 02:33<00:00]\n",
              "    </div>\n",
              "    "
            ],
            "text/plain": [
              "<IPython.core.display.HTML object>"
            ]
          },
          "metadata": {}
        },
        {
          "output_type": "stream",
          "name": "stdout",
          "text": [
            "[25][50] Loss: 0.0883, time_lapsed: 9.4368\n",
            "[25][100] Loss: 0.0861, time_lapsed: 9.5247\n",
            "[25][150] Loss: 0.1038, time_lapsed: 9.5213\n",
            "[25][200] Loss: 0.0833, time_lapsed: 9.5228\n",
            "[25][250] Loss: 0.0914, time_lapsed: 9.5294\n",
            "[25][300] Loss: 0.0880, time_lapsed: 9.5261\n",
            "[25][350] Loss: 0.0813, time_lapsed: 9.5247\n",
            "[25][400] Loss: 0.0967, time_lapsed: 9.5291\n",
            "[25][450] Loss: 0.0838, time_lapsed: 9.5266\n",
            "[25][500] Loss: 0.0882, time_lapsed: 9.5279\n",
            "[25][550] Loss: 0.0788, time_lapsed: 9.5272\n",
            "[25][600] Loss: 0.1023, time_lapsed: 9.5198\n",
            "[25][650] Loss: 0.0669, time_lapsed: 9.5253\n",
            "[25][700] Loss: 0.0761, time_lapsed: 9.5217\n",
            "[25][750] Loss: 0.0943, time_lapsed: 9.5249\n",
            "[25][800] Loss: 0.0896, time_lapsed: 9.5260\n"
          ]
        },
        {
          "output_type": "display_data",
          "data": {
            "text/html": [
              "\n",
              "    <div>\n",
              "        <style>\n",
              "            /* Turns off some styling */\n",
              "            progress {\n",
              "                /* gets rid of default border in Firefox and Opera. */\n",
              "                border: none;\n",
              "                /* Needs to be in here for Safari polyfill so background images work as expected. */\n",
              "                background-size: auto;\n",
              "            }\n",
              "            .progress-bar-interrupted, .progress-bar-interrupted::-webkit-progress-bar {\n",
              "                background: #F44336;\n",
              "            }\n",
              "        </style>\n",
              "      <progress value='333' class='' max='333' style='width:300px; height:20px; vertical-align: middle;'></progress>\n",
              "      100.00% [333/333 00:19<00:00]\n",
              "    </div>\n",
              "    "
            ],
            "text/plain": [
              "<IPython.core.display.HTML object>"
            ]
          },
          "metadata": {}
        },
        {
          "output_type": "stream",
          "name": "stdout",
          "text": [
            "**************************************************\n",
            "[25]| Test Loss: 0.1826, correct: 267, wrong: 66, accuracy: 0.8018\n",
            "**************************************************\n"
          ]
        },
        {
          "output_type": "display_data",
          "data": {
            "text/html": [
              "\n",
              "    <div>\n",
              "        <style>\n",
              "            /* Turns off some styling */\n",
              "            progress {\n",
              "                /* gets rid of default border in Firefox and Opera. */\n",
              "                border: none;\n",
              "                /* Needs to be in here for Safari polyfill so background images work as expected. */\n",
              "                background-size: auto;\n",
              "            }\n",
              "            .progress-bar-interrupted, .progress-bar-interrupted::-webkit-progress-bar {\n",
              "                background: #F44336;\n",
              "            }\n",
              "        </style>\n",
              "      <progress value='807' class='' max='807' style='width:300px; height:20px; vertical-align: middle;'></progress>\n",
              "      100.00% [807/807 02:33<00:00]\n",
              "    </div>\n",
              "    "
            ],
            "text/plain": [
              "<IPython.core.display.HTML object>"
            ]
          },
          "metadata": {}
        },
        {
          "output_type": "stream",
          "name": "stdout",
          "text": [
            "[26][50] Loss: 0.1089, time_lapsed: 9.4443\n",
            "[26][100] Loss: 0.0995, time_lapsed: 9.5245\n",
            "[26][150] Loss: 0.0903, time_lapsed: 9.5275\n",
            "[26][200] Loss: 0.0790, time_lapsed: 9.5210\n",
            "[26][250] Loss: 0.0771, time_lapsed: 9.5274\n",
            "[26][300] Loss: 0.0926, time_lapsed: 9.5280\n",
            "[26][350] Loss: 0.0781, time_lapsed: 9.5268\n",
            "[26][400] Loss: 0.0877, time_lapsed: 9.5248\n",
            "[26][450] Loss: 0.0856, time_lapsed: 9.5174\n",
            "[26][500] Loss: 0.0723, time_lapsed: 9.5272\n",
            "[26][550] Loss: 0.0803, time_lapsed: 9.5284\n",
            "[26][600] Loss: 0.0839, time_lapsed: 9.5267\n",
            "[26][650] Loss: 0.0767, time_lapsed: 9.5252\n",
            "[26][700] Loss: 0.0965, time_lapsed: 9.5183\n",
            "[26][750] Loss: 0.0751, time_lapsed: 9.5239\n",
            "[26][800] Loss: 0.0885, time_lapsed: 9.5241\n"
          ]
        },
        {
          "output_type": "display_data",
          "data": {
            "text/html": [
              "\n",
              "    <div>\n",
              "        <style>\n",
              "            /* Turns off some styling */\n",
              "            progress {\n",
              "                /* gets rid of default border in Firefox and Opera. */\n",
              "                border: none;\n",
              "                /* Needs to be in here for Safari polyfill so background images work as expected. */\n",
              "                background-size: auto;\n",
              "            }\n",
              "            .progress-bar-interrupted, .progress-bar-interrupted::-webkit-progress-bar {\n",
              "                background: #F44336;\n",
              "            }\n",
              "        </style>\n",
              "      <progress value='333' class='' max='333' style='width:300px; height:20px; vertical-align: middle;'></progress>\n",
              "      100.00% [333/333 00:19<00:00]\n",
              "    </div>\n",
              "    "
            ],
            "text/plain": [
              "<IPython.core.display.HTML object>"
            ]
          },
          "metadata": {}
        },
        {
          "output_type": "stream",
          "name": "stdout",
          "text": [
            "**************************************************\n",
            "[26]| Test Loss: 0.2126, correct: 256, wrong: 77, accuracy: 0.7688\n",
            "**************************************************\n"
          ]
        },
        {
          "output_type": "display_data",
          "data": {
            "text/html": [
              "\n",
              "    <div>\n",
              "        <style>\n",
              "            /* Turns off some styling */\n",
              "            progress {\n",
              "                /* gets rid of default border in Firefox and Opera. */\n",
              "                border: none;\n",
              "                /* Needs to be in here for Safari polyfill so background images work as expected. */\n",
              "                background-size: auto;\n",
              "            }\n",
              "            .progress-bar-interrupted, .progress-bar-interrupted::-webkit-progress-bar {\n",
              "                background: #F44336;\n",
              "            }\n",
              "        </style>\n",
              "      <progress value='807' class='' max='807' style='width:300px; height:20px; vertical-align: middle;'></progress>\n",
              "      100.00% [807/807 02:33<00:00]\n",
              "    </div>\n",
              "    "
            ],
            "text/plain": [
              "<IPython.core.display.HTML object>"
            ]
          },
          "metadata": {}
        },
        {
          "output_type": "stream",
          "name": "stdout",
          "text": [
            "[27][50] Loss: 0.0906, time_lapsed: 9.4366\n",
            "[27][100] Loss: 0.0968, time_lapsed: 9.5279\n",
            "[27][150] Loss: 0.1209, time_lapsed: 9.5142\n",
            "[27][200] Loss: 0.0799, time_lapsed: 9.5209\n",
            "[27][250] Loss: 0.0795, time_lapsed: 9.5244\n",
            "[27][300] Loss: 0.0839, time_lapsed: 9.5194\n",
            "[27][350] Loss: 0.1057, time_lapsed: 9.5274\n",
            "[27][400] Loss: 0.0911, time_lapsed: 9.5231\n",
            "[27][450] Loss: 0.0940, time_lapsed: 9.5232\n",
            "[27][500] Loss: 0.0757, time_lapsed: 9.5208\n",
            "[27][550] Loss: 0.0957, time_lapsed: 9.5190\n",
            "[27][600] Loss: 0.0812, time_lapsed: 9.5173\n",
            "[27][650] Loss: 0.0802, time_lapsed: 9.5212\n",
            "[27][700] Loss: 0.0847, time_lapsed: 9.5190\n",
            "[27][750] Loss: 0.0964, time_lapsed: 9.5197\n",
            "[27][800] Loss: 0.0868, time_lapsed: 9.5363\n"
          ]
        },
        {
          "output_type": "display_data",
          "data": {
            "text/html": [
              "\n",
              "    <div>\n",
              "        <style>\n",
              "            /* Turns off some styling */\n",
              "            progress {\n",
              "                /* gets rid of default border in Firefox and Opera. */\n",
              "                border: none;\n",
              "                /* Needs to be in here for Safari polyfill so background images work as expected. */\n",
              "                background-size: auto;\n",
              "            }\n",
              "            .progress-bar-interrupted, .progress-bar-interrupted::-webkit-progress-bar {\n",
              "                background: #F44336;\n",
              "            }\n",
              "        </style>\n",
              "      <progress value='333' class='' max='333' style='width:300px; height:20px; vertical-align: middle;'></progress>\n",
              "      100.00% [333/333 00:19<00:00]\n",
              "    </div>\n",
              "    "
            ],
            "text/plain": [
              "<IPython.core.display.HTML object>"
            ]
          },
          "metadata": {}
        },
        {
          "output_type": "stream",
          "name": "stdout",
          "text": [
            "**************************************************\n",
            "[27]| Test Loss: 0.1625, correct: 269, wrong: 64, accuracy: 0.8078\n",
            "**************************************************\n"
          ]
        },
        {
          "output_type": "display_data",
          "data": {
            "text/html": [
              "\n",
              "    <div>\n",
              "        <style>\n",
              "            /* Turns off some styling */\n",
              "            progress {\n",
              "                /* gets rid of default border in Firefox and Opera. */\n",
              "                border: none;\n",
              "                /* Needs to be in here for Safari polyfill so background images work as expected. */\n",
              "                background-size: auto;\n",
              "            }\n",
              "            .progress-bar-interrupted, .progress-bar-interrupted::-webkit-progress-bar {\n",
              "                background: #F44336;\n",
              "            }\n",
              "        </style>\n",
              "      <progress value='807' class='' max='807' style='width:300px; height:20px; vertical-align: middle;'></progress>\n",
              "      100.00% [807/807 02:33<00:00]\n",
              "    </div>\n",
              "    "
            ],
            "text/plain": [
              "<IPython.core.display.HTML object>"
            ]
          },
          "metadata": {}
        },
        {
          "output_type": "stream",
          "name": "stdout",
          "text": [
            "[28][50] Loss: 0.0843, time_lapsed: 9.4356\n",
            "[28][100] Loss: 0.0852, time_lapsed: 9.5194\n",
            "[28][150] Loss: 0.0813, time_lapsed: 9.5241\n",
            "[28][200] Loss: 0.0731, time_lapsed: 9.5262\n",
            "[28][250] Loss: 0.0897, time_lapsed: 9.5292\n",
            "[28][300] Loss: 0.0717, time_lapsed: 9.5298\n",
            "[28][350] Loss: 0.0759, time_lapsed: 9.5240\n",
            "[28][400] Loss: 0.0813, time_lapsed: 9.5219\n",
            "[28][450] Loss: 0.0626, time_lapsed: 9.5291\n",
            "[28][500] Loss: 0.0761, time_lapsed: 9.5206\n",
            "[28][550] Loss: 0.0705, time_lapsed: 9.5281\n",
            "[28][600] Loss: 0.0933, time_lapsed: 9.5241\n",
            "[28][650] Loss: 0.0736, time_lapsed: 9.5190\n",
            "[28][700] Loss: 0.0741, time_lapsed: 9.5286\n",
            "[28][750] Loss: 0.0799, time_lapsed: 9.5253\n",
            "[28][800] Loss: 0.0855, time_lapsed: 9.5294\n"
          ]
        },
        {
          "output_type": "display_data",
          "data": {
            "text/html": [
              "\n",
              "    <div>\n",
              "        <style>\n",
              "            /* Turns off some styling */\n",
              "            progress {\n",
              "                /* gets rid of default border in Firefox and Opera. */\n",
              "                border: none;\n",
              "                /* Needs to be in here for Safari polyfill so background images work as expected. */\n",
              "                background-size: auto;\n",
              "            }\n",
              "            .progress-bar-interrupted, .progress-bar-interrupted::-webkit-progress-bar {\n",
              "                background: #F44336;\n",
              "            }\n",
              "        </style>\n",
              "      <progress value='333' class='' max='333' style='width:300px; height:20px; vertical-align: middle;'></progress>\n",
              "      100.00% [333/333 00:19<00:00]\n",
              "    </div>\n",
              "    "
            ],
            "text/plain": [
              "<IPython.core.display.HTML object>"
            ]
          },
          "metadata": {}
        },
        {
          "output_type": "stream",
          "name": "stdout",
          "text": [
            "**************************************************\n",
            "[28]| Test Loss: 0.2251, correct: 276, wrong: 57, accuracy: 0.8288\n",
            "**************************************************\n"
          ]
        },
        {
          "output_type": "display_data",
          "data": {
            "text/html": [
              "\n",
              "    <div>\n",
              "        <style>\n",
              "            /* Turns off some styling */\n",
              "            progress {\n",
              "                /* gets rid of default border in Firefox and Opera. */\n",
              "                border: none;\n",
              "                /* Needs to be in here for Safari polyfill so background images work as expected. */\n",
              "                background-size: auto;\n",
              "            }\n",
              "            .progress-bar-interrupted, .progress-bar-interrupted::-webkit-progress-bar {\n",
              "                background: #F44336;\n",
              "            }\n",
              "        </style>\n",
              "      <progress value='807' class='' max='807' style='width:300px; height:20px; vertical-align: middle;'></progress>\n",
              "      100.00% [807/807 02:33<00:00]\n",
              "    </div>\n",
              "    "
            ],
            "text/plain": [
              "<IPython.core.display.HTML object>"
            ]
          },
          "metadata": {}
        },
        {
          "output_type": "stream",
          "name": "stdout",
          "text": [
            "[29][50] Loss: 0.1026, time_lapsed: 9.4458\n",
            "[29][100] Loss: 0.0875, time_lapsed: 9.5315\n",
            "[29][150] Loss: 0.0719, time_lapsed: 9.5200\n",
            "[29][200] Loss: 0.0729, time_lapsed: 9.5187\n",
            "[29][250] Loss: 0.0891, time_lapsed: 9.5270\n",
            "[29][300] Loss: 0.0643, time_lapsed: 9.5218\n",
            "[29][350] Loss: 0.0575, time_lapsed: 9.5199\n",
            "[29][400] Loss: 0.0685, time_lapsed: 9.5177\n",
            "[29][450] Loss: 0.0860, time_lapsed: 9.5214\n",
            "[29][500] Loss: 0.0818, time_lapsed: 9.5253\n",
            "[29][550] Loss: 0.0859, time_lapsed: 9.5222\n",
            "[29][600] Loss: 0.0910, time_lapsed: 9.5253\n",
            "[29][650] Loss: 0.1017, time_lapsed: 9.5200\n",
            "[29][700] Loss: 0.0683, time_lapsed: 9.5223\n",
            "[29][750] Loss: 0.0978, time_lapsed: 9.5227\n",
            "[29][800] Loss: 0.0691, time_lapsed: 9.5166\n"
          ]
        },
        {
          "output_type": "display_data",
          "data": {
            "text/html": [
              "\n",
              "    <div>\n",
              "        <style>\n",
              "            /* Turns off some styling */\n",
              "            progress {\n",
              "                /* gets rid of default border in Firefox and Opera. */\n",
              "                border: none;\n",
              "                /* Needs to be in here for Safari polyfill so background images work as expected. */\n",
              "                background-size: auto;\n",
              "            }\n",
              "            .progress-bar-interrupted, .progress-bar-interrupted::-webkit-progress-bar {\n",
              "                background: #F44336;\n",
              "            }\n",
              "        </style>\n",
              "      <progress value='333' class='' max='333' style='width:300px; height:20px; vertical-align: middle;'></progress>\n",
              "      100.00% [333/333 00:19<00:00]\n",
              "    </div>\n",
              "    "
            ],
            "text/plain": [
              "<IPython.core.display.HTML object>"
            ]
          },
          "metadata": {}
        },
        {
          "output_type": "stream",
          "name": "stdout",
          "text": [
            "**************************************************\n",
            "[29]| Test Loss: 0.2014, correct: 274, wrong: 59, accuracy: 0.8228\n",
            "**************************************************\n"
          ]
        },
        {
          "output_type": "display_data",
          "data": {
            "text/html": [
              "\n",
              "    <div>\n",
              "        <style>\n",
              "            /* Turns off some styling */\n",
              "            progress {\n",
              "                /* gets rid of default border in Firefox and Opera. */\n",
              "                border: none;\n",
              "                /* Needs to be in here for Safari polyfill so background images work as expected. */\n",
              "                background-size: auto;\n",
              "            }\n",
              "            .progress-bar-interrupted, .progress-bar-interrupted::-webkit-progress-bar {\n",
              "                background: #F44336;\n",
              "            }\n",
              "        </style>\n",
              "      <progress value='807' class='' max='807' style='width:300px; height:20px; vertical-align: middle;'></progress>\n",
              "      100.00% [807/807 02:33<00:00]\n",
              "    </div>\n",
              "    "
            ],
            "text/plain": [
              "<IPython.core.display.HTML object>"
            ]
          },
          "metadata": {}
        },
        {
          "output_type": "stream",
          "name": "stdout",
          "text": [
            "[30][50] Loss: 0.0844, time_lapsed: 9.4397\n",
            "[30][100] Loss: 0.0942, time_lapsed: 9.5217\n",
            "[30][150] Loss: 0.0928, time_lapsed: 9.5322\n",
            "[30][200] Loss: 0.0814, time_lapsed: 9.5254\n",
            "[30][250] Loss: 0.0703, time_lapsed: 9.5264\n",
            "[30][300] Loss: 0.0604, time_lapsed: 9.5238\n",
            "[30][350] Loss: 0.0817, time_lapsed: 9.5214\n",
            "[30][400] Loss: 0.0903, time_lapsed: 9.5274\n",
            "[30][450] Loss: 0.0698, time_lapsed: 9.5249\n",
            "[30][500] Loss: 0.0813, time_lapsed: 9.5261\n",
            "[30][550] Loss: 0.0745, time_lapsed: 9.5249\n",
            "[30][600] Loss: 0.0857, time_lapsed: 9.5323\n",
            "[30][650] Loss: 0.0755, time_lapsed: 9.5238\n",
            "[30][700] Loss: 0.0860, time_lapsed: 9.5288\n",
            "[30][750] Loss: 0.0879, time_lapsed: 9.5274\n",
            "[30][800] Loss: 0.1001, time_lapsed: 9.5282\n"
          ]
        },
        {
          "output_type": "display_data",
          "data": {
            "text/html": [
              "\n",
              "    <div>\n",
              "        <style>\n",
              "            /* Turns off some styling */\n",
              "            progress {\n",
              "                /* gets rid of default border in Firefox and Opera. */\n",
              "                border: none;\n",
              "                /* Needs to be in here for Safari polyfill so background images work as expected. */\n",
              "                background-size: auto;\n",
              "            }\n",
              "            .progress-bar-interrupted, .progress-bar-interrupted::-webkit-progress-bar {\n",
              "                background: #F44336;\n",
              "            }\n",
              "        </style>\n",
              "      <progress value='333' class='' max='333' style='width:300px; height:20px; vertical-align: middle;'></progress>\n",
              "      100.00% [333/333 00:19<00:00]\n",
              "    </div>\n",
              "    "
            ],
            "text/plain": [
              "<IPython.core.display.HTML object>"
            ]
          },
          "metadata": {}
        },
        {
          "output_type": "stream",
          "name": "stdout",
          "text": [
            "**************************************************\n",
            "[30]| Test Loss: 0.1671, correct: 269, wrong: 64, accuracy: 0.8078\n",
            "**************************************************\n"
          ]
        },
        {
          "output_type": "display_data",
          "data": {
            "text/html": [
              "\n",
              "    <div>\n",
              "        <style>\n",
              "            /* Turns off some styling */\n",
              "            progress {\n",
              "                /* gets rid of default border in Firefox and Opera. */\n",
              "                border: none;\n",
              "                /* Needs to be in here for Safari polyfill so background images work as expected. */\n",
              "                background-size: auto;\n",
              "            }\n",
              "            .progress-bar-interrupted, .progress-bar-interrupted::-webkit-progress-bar {\n",
              "                background: #F44336;\n",
              "            }\n",
              "        </style>\n",
              "      <progress value='807' class='' max='807' style='width:300px; height:20px; vertical-align: middle;'></progress>\n",
              "      100.00% [807/807 02:33<00:00]\n",
              "    </div>\n",
              "    "
            ],
            "text/plain": [
              "<IPython.core.display.HTML object>"
            ]
          },
          "metadata": {}
        },
        {
          "output_type": "stream",
          "name": "stdout",
          "text": [
            "[31][50] Loss: 0.0923, time_lapsed: 9.4498\n",
            "[31][100] Loss: 0.0840, time_lapsed: 9.5306\n",
            "[31][150] Loss: 0.0815, time_lapsed: 9.5292\n",
            "[31][200] Loss: 0.0730, time_lapsed: 9.5329\n",
            "[31][250] Loss: 0.0818, time_lapsed: 9.5274\n",
            "[31][300] Loss: 0.0959, time_lapsed: 9.5279\n",
            "[31][350] Loss: 0.0847, time_lapsed: 9.5352\n",
            "[31][400] Loss: 0.0718, time_lapsed: 9.5228\n",
            "[31][450] Loss: 0.0867, time_lapsed: 9.5227\n",
            "[31][500] Loss: 0.0747, time_lapsed: 9.5271\n",
            "[31][550] Loss: 0.0621, time_lapsed: 9.5295\n",
            "[31][600] Loss: 0.0897, time_lapsed: 9.5299\n",
            "[31][650] Loss: 0.0707, time_lapsed: 9.5183\n",
            "[31][700] Loss: 0.0862, time_lapsed: 9.5344\n",
            "[31][750] Loss: 0.1057, time_lapsed: 9.5148\n",
            "[31][800] Loss: 0.0900, time_lapsed: 9.5165\n"
          ]
        },
        {
          "output_type": "display_data",
          "data": {
            "text/html": [
              "\n",
              "    <div>\n",
              "        <style>\n",
              "            /* Turns off some styling */\n",
              "            progress {\n",
              "                /* gets rid of default border in Firefox and Opera. */\n",
              "                border: none;\n",
              "                /* Needs to be in here for Safari polyfill so background images work as expected. */\n",
              "                background-size: auto;\n",
              "            }\n",
              "            .progress-bar-interrupted, .progress-bar-interrupted::-webkit-progress-bar {\n",
              "                background: #F44336;\n",
              "            }\n",
              "        </style>\n",
              "      <progress value='333' class='' max='333' style='width:300px; height:20px; vertical-align: middle;'></progress>\n",
              "      100.00% [333/333 00:19<00:00]\n",
              "    </div>\n",
              "    "
            ],
            "text/plain": [
              "<IPython.core.display.HTML object>"
            ]
          },
          "metadata": {}
        },
        {
          "output_type": "stream",
          "name": "stdout",
          "text": [
            "**************************************************\n",
            "[31]| Test Loss: 0.1646, correct: 268, wrong: 65, accuracy: 0.8048\n",
            "**************************************************\n"
          ]
        },
        {
          "output_type": "display_data",
          "data": {
            "text/html": [
              "\n",
              "    <div>\n",
              "        <style>\n",
              "            /* Turns off some styling */\n",
              "            progress {\n",
              "                /* gets rid of default border in Firefox and Opera. */\n",
              "                border: none;\n",
              "                /* Needs to be in here for Safari polyfill so background images work as expected. */\n",
              "                background-size: auto;\n",
              "            }\n",
              "            .progress-bar-interrupted, .progress-bar-interrupted::-webkit-progress-bar {\n",
              "                background: #F44336;\n",
              "            }\n",
              "        </style>\n",
              "      <progress value='807' class='' max='807' style='width:300px; height:20px; vertical-align: middle;'></progress>\n",
              "      100.00% [807/807 02:33<00:00]\n",
              "    </div>\n",
              "    "
            ],
            "text/plain": [
              "<IPython.core.display.HTML object>"
            ]
          },
          "metadata": {}
        },
        {
          "output_type": "stream",
          "name": "stdout",
          "text": [
            "[32][50] Loss: 0.1038, time_lapsed: 9.4497\n",
            "[32][100] Loss: 0.0940, time_lapsed: 9.5301\n",
            "[32][150] Loss: 0.0591, time_lapsed: 9.5309\n",
            "[32][200] Loss: 0.0771, time_lapsed: 9.5234\n",
            "[32][250] Loss: 0.0848, time_lapsed: 9.5253\n",
            "[32][300] Loss: 0.0730, time_lapsed: 9.5222\n",
            "[32][350] Loss: 0.0698, time_lapsed: 9.5250\n",
            "[32][400] Loss: 0.0786, time_lapsed: 9.5265\n",
            "[32][450] Loss: 0.0914, time_lapsed: 9.5291\n",
            "[32][500] Loss: 0.0830, time_lapsed: 9.5214\n",
            "[32][550] Loss: 0.0825, time_lapsed: 9.5258\n",
            "[32][600] Loss: 0.0908, time_lapsed: 9.5388\n",
            "[32][650] Loss: 0.0805, time_lapsed: 9.5248\n",
            "[32][700] Loss: 0.0890, time_lapsed: 9.5332\n",
            "[32][750] Loss: 0.0772, time_lapsed: 9.5300\n",
            "[32][800] Loss: 0.0965, time_lapsed: 9.5347\n"
          ]
        },
        {
          "output_type": "display_data",
          "data": {
            "text/html": [
              "\n",
              "    <div>\n",
              "        <style>\n",
              "            /* Turns off some styling */\n",
              "            progress {\n",
              "                /* gets rid of default border in Firefox and Opera. */\n",
              "                border: none;\n",
              "                /* Needs to be in here for Safari polyfill so background images work as expected. */\n",
              "                background-size: auto;\n",
              "            }\n",
              "            .progress-bar-interrupted, .progress-bar-interrupted::-webkit-progress-bar {\n",
              "                background: #F44336;\n",
              "            }\n",
              "        </style>\n",
              "      <progress value='333' class='' max='333' style='width:300px; height:20px; vertical-align: middle;'></progress>\n",
              "      100.00% [333/333 00:19<00:00]\n",
              "    </div>\n",
              "    "
            ],
            "text/plain": [
              "<IPython.core.display.HTML object>"
            ]
          },
          "metadata": {}
        },
        {
          "output_type": "stream",
          "name": "stdout",
          "text": [
            "**************************************************\n",
            "[32]| Test Loss: 0.1311, correct: 287, wrong: 46, accuracy: 0.8619\n",
            "**************************************************\n"
          ]
        },
        {
          "output_type": "display_data",
          "data": {
            "text/html": [
              "\n",
              "    <div>\n",
              "        <style>\n",
              "            /* Turns off some styling */\n",
              "            progress {\n",
              "                /* gets rid of default border in Firefox and Opera. */\n",
              "                border: none;\n",
              "                /* Needs to be in here for Safari polyfill so background images work as expected. */\n",
              "                background-size: auto;\n",
              "            }\n",
              "            .progress-bar-interrupted, .progress-bar-interrupted::-webkit-progress-bar {\n",
              "                background: #F44336;\n",
              "            }\n",
              "        </style>\n",
              "      <progress value='807' class='' max='807' style='width:300px; height:20px; vertical-align: middle;'></progress>\n",
              "      100.00% [807/807 02:33<00:00]\n",
              "    </div>\n",
              "    "
            ],
            "text/plain": [
              "<IPython.core.display.HTML object>"
            ]
          },
          "metadata": {}
        },
        {
          "output_type": "stream",
          "name": "stdout",
          "text": [
            "[33][50] Loss: 0.0827, time_lapsed: 9.4654\n",
            "[33][100] Loss: 0.0812, time_lapsed: 9.6341\n",
            "[33][150] Loss: 0.0753, time_lapsed: 9.5396\n",
            "[33][200] Loss: 0.0789, time_lapsed: 9.5293\n",
            "[33][250] Loss: 0.0673, time_lapsed: 9.5310\n",
            "[33][300] Loss: 0.0858, time_lapsed: 9.5216\n",
            "[33][350] Loss: 0.0763, time_lapsed: 9.5157\n",
            "[33][400] Loss: 0.0681, time_lapsed: 9.5219\n",
            "[33][450] Loss: 0.0878, time_lapsed: 9.5259\n",
            "[33][500] Loss: 0.0773, time_lapsed: 9.5244\n",
            "[33][550] Loss: 0.0875, time_lapsed: 9.5214\n",
            "[33][600] Loss: 0.0942, time_lapsed: 9.5296\n",
            "[33][650] Loss: 0.0708, time_lapsed: 9.6237\n",
            "[33][700] Loss: 0.0693, time_lapsed: 9.5246\n",
            "[33][750] Loss: 0.0814, time_lapsed: 9.6233\n",
            "[33][800] Loss: 0.0647, time_lapsed: 9.5389\n"
          ]
        },
        {
          "output_type": "display_data",
          "data": {
            "text/html": [
              "\n",
              "    <div>\n",
              "        <style>\n",
              "            /* Turns off some styling */\n",
              "            progress {\n",
              "                /* gets rid of default border in Firefox and Opera. */\n",
              "                border: none;\n",
              "                /* Needs to be in here for Safari polyfill so background images work as expected. */\n",
              "                background-size: auto;\n",
              "            }\n",
              "            .progress-bar-interrupted, .progress-bar-interrupted::-webkit-progress-bar {\n",
              "                background: #F44336;\n",
              "            }\n",
              "        </style>\n",
              "      <progress value='333' class='' max='333' style='width:300px; height:20px; vertical-align: middle;'></progress>\n",
              "      100.00% [333/333 00:19<00:00]\n",
              "    </div>\n",
              "    "
            ],
            "text/plain": [
              "<IPython.core.display.HTML object>"
            ]
          },
          "metadata": {}
        },
        {
          "output_type": "stream",
          "name": "stdout",
          "text": [
            "**************************************************\n",
            "[33]| Test Loss: 0.1777, correct: 276, wrong: 57, accuracy: 0.8288\n",
            "**************************************************\n"
          ]
        },
        {
          "output_type": "display_data",
          "data": {
            "text/html": [
              "\n",
              "    <div>\n",
              "        <style>\n",
              "            /* Turns off some styling */\n",
              "            progress {\n",
              "                /* gets rid of default border in Firefox and Opera. */\n",
              "                border: none;\n",
              "                /* Needs to be in here for Safari polyfill so background images work as expected. */\n",
              "                background-size: auto;\n",
              "            }\n",
              "            .progress-bar-interrupted, .progress-bar-interrupted::-webkit-progress-bar {\n",
              "                background: #F44336;\n",
              "            }\n",
              "        </style>\n",
              "      <progress value='807' class='' max='807' style='width:300px; height:20px; vertical-align: middle;'></progress>\n",
              "      100.00% [807/807 02:33<00:00]\n",
              "    </div>\n",
              "    "
            ],
            "text/plain": [
              "<IPython.core.display.HTML object>"
            ]
          },
          "metadata": {}
        },
        {
          "output_type": "stream",
          "name": "stdout",
          "text": [
            "[34][50] Loss: 0.0959, time_lapsed: 9.4625\n",
            "[34][100] Loss: 0.0694, time_lapsed: 9.5350\n",
            "[34][150] Loss: 0.0785, time_lapsed: 9.5339\n",
            "[34][200] Loss: 0.0857, time_lapsed: 9.5431\n",
            "[34][250] Loss: 0.0768, time_lapsed: 9.5355\n",
            "[34][300] Loss: 0.0895, time_lapsed: 9.5310\n",
            "[34][350] Loss: 0.0862, time_lapsed: 9.5330\n",
            "[34][400] Loss: 0.0725, time_lapsed: 9.5318\n",
            "[34][450] Loss: 0.0775, time_lapsed: 9.5243\n",
            "[34][500] Loss: 0.0903, time_lapsed: 9.5329\n",
            "[34][550] Loss: 0.0758, time_lapsed: 9.5243\n",
            "[34][600] Loss: 0.0659, time_lapsed: 9.5337\n",
            "[34][650] Loss: 0.0694, time_lapsed: 9.5383\n",
            "[34][700] Loss: 0.0893, time_lapsed: 9.5420\n",
            "[34][750] Loss: 0.0740, time_lapsed: 9.5271\n",
            "[34][800] Loss: 0.0656, time_lapsed: 9.5355\n"
          ]
        },
        {
          "output_type": "display_data",
          "data": {
            "text/html": [
              "\n",
              "    <div>\n",
              "        <style>\n",
              "            /* Turns off some styling */\n",
              "            progress {\n",
              "                /* gets rid of default border in Firefox and Opera. */\n",
              "                border: none;\n",
              "                /* Needs to be in here for Safari polyfill so background images work as expected. */\n",
              "                background-size: auto;\n",
              "            }\n",
              "            .progress-bar-interrupted, .progress-bar-interrupted::-webkit-progress-bar {\n",
              "                background: #F44336;\n",
              "            }\n",
              "        </style>\n",
              "      <progress value='333' class='' max='333' style='width:300px; height:20px; vertical-align: middle;'></progress>\n",
              "      100.00% [333/333 00:19<00:00]\n",
              "    </div>\n",
              "    "
            ],
            "text/plain": [
              "<IPython.core.display.HTML object>"
            ]
          },
          "metadata": {}
        },
        {
          "output_type": "stream",
          "name": "stdout",
          "text": [
            "**************************************************\n",
            "[34]| Test Loss: 0.1489, correct: 276, wrong: 57, accuracy: 0.8288\n",
            "**************************************************\n"
          ]
        },
        {
          "output_type": "display_data",
          "data": {
            "text/html": [
              "\n",
              "    <div>\n",
              "        <style>\n",
              "            /* Turns off some styling */\n",
              "            progress {\n",
              "                /* gets rid of default border in Firefox and Opera. */\n",
              "                border: none;\n",
              "                /* Needs to be in here for Safari polyfill so background images work as expected. */\n",
              "                background-size: auto;\n",
              "            }\n",
              "            .progress-bar-interrupted, .progress-bar-interrupted::-webkit-progress-bar {\n",
              "                background: #F44336;\n",
              "            }\n",
              "        </style>\n",
              "      <progress value='807' class='' max='807' style='width:300px; height:20px; vertical-align: middle;'></progress>\n",
              "      100.00% [807/807 02:33<00:00]\n",
              "    </div>\n",
              "    "
            ],
            "text/plain": [
              "<IPython.core.display.HTML object>"
            ]
          },
          "metadata": {}
        },
        {
          "output_type": "stream",
          "name": "stdout",
          "text": [
            "[35][50] Loss: 0.0997, time_lapsed: 9.4572\n",
            "[35][100] Loss: 0.0685, time_lapsed: 9.5371\n",
            "[35][150] Loss: 0.0616, time_lapsed: 9.5327\n",
            "[35][200] Loss: 0.0936, time_lapsed: 9.5393\n",
            "[35][250] Loss: 0.0616, time_lapsed: 9.5419\n",
            "[35][300] Loss: 0.0762, time_lapsed: 9.5423\n",
            "[35][350] Loss: 0.0783, time_lapsed: 9.5320\n",
            "[35][400] Loss: 0.0988, time_lapsed: 9.5386\n",
            "[35][450] Loss: 0.0717, time_lapsed: 9.5341\n",
            "[35][500] Loss: 0.0716, time_lapsed: 9.5311\n",
            "[35][550] Loss: 0.0658, time_lapsed: 9.5298\n",
            "[35][600] Loss: 0.0725, time_lapsed: 9.5411\n",
            "[35][650] Loss: 0.0607, time_lapsed: 9.5267\n",
            "[35][700] Loss: 0.0665, time_lapsed: 9.5305\n",
            "[35][750] Loss: 0.0819, time_lapsed: 9.5404\n",
            "[35][800] Loss: 0.0861, time_lapsed: 9.5337\n"
          ]
        },
        {
          "output_type": "display_data",
          "data": {
            "text/html": [
              "\n",
              "    <div>\n",
              "        <style>\n",
              "            /* Turns off some styling */\n",
              "            progress {\n",
              "                /* gets rid of default border in Firefox and Opera. */\n",
              "                border: none;\n",
              "                /* Needs to be in here for Safari polyfill so background images work as expected. */\n",
              "                background-size: auto;\n",
              "            }\n",
              "            .progress-bar-interrupted, .progress-bar-interrupted::-webkit-progress-bar {\n",
              "                background: #F44336;\n",
              "            }\n",
              "        </style>\n",
              "      <progress value='333' class='' max='333' style='width:300px; height:20px; vertical-align: middle;'></progress>\n",
              "      100.00% [333/333 00:19<00:00]\n",
              "    </div>\n",
              "    "
            ],
            "text/plain": [
              "<IPython.core.display.HTML object>"
            ]
          },
          "metadata": {}
        },
        {
          "output_type": "stream",
          "name": "stdout",
          "text": [
            "**************************************************\n",
            "[35]| Test Loss: 0.1539, correct: 274, wrong: 59, accuracy: 0.8228\n",
            "**************************************************\n"
          ]
        },
        {
          "output_type": "display_data",
          "data": {
            "text/html": [
              "\n",
              "    <div>\n",
              "        <style>\n",
              "            /* Turns off some styling */\n",
              "            progress {\n",
              "                /* gets rid of default border in Firefox and Opera. */\n",
              "                border: none;\n",
              "                /* Needs to be in here for Safari polyfill so background images work as expected. */\n",
              "                background-size: auto;\n",
              "            }\n",
              "            .progress-bar-interrupted, .progress-bar-interrupted::-webkit-progress-bar {\n",
              "                background: #F44336;\n",
              "            }\n",
              "        </style>\n",
              "      <progress value='807' class='' max='807' style='width:300px; height:20px; vertical-align: middle;'></progress>\n",
              "      100.00% [807/807 02:33<00:00]\n",
              "    </div>\n",
              "    "
            ],
            "text/plain": [
              "<IPython.core.display.HTML object>"
            ]
          },
          "metadata": {}
        },
        {
          "output_type": "stream",
          "name": "stdout",
          "text": [
            "[36][50] Loss: 0.0788, time_lapsed: 9.4423\n",
            "[36][100] Loss: 0.0837, time_lapsed: 9.5360\n",
            "[36][150] Loss: 0.0683, time_lapsed: 9.5353\n",
            "[36][200] Loss: 0.0691, time_lapsed: 9.5285\n",
            "[36][250] Loss: 0.0895, time_lapsed: 9.5239\n",
            "[36][300] Loss: 0.0585, time_lapsed: 9.5197\n",
            "[36][350] Loss: 0.0774, time_lapsed: 9.5283\n",
            "[36][400] Loss: 0.0873, time_lapsed: 9.5324\n",
            "[36][450] Loss: 0.0738, time_lapsed: 9.5285\n",
            "[36][500] Loss: 0.0620, time_lapsed: 9.5301\n",
            "[36][550] Loss: 0.0787, time_lapsed: 9.5294\n",
            "[36][600] Loss: 0.0781, time_lapsed: 9.5305\n",
            "[36][650] Loss: 0.0767, time_lapsed: 9.5312\n",
            "[36][700] Loss: 0.0658, time_lapsed: 9.5273\n",
            "[36][750] Loss: 0.0792, time_lapsed: 9.5326\n",
            "[36][800] Loss: 0.0841, time_lapsed: 9.5279\n"
          ]
        },
        {
          "output_type": "display_data",
          "data": {
            "text/html": [
              "\n",
              "    <div>\n",
              "        <style>\n",
              "            /* Turns off some styling */\n",
              "            progress {\n",
              "                /* gets rid of default border in Firefox and Opera. */\n",
              "                border: none;\n",
              "                /* Needs to be in here for Safari polyfill so background images work as expected. */\n",
              "                background-size: auto;\n",
              "            }\n",
              "            .progress-bar-interrupted, .progress-bar-interrupted::-webkit-progress-bar {\n",
              "                background: #F44336;\n",
              "            }\n",
              "        </style>\n",
              "      <progress value='333' class='' max='333' style='width:300px; height:20px; vertical-align: middle;'></progress>\n",
              "      100.00% [333/333 00:19<00:00]\n",
              "    </div>\n",
              "    "
            ],
            "text/plain": [
              "<IPython.core.display.HTML object>"
            ]
          },
          "metadata": {}
        },
        {
          "output_type": "stream",
          "name": "stdout",
          "text": [
            "**************************************************\n",
            "[36]| Test Loss: 0.1612, correct: 279, wrong: 54, accuracy: 0.8378\n",
            "**************************************************\n"
          ]
        },
        {
          "output_type": "display_data",
          "data": {
            "text/html": [
              "\n",
              "    <div>\n",
              "        <style>\n",
              "            /* Turns off some styling */\n",
              "            progress {\n",
              "                /* gets rid of default border in Firefox and Opera. */\n",
              "                border: none;\n",
              "                /* Needs to be in here for Safari polyfill so background images work as expected. */\n",
              "                background-size: auto;\n",
              "            }\n",
              "            .progress-bar-interrupted, .progress-bar-interrupted::-webkit-progress-bar {\n",
              "                background: #F44336;\n",
              "            }\n",
              "        </style>\n",
              "      <progress value='807' class='' max='807' style='width:300px; height:20px; vertical-align: middle;'></progress>\n",
              "      100.00% [807/807 02:33<00:00]\n",
              "    </div>\n",
              "    "
            ],
            "text/plain": [
              "<IPython.core.display.HTML object>"
            ]
          },
          "metadata": {}
        },
        {
          "output_type": "stream",
          "name": "stdout",
          "text": [
            "[37][50] Loss: 0.0962, time_lapsed: 9.4550\n",
            "[37][100] Loss: 0.0684, time_lapsed: 9.5278\n",
            "[37][150] Loss: 0.0649, time_lapsed: 9.5317\n",
            "[37][200] Loss: 0.0653, time_lapsed: 9.5328\n",
            "[37][250] Loss: 0.0931, time_lapsed: 9.5375\n",
            "[37][300] Loss: 0.0823, time_lapsed: 9.5278\n",
            "[37][350] Loss: 0.0768, time_lapsed: 9.5317\n",
            "[37][400] Loss: 0.0796, time_lapsed: 9.5314\n",
            "[37][450] Loss: 0.0744, time_lapsed: 9.5303\n",
            "[37][500] Loss: 0.0882, time_lapsed: 9.5283\n",
            "[37][550] Loss: 0.0755, time_lapsed: 9.5376\n",
            "[37][600] Loss: 0.0508, time_lapsed: 9.5270\n",
            "[37][650] Loss: 0.0661, time_lapsed: 9.5361\n",
            "[37][700] Loss: 0.0611, time_lapsed: 9.5325\n",
            "[37][750] Loss: 0.0709, time_lapsed: 9.5375\n",
            "[37][800] Loss: 0.0632, time_lapsed: 9.5371\n"
          ]
        },
        {
          "output_type": "display_data",
          "data": {
            "text/html": [
              "\n",
              "    <div>\n",
              "        <style>\n",
              "            /* Turns off some styling */\n",
              "            progress {\n",
              "                /* gets rid of default border in Firefox and Opera. */\n",
              "                border: none;\n",
              "                /* Needs to be in here for Safari polyfill so background images work as expected. */\n",
              "                background-size: auto;\n",
              "            }\n",
              "            .progress-bar-interrupted, .progress-bar-interrupted::-webkit-progress-bar {\n",
              "                background: #F44336;\n",
              "            }\n",
              "        </style>\n",
              "      <progress value='333' class='' max='333' style='width:300px; height:20px; vertical-align: middle;'></progress>\n",
              "      100.00% [333/333 00:19<00:00]\n",
              "    </div>\n",
              "    "
            ],
            "text/plain": [
              "<IPython.core.display.HTML object>"
            ]
          },
          "metadata": {}
        },
        {
          "output_type": "stream",
          "name": "stdout",
          "text": [
            "**************************************************\n",
            "[37]| Test Loss: 0.1537, correct: 266, wrong: 67, accuracy: 0.7988\n",
            "**************************************************\n"
          ]
        },
        {
          "output_type": "display_data",
          "data": {
            "text/html": [
              "\n",
              "    <div>\n",
              "        <style>\n",
              "            /* Turns off some styling */\n",
              "            progress {\n",
              "                /* gets rid of default border in Firefox and Opera. */\n",
              "                border: none;\n",
              "                /* Needs to be in here for Safari polyfill so background images work as expected. */\n",
              "                background-size: auto;\n",
              "            }\n",
              "            .progress-bar-interrupted, .progress-bar-interrupted::-webkit-progress-bar {\n",
              "                background: #F44336;\n",
              "            }\n",
              "        </style>\n",
              "      <progress value='807' class='' max='807' style='width:300px; height:20px; vertical-align: middle;'></progress>\n",
              "      100.00% [807/807 02:33<00:00]\n",
              "    </div>\n",
              "    "
            ],
            "text/plain": [
              "<IPython.core.display.HTML object>"
            ]
          },
          "metadata": {}
        },
        {
          "output_type": "stream",
          "name": "stdout",
          "text": [
            "[38][50] Loss: 0.0809, time_lapsed: 9.4572\n",
            "[38][100] Loss: 0.0890, time_lapsed: 9.5304\n",
            "[38][150] Loss: 0.0687, time_lapsed: 9.5357\n",
            "[38][200] Loss: 0.0744, time_lapsed: 9.5313\n",
            "[38][250] Loss: 0.0677, time_lapsed: 9.5393\n",
            "[38][300] Loss: 0.0688, time_lapsed: 9.5261\n",
            "[38][350] Loss: 0.0709, time_lapsed: 9.5308\n",
            "[38][400] Loss: 0.0663, time_lapsed: 9.5215\n",
            "[38][450] Loss: 0.0836, time_lapsed: 9.5234\n",
            "[38][500] Loss: 0.0862, time_lapsed: 9.5292\n",
            "[38][550] Loss: 0.0567, time_lapsed: 9.5263\n",
            "[38][600] Loss: 0.0661, time_lapsed: 9.5287\n",
            "[38][650] Loss: 0.0819, time_lapsed: 9.5305\n",
            "[38][700] Loss: 0.0694, time_lapsed: 9.5339\n",
            "[38][750] Loss: 0.0725, time_lapsed: 9.5332\n",
            "[38][800] Loss: 0.0508, time_lapsed: 9.5329\n"
          ]
        },
        {
          "output_type": "display_data",
          "data": {
            "text/html": [
              "\n",
              "    <div>\n",
              "        <style>\n",
              "            /* Turns off some styling */\n",
              "            progress {\n",
              "                /* gets rid of default border in Firefox and Opera. */\n",
              "                border: none;\n",
              "                /* Needs to be in here for Safari polyfill so background images work as expected. */\n",
              "                background-size: auto;\n",
              "            }\n",
              "            .progress-bar-interrupted, .progress-bar-interrupted::-webkit-progress-bar {\n",
              "                background: #F44336;\n",
              "            }\n",
              "        </style>\n",
              "      <progress value='333' class='' max='333' style='width:300px; height:20px; vertical-align: middle;'></progress>\n",
              "      100.00% [333/333 00:19<00:00]\n",
              "    </div>\n",
              "    "
            ],
            "text/plain": [
              "<IPython.core.display.HTML object>"
            ]
          },
          "metadata": {}
        },
        {
          "output_type": "stream",
          "name": "stdout",
          "text": [
            "**************************************************\n",
            "[38]| Test Loss: 0.1572, correct: 268, wrong: 65, accuracy: 0.8048\n",
            "**************************************************\n"
          ]
        },
        {
          "output_type": "display_data",
          "data": {
            "text/html": [
              "\n",
              "    <div>\n",
              "        <style>\n",
              "            /* Turns off some styling */\n",
              "            progress {\n",
              "                /* gets rid of default border in Firefox and Opera. */\n",
              "                border: none;\n",
              "                /* Needs to be in here for Safari polyfill so background images work as expected. */\n",
              "                background-size: auto;\n",
              "            }\n",
              "            .progress-bar-interrupted, .progress-bar-interrupted::-webkit-progress-bar {\n",
              "                background: #F44336;\n",
              "            }\n",
              "        </style>\n",
              "      <progress value='807' class='' max='807' style='width:300px; height:20px; vertical-align: middle;'></progress>\n",
              "      100.00% [807/807 02:33<00:00]\n",
              "    </div>\n",
              "    "
            ],
            "text/plain": [
              "<IPython.core.display.HTML object>"
            ]
          },
          "metadata": {}
        },
        {
          "output_type": "stream",
          "name": "stdout",
          "text": [
            "[39][50] Loss: 0.0833, time_lapsed: 9.4495\n",
            "[39][100] Loss: 0.0569, time_lapsed: 9.5306\n",
            "[39][150] Loss: 0.0898, time_lapsed: 9.5236\n",
            "[39][200] Loss: 0.0754, time_lapsed: 9.5297\n",
            "[39][250] Loss: 0.0637, time_lapsed: 9.5353\n",
            "[39][300] Loss: 0.0685, time_lapsed: 9.5309\n",
            "[39][350] Loss: 0.0794, time_lapsed: 9.5283\n",
            "[39][400] Loss: 0.0789, time_lapsed: 9.5312\n",
            "[39][450] Loss: 0.0793, time_lapsed: 9.5275\n",
            "[39][500] Loss: 0.0917, time_lapsed: 9.5280\n",
            "[39][550] Loss: 0.0689, time_lapsed: 9.5352\n",
            "[39][600] Loss: 0.0748, time_lapsed: 9.5326\n",
            "[39][650] Loss: 0.0747, time_lapsed: 9.5359\n",
            "[39][700] Loss: 0.0762, time_lapsed: 9.5311\n",
            "[39][750] Loss: 0.0805, time_lapsed: 9.5284\n",
            "[39][800] Loss: 0.0591, time_lapsed: 9.5319\n"
          ]
        },
        {
          "output_type": "display_data",
          "data": {
            "text/html": [
              "\n",
              "    <div>\n",
              "        <style>\n",
              "            /* Turns off some styling */\n",
              "            progress {\n",
              "                /* gets rid of default border in Firefox and Opera. */\n",
              "                border: none;\n",
              "                /* Needs to be in here for Safari polyfill so background images work as expected. */\n",
              "                background-size: auto;\n",
              "            }\n",
              "            .progress-bar-interrupted, .progress-bar-interrupted::-webkit-progress-bar {\n",
              "                background: #F44336;\n",
              "            }\n",
              "        </style>\n",
              "      <progress value='333' class='' max='333' style='width:300px; height:20px; vertical-align: middle;'></progress>\n",
              "      100.00% [333/333 00:19<00:00]\n",
              "    </div>\n",
              "    "
            ],
            "text/plain": [
              "<IPython.core.display.HTML object>"
            ]
          },
          "metadata": {}
        },
        {
          "output_type": "stream",
          "name": "stdout",
          "text": [
            "**************************************************\n",
            "[39]| Test Loss: 0.1733, correct: 274, wrong: 59, accuracy: 0.8228\n",
            "**************************************************\n"
          ]
        },
        {
          "output_type": "display_data",
          "data": {
            "text/html": [
              "\n",
              "    <div>\n",
              "        <style>\n",
              "            /* Turns off some styling */\n",
              "            progress {\n",
              "                /* gets rid of default border in Firefox and Opera. */\n",
              "                border: none;\n",
              "                /* Needs to be in here for Safari polyfill so background images work as expected. */\n",
              "                background-size: auto;\n",
              "            }\n",
              "            .progress-bar-interrupted, .progress-bar-interrupted::-webkit-progress-bar {\n",
              "                background: #F44336;\n",
              "            }\n",
              "        </style>\n",
              "      <progress value='807' class='' max='807' style='width:300px; height:20px; vertical-align: middle;'></progress>\n",
              "      100.00% [807/807 02:33<00:00]\n",
              "    </div>\n",
              "    "
            ],
            "text/plain": [
              "<IPython.core.display.HTML object>"
            ]
          },
          "metadata": {}
        },
        {
          "output_type": "stream",
          "name": "stdout",
          "text": [
            "[40][50] Loss: 0.0943, time_lapsed: 9.4369\n",
            "[40][100] Loss: 0.0615, time_lapsed: 9.5295\n",
            "[40][150] Loss: 0.0603, time_lapsed: 9.5231\n",
            "[40][200] Loss: 0.0740, time_lapsed: 9.5207\n",
            "[40][250] Loss: 0.0548, time_lapsed: 9.5209\n",
            "[40][300] Loss: 0.0637, time_lapsed: 9.5283\n",
            "[40][350] Loss: 0.0763, time_lapsed: 9.5276\n",
            "[40][400] Loss: 0.0736, time_lapsed: 9.5281\n",
            "[40][450] Loss: 0.0682, time_lapsed: 9.5213\n",
            "[40][500] Loss: 0.0669, time_lapsed: 9.5364\n",
            "[40][550] Loss: 0.0666, time_lapsed: 9.5254\n",
            "[40][600] Loss: 0.0633, time_lapsed: 9.5263\n",
            "[40][650] Loss: 0.0659, time_lapsed: 9.5253\n",
            "[40][700] Loss: 0.0702, time_lapsed: 9.5337\n",
            "[40][750] Loss: 0.0596, time_lapsed: 9.5316\n",
            "[40][800] Loss: 0.0682, time_lapsed: 9.5409\n"
          ]
        },
        {
          "output_type": "display_data",
          "data": {
            "text/html": [
              "\n",
              "    <div>\n",
              "        <style>\n",
              "            /* Turns off some styling */\n",
              "            progress {\n",
              "                /* gets rid of default border in Firefox and Opera. */\n",
              "                border: none;\n",
              "                /* Needs to be in here for Safari polyfill so background images work as expected. */\n",
              "                background-size: auto;\n",
              "            }\n",
              "            .progress-bar-interrupted, .progress-bar-interrupted::-webkit-progress-bar {\n",
              "                background: #F44336;\n",
              "            }\n",
              "        </style>\n",
              "      <progress value='333' class='' max='333' style='width:300px; height:20px; vertical-align: middle;'></progress>\n",
              "      100.00% [333/333 00:19<00:00]\n",
              "    </div>\n",
              "    "
            ],
            "text/plain": [
              "<IPython.core.display.HTML object>"
            ]
          },
          "metadata": {}
        },
        {
          "output_type": "stream",
          "name": "stdout",
          "text": [
            "**************************************************\n",
            "[40]| Test Loss: 0.2105, correct: 279, wrong: 54, accuracy: 0.8378\n",
            "**************************************************\n"
          ]
        },
        {
          "output_type": "display_data",
          "data": {
            "text/html": [
              "\n",
              "    <div>\n",
              "        <style>\n",
              "            /* Turns off some styling */\n",
              "            progress {\n",
              "                /* gets rid of default border in Firefox and Opera. */\n",
              "                border: none;\n",
              "                /* Needs to be in here for Safari polyfill so background images work as expected. */\n",
              "                background-size: auto;\n",
              "            }\n",
              "            .progress-bar-interrupted, .progress-bar-interrupted::-webkit-progress-bar {\n",
              "                background: #F44336;\n",
              "            }\n",
              "        </style>\n",
              "      <progress value='807' class='' max='807' style='width:300px; height:20px; vertical-align: middle;'></progress>\n",
              "      100.00% [807/807 02:33<00:00]\n",
              "    </div>\n",
              "    "
            ],
            "text/plain": [
              "<IPython.core.display.HTML object>"
            ]
          },
          "metadata": {}
        },
        {
          "output_type": "stream",
          "name": "stdout",
          "text": [
            "[41][50] Loss: 0.0790, time_lapsed: 9.4472\n",
            "[41][100] Loss: 0.0731, time_lapsed: 9.5377\n",
            "[41][150] Loss: 0.0707, time_lapsed: 9.5421\n",
            "[41][200] Loss: 0.0683, time_lapsed: 9.5396\n",
            "[41][250] Loss: 0.0784, time_lapsed: 9.5383\n",
            "[41][300] Loss: 0.0628, time_lapsed: 9.5233\n",
            "[41][350] Loss: 0.0720, time_lapsed: 9.5264\n",
            "[41][400] Loss: 0.0688, time_lapsed: 9.5292\n",
            "[41][450] Loss: 0.0718, time_lapsed: 9.5312\n",
            "[41][500] Loss: 0.0829, time_lapsed: 9.5285\n",
            "[41][550] Loss: 0.0571, time_lapsed: 9.5317\n",
            "[41][600] Loss: 0.0672, time_lapsed: 9.5336\n",
            "[41][650] Loss: 0.0576, time_lapsed: 9.5265\n",
            "[41][700] Loss: 0.0730, time_lapsed: 9.5243\n",
            "[41][750] Loss: 0.0684, time_lapsed: 9.5312\n",
            "[41][800] Loss: 0.0863, time_lapsed: 9.5259\n"
          ]
        },
        {
          "output_type": "display_data",
          "data": {
            "text/html": [
              "\n",
              "    <div>\n",
              "        <style>\n",
              "            /* Turns off some styling */\n",
              "            progress {\n",
              "                /* gets rid of default border in Firefox and Opera. */\n",
              "                border: none;\n",
              "                /* Needs to be in here for Safari polyfill so background images work as expected. */\n",
              "                background-size: auto;\n",
              "            }\n",
              "            .progress-bar-interrupted, .progress-bar-interrupted::-webkit-progress-bar {\n",
              "                background: #F44336;\n",
              "            }\n",
              "        </style>\n",
              "      <progress value='333' class='' max='333' style='width:300px; height:20px; vertical-align: middle;'></progress>\n",
              "      100.00% [333/333 00:19<00:00]\n",
              "    </div>\n",
              "    "
            ],
            "text/plain": [
              "<IPython.core.display.HTML object>"
            ]
          },
          "metadata": {}
        },
        {
          "output_type": "stream",
          "name": "stdout",
          "text": [
            "**************************************************\n",
            "[41]| Test Loss: 0.1196, correct: 273, wrong: 60, accuracy: 0.8198\n",
            "**************************************************\n"
          ]
        },
        {
          "output_type": "display_data",
          "data": {
            "text/html": [
              "\n",
              "    <div>\n",
              "        <style>\n",
              "            /* Turns off some styling */\n",
              "            progress {\n",
              "                /* gets rid of default border in Firefox and Opera. */\n",
              "                border: none;\n",
              "                /* Needs to be in here for Safari polyfill so background images work as expected. */\n",
              "                background-size: auto;\n",
              "            }\n",
              "            .progress-bar-interrupted, .progress-bar-interrupted::-webkit-progress-bar {\n",
              "                background: #F44336;\n",
              "            }\n",
              "        </style>\n",
              "      <progress value='807' class='' max='807' style='width:300px; height:20px; vertical-align: middle;'></progress>\n",
              "      100.00% [807/807 02:33<00:00]\n",
              "    </div>\n",
              "    "
            ],
            "text/plain": [
              "<IPython.core.display.HTML object>"
            ]
          },
          "metadata": {}
        },
        {
          "output_type": "stream",
          "name": "stdout",
          "text": [
            "[42][50] Loss: 0.0864, time_lapsed: 9.4498\n",
            "[42][100] Loss: 0.0659, time_lapsed: 9.5308\n",
            "[42][150] Loss: 0.0852, time_lapsed: 9.5257\n",
            "[42][200] Loss: 0.0565, time_lapsed: 9.5274\n",
            "[42][250] Loss: 0.0812, time_lapsed: 9.5225\n",
            "[42][300] Loss: 0.0770, time_lapsed: 9.5256\n",
            "[42][350] Loss: 0.0584, time_lapsed: 9.5223\n",
            "[42][400] Loss: 0.0645, time_lapsed: 9.5273\n",
            "[42][450] Loss: 0.0805, time_lapsed: 9.5267\n",
            "[42][500] Loss: 0.0593, time_lapsed: 9.5230\n",
            "[42][550] Loss: 0.0847, time_lapsed: 9.5260\n",
            "[42][600] Loss: 0.0561, time_lapsed: 9.5299\n",
            "[42][650] Loss: 0.0671, time_lapsed: 9.5187\n",
            "[42][700] Loss: 0.0626, time_lapsed: 9.5242\n",
            "[42][750] Loss: 0.0795, time_lapsed: 9.5294\n",
            "[42][800] Loss: 0.0798, time_lapsed: 9.5219\n"
          ]
        },
        {
          "output_type": "display_data",
          "data": {
            "text/html": [
              "\n",
              "    <div>\n",
              "        <style>\n",
              "            /* Turns off some styling */\n",
              "            progress {\n",
              "                /* gets rid of default border in Firefox and Opera. */\n",
              "                border: none;\n",
              "                /* Needs to be in here for Safari polyfill so background images work as expected. */\n",
              "                background-size: auto;\n",
              "            }\n",
              "            .progress-bar-interrupted, .progress-bar-interrupted::-webkit-progress-bar {\n",
              "                background: #F44336;\n",
              "            }\n",
              "        </style>\n",
              "      <progress value='333' class='' max='333' style='width:300px; height:20px; vertical-align: middle;'></progress>\n",
              "      100.00% [333/333 00:19<00:00]\n",
              "    </div>\n",
              "    "
            ],
            "text/plain": [
              "<IPython.core.display.HTML object>"
            ]
          },
          "metadata": {}
        },
        {
          "output_type": "stream",
          "name": "stdout",
          "text": [
            "**************************************************\n",
            "[42]| Test Loss: 0.1659, correct: 284, wrong: 49, accuracy: 0.8529\n",
            "**************************************************\n"
          ]
        },
        {
          "output_type": "display_data",
          "data": {
            "text/html": [
              "\n",
              "    <div>\n",
              "        <style>\n",
              "            /* Turns off some styling */\n",
              "            progress {\n",
              "                /* gets rid of default border in Firefox and Opera. */\n",
              "                border: none;\n",
              "                /* Needs to be in here for Safari polyfill so background images work as expected. */\n",
              "                background-size: auto;\n",
              "            }\n",
              "            .progress-bar-interrupted, .progress-bar-interrupted::-webkit-progress-bar {\n",
              "                background: #F44336;\n",
              "            }\n",
              "        </style>\n",
              "      <progress value='807' class='' max='807' style='width:300px; height:20px; vertical-align: middle;'></progress>\n",
              "      100.00% [807/807 02:33<00:00]\n",
              "    </div>\n",
              "    "
            ],
            "text/plain": [
              "<IPython.core.display.HTML object>"
            ]
          },
          "metadata": {}
        },
        {
          "output_type": "stream",
          "name": "stdout",
          "text": [
            "[43][50] Loss: 0.0603, time_lapsed: 9.4532\n",
            "[43][100] Loss: 0.0659, time_lapsed: 9.5302\n",
            "[43][150] Loss: 0.0764, time_lapsed: 9.5311\n",
            "[43][200] Loss: 0.0957, time_lapsed: 9.5288\n",
            "[43][250] Loss: 0.0692, time_lapsed: 9.5296\n",
            "[43][300] Loss: 0.0680, time_lapsed: 9.5236\n",
            "[43][350] Loss: 0.0574, time_lapsed: 9.5214\n",
            "[43][400] Loss: 0.0642, time_lapsed: 9.5268\n",
            "[43][450] Loss: 0.0794, time_lapsed: 9.5336\n",
            "[43][500] Loss: 0.0830, time_lapsed: 9.5273\n",
            "[43][550] Loss: 0.0663, time_lapsed: 9.5325\n",
            "[43][600] Loss: 0.0760, time_lapsed: 9.5329\n",
            "[43][650] Loss: 0.0734, time_lapsed: 9.5205\n",
            "[43][700] Loss: 0.0735, time_lapsed: 9.5225\n",
            "[43][750] Loss: 0.0581, time_lapsed: 9.5220\n",
            "[43][800] Loss: 0.0626, time_lapsed: 9.5231\n"
          ]
        },
        {
          "output_type": "display_data",
          "data": {
            "text/html": [
              "\n",
              "    <div>\n",
              "        <style>\n",
              "            /* Turns off some styling */\n",
              "            progress {\n",
              "                /* gets rid of default border in Firefox and Opera. */\n",
              "                border: none;\n",
              "                /* Needs to be in here for Safari polyfill so background images work as expected. */\n",
              "                background-size: auto;\n",
              "            }\n",
              "            .progress-bar-interrupted, .progress-bar-interrupted::-webkit-progress-bar {\n",
              "                background: #F44336;\n",
              "            }\n",
              "        </style>\n",
              "      <progress value='333' class='' max='333' style='width:300px; height:20px; vertical-align: middle;'></progress>\n",
              "      100.00% [333/333 00:19<00:00]\n",
              "    </div>\n",
              "    "
            ],
            "text/plain": [
              "<IPython.core.display.HTML object>"
            ]
          },
          "metadata": {}
        },
        {
          "output_type": "stream",
          "name": "stdout",
          "text": [
            "**************************************************\n",
            "[43]| Test Loss: 0.2557, correct: 274, wrong: 59, accuracy: 0.8228\n",
            "**************************************************\n"
          ]
        },
        {
          "output_type": "display_data",
          "data": {
            "text/html": [
              "\n",
              "    <div>\n",
              "        <style>\n",
              "            /* Turns off some styling */\n",
              "            progress {\n",
              "                /* gets rid of default border in Firefox and Opera. */\n",
              "                border: none;\n",
              "                /* Needs to be in here for Safari polyfill so background images work as expected. */\n",
              "                background-size: auto;\n",
              "            }\n",
              "            .progress-bar-interrupted, .progress-bar-interrupted::-webkit-progress-bar {\n",
              "                background: #F44336;\n",
              "            }\n",
              "        </style>\n",
              "      <progress value='807' class='' max='807' style='width:300px; height:20px; vertical-align: middle;'></progress>\n",
              "      100.00% [807/807 02:33<00:00]\n",
              "    </div>\n",
              "    "
            ],
            "text/plain": [
              "<IPython.core.display.HTML object>"
            ]
          },
          "metadata": {}
        },
        {
          "output_type": "stream",
          "name": "stdout",
          "text": [
            "[44][50] Loss: 0.0653, time_lapsed: 9.4520\n",
            "[44][100] Loss: 0.0722, time_lapsed: 9.5282\n",
            "[44][150] Loss: 0.0824, time_lapsed: 9.5306\n",
            "[44][200] Loss: 0.0725, time_lapsed: 9.5273\n",
            "[44][250] Loss: 0.0706, time_lapsed: 9.5365\n",
            "[44][300] Loss: 0.0700, time_lapsed: 9.5353\n",
            "[44][350] Loss: 0.0678, time_lapsed: 9.5405\n",
            "[44][400] Loss: 0.0710, time_lapsed: 9.5241\n",
            "[44][450] Loss: 0.0655, time_lapsed: 9.5291\n",
            "[44][500] Loss: 0.0600, time_lapsed: 9.5381\n",
            "[44][550] Loss: 0.0635, time_lapsed: 9.5356\n",
            "[44][600] Loss: 0.0804, time_lapsed: 9.5327\n",
            "[44][650] Loss: 0.0698, time_lapsed: 9.5340\n",
            "[44][700] Loss: 0.0549, time_lapsed: 9.5329\n",
            "[44][750] Loss: 0.0836, time_lapsed: 9.5279\n",
            "[44][800] Loss: 0.0629, time_lapsed: 9.5317\n"
          ]
        },
        {
          "output_type": "display_data",
          "data": {
            "text/html": [
              "\n",
              "    <div>\n",
              "        <style>\n",
              "            /* Turns off some styling */\n",
              "            progress {\n",
              "                /* gets rid of default border in Firefox and Opera. */\n",
              "                border: none;\n",
              "                /* Needs to be in here for Safari polyfill so background images work as expected. */\n",
              "                background-size: auto;\n",
              "            }\n",
              "            .progress-bar-interrupted, .progress-bar-interrupted::-webkit-progress-bar {\n",
              "                background: #F44336;\n",
              "            }\n",
              "        </style>\n",
              "      <progress value='333' class='' max='333' style='width:300px; height:20px; vertical-align: middle;'></progress>\n",
              "      100.00% [333/333 00:19<00:00]\n",
              "    </div>\n",
              "    "
            ],
            "text/plain": [
              "<IPython.core.display.HTML object>"
            ]
          },
          "metadata": {}
        },
        {
          "output_type": "stream",
          "name": "stdout",
          "text": [
            "**************************************************\n",
            "[44]| Test Loss: 0.1063, correct: 270, wrong: 63, accuracy: 0.8108\n",
            "**************************************************\n"
          ]
        },
        {
          "output_type": "display_data",
          "data": {
            "text/html": [
              "\n",
              "    <div>\n",
              "        <style>\n",
              "            /* Turns off some styling */\n",
              "            progress {\n",
              "                /* gets rid of default border in Firefox and Opera. */\n",
              "                border: none;\n",
              "                /* Needs to be in here for Safari polyfill so background images work as expected. */\n",
              "                background-size: auto;\n",
              "            }\n",
              "            .progress-bar-interrupted, .progress-bar-interrupted::-webkit-progress-bar {\n",
              "                background: #F44336;\n",
              "            }\n",
              "        </style>\n",
              "      <progress value='807' class='' max='807' style='width:300px; height:20px; vertical-align: middle;'></progress>\n",
              "      100.00% [807/807 02:33<00:00]\n",
              "    </div>\n",
              "    "
            ],
            "text/plain": [
              "<IPython.core.display.HTML object>"
            ]
          },
          "metadata": {}
        },
        {
          "output_type": "stream",
          "name": "stdout",
          "text": [
            "[45][50] Loss: 0.0799, time_lapsed: 9.4393\n",
            "[45][100] Loss: 0.0713, time_lapsed: 9.5318\n",
            "[45][150] Loss: 0.0522, time_lapsed: 9.5230\n",
            "[45][200] Loss: 0.0639, time_lapsed: 9.5278\n",
            "[45][250] Loss: 0.0671, time_lapsed: 9.5292\n",
            "[45][300] Loss: 0.0631, time_lapsed: 9.5298\n",
            "[45][350] Loss: 0.0587, time_lapsed: 9.5370\n",
            "[45][400] Loss: 0.0733, time_lapsed: 9.5266\n",
            "[45][450] Loss: 0.0697, time_lapsed: 9.5248\n",
            "[45][500] Loss: 0.0766, time_lapsed: 9.5286\n",
            "[45][550] Loss: 0.0704, time_lapsed: 9.5236\n",
            "[45][600] Loss: 0.0601, time_lapsed: 9.5198\n",
            "[45][650] Loss: 0.0706, time_lapsed: 9.5276\n",
            "[45][700] Loss: 0.0664, time_lapsed: 9.5327\n",
            "[45][750] Loss: 0.0690, time_lapsed: 9.5231\n",
            "[45][800] Loss: 0.0610, time_lapsed: 9.5306\n"
          ]
        },
        {
          "output_type": "display_data",
          "data": {
            "text/html": [
              "\n",
              "    <div>\n",
              "        <style>\n",
              "            /* Turns off some styling */\n",
              "            progress {\n",
              "                /* gets rid of default border in Firefox and Opera. */\n",
              "                border: none;\n",
              "                /* Needs to be in here for Safari polyfill so background images work as expected. */\n",
              "                background-size: auto;\n",
              "            }\n",
              "            .progress-bar-interrupted, .progress-bar-interrupted::-webkit-progress-bar {\n",
              "                background: #F44336;\n",
              "            }\n",
              "        </style>\n",
              "      <progress value='333' class='' max='333' style='width:300px; height:20px; vertical-align: middle;'></progress>\n",
              "      100.00% [333/333 00:19<00:00]\n",
              "    </div>\n",
              "    "
            ],
            "text/plain": [
              "<IPython.core.display.HTML object>"
            ]
          },
          "metadata": {}
        },
        {
          "output_type": "stream",
          "name": "stdout",
          "text": [
            "**************************************************\n",
            "[45]| Test Loss: 0.1435, correct: 284, wrong: 49, accuracy: 0.8529\n",
            "**************************************************\n"
          ]
        },
        {
          "output_type": "display_data",
          "data": {
            "text/html": [
              "\n",
              "    <div>\n",
              "        <style>\n",
              "            /* Turns off some styling */\n",
              "            progress {\n",
              "                /* gets rid of default border in Firefox and Opera. */\n",
              "                border: none;\n",
              "                /* Needs to be in here for Safari polyfill so background images work as expected. */\n",
              "                background-size: auto;\n",
              "            }\n",
              "            .progress-bar-interrupted, .progress-bar-interrupted::-webkit-progress-bar {\n",
              "                background: #F44336;\n",
              "            }\n",
              "        </style>\n",
              "      <progress value='807' class='' max='807' style='width:300px; height:20px; vertical-align: middle;'></progress>\n",
              "      100.00% [807/807 02:33<00:00]\n",
              "    </div>\n",
              "    "
            ],
            "text/plain": [
              "<IPython.core.display.HTML object>"
            ]
          },
          "metadata": {}
        },
        {
          "output_type": "stream",
          "name": "stdout",
          "text": [
            "[46][50] Loss: 0.0785, time_lapsed: 9.4621\n",
            "[46][100] Loss: 0.0667, time_lapsed: 9.5404\n",
            "[46][150] Loss: 0.0847, time_lapsed: 9.5431\n",
            "[46][200] Loss: 0.0737, time_lapsed: 9.5302\n",
            "[46][250] Loss: 0.0693, time_lapsed: 9.5284\n",
            "[46][300] Loss: 0.0727, time_lapsed: 9.5323\n",
            "[46][350] Loss: 0.0649, time_lapsed: 9.5347\n",
            "[46][400] Loss: 0.0711, time_lapsed: 9.5512\n",
            "[46][450] Loss: 0.0802, time_lapsed: 9.5271\n",
            "[46][500] Loss: 0.0551, time_lapsed: 9.5295\n",
            "[46][550] Loss: 0.0495, time_lapsed: 9.5350\n",
            "[46][600] Loss: 0.0645, time_lapsed: 9.5420\n",
            "[46][650] Loss: 0.0660, time_lapsed: 9.5274\n",
            "[46][700] Loss: 0.0646, time_lapsed: 9.5346\n",
            "[46][750] Loss: 0.0707, time_lapsed: 9.5285\n",
            "[46][800] Loss: 0.0541, time_lapsed: 9.5276\n"
          ]
        },
        {
          "output_type": "display_data",
          "data": {
            "text/html": [
              "\n",
              "    <div>\n",
              "        <style>\n",
              "            /* Turns off some styling */\n",
              "            progress {\n",
              "                /* gets rid of default border in Firefox and Opera. */\n",
              "                border: none;\n",
              "                /* Needs to be in here for Safari polyfill so background images work as expected. */\n",
              "                background-size: auto;\n",
              "            }\n",
              "            .progress-bar-interrupted, .progress-bar-interrupted::-webkit-progress-bar {\n",
              "                background: #F44336;\n",
              "            }\n",
              "        </style>\n",
              "      <progress value='333' class='' max='333' style='width:300px; height:20px; vertical-align: middle;'></progress>\n",
              "      100.00% [333/333 00:19<00:00]\n",
              "    </div>\n",
              "    "
            ],
            "text/plain": [
              "<IPython.core.display.HTML object>"
            ]
          },
          "metadata": {}
        },
        {
          "output_type": "stream",
          "name": "stdout",
          "text": [
            "**************************************************\n",
            "[46]| Test Loss: 0.1201, correct: 285, wrong: 48, accuracy: 0.8559\n",
            "**************************************************\n"
          ]
        },
        {
          "output_type": "display_data",
          "data": {
            "text/html": [
              "\n",
              "    <div>\n",
              "        <style>\n",
              "            /* Turns off some styling */\n",
              "            progress {\n",
              "                /* gets rid of default border in Firefox and Opera. */\n",
              "                border: none;\n",
              "                /* Needs to be in here for Safari polyfill so background images work as expected. */\n",
              "                background-size: auto;\n",
              "            }\n",
              "            .progress-bar-interrupted, .progress-bar-interrupted::-webkit-progress-bar {\n",
              "                background: #F44336;\n",
              "            }\n",
              "        </style>\n",
              "      <progress value='807' class='' max='807' style='width:300px; height:20px; vertical-align: middle;'></progress>\n",
              "      100.00% [807/807 02:33<00:00]\n",
              "    </div>\n",
              "    "
            ],
            "text/plain": [
              "<IPython.core.display.HTML object>"
            ]
          },
          "metadata": {}
        },
        {
          "output_type": "stream",
          "name": "stdout",
          "text": [
            "[47][50] Loss: 0.0704, time_lapsed: 9.4479\n",
            "[47][100] Loss: 0.0674, time_lapsed: 9.5352\n",
            "[47][150] Loss: 0.0688, time_lapsed: 9.5239\n",
            "[47][200] Loss: 0.0538, time_lapsed: 9.5231\n",
            "[47][250] Loss: 0.0587, time_lapsed: 9.5269\n",
            "[47][300] Loss: 0.0645, time_lapsed: 9.5375\n",
            "[47][350] Loss: 0.0782, time_lapsed: 9.5257\n",
            "[47][400] Loss: 0.0520, time_lapsed: 9.5329\n",
            "[47][450] Loss: 0.0665, time_lapsed: 9.5334\n",
            "[47][500] Loss: 0.0590, time_lapsed: 9.5437\n",
            "[47][550] Loss: 0.0732, time_lapsed: 9.5251\n",
            "[47][600] Loss: 0.0582, time_lapsed: 9.5361\n",
            "[47][650] Loss: 0.0662, time_lapsed: 9.5324\n",
            "[47][700] Loss: 0.0560, time_lapsed: 9.5389\n",
            "[47][750] Loss: 0.0692, time_lapsed: 9.5294\n",
            "[47][800] Loss: 0.0843, time_lapsed: 9.5347\n"
          ]
        },
        {
          "output_type": "display_data",
          "data": {
            "text/html": [
              "\n",
              "    <div>\n",
              "        <style>\n",
              "            /* Turns off some styling */\n",
              "            progress {\n",
              "                /* gets rid of default border in Firefox and Opera. */\n",
              "                border: none;\n",
              "                /* Needs to be in here for Safari polyfill so background images work as expected. */\n",
              "                background-size: auto;\n",
              "            }\n",
              "            .progress-bar-interrupted, .progress-bar-interrupted::-webkit-progress-bar {\n",
              "                background: #F44336;\n",
              "            }\n",
              "        </style>\n",
              "      <progress value='333' class='' max='333' style='width:300px; height:20px; vertical-align: middle;'></progress>\n",
              "      100.00% [333/333 00:19<00:00]\n",
              "    </div>\n",
              "    "
            ],
            "text/plain": [
              "<IPython.core.display.HTML object>"
            ]
          },
          "metadata": {}
        },
        {
          "output_type": "stream",
          "name": "stdout",
          "text": [
            "**************************************************\n",
            "[47]| Test Loss: 0.1647, correct: 275, wrong: 58, accuracy: 0.8258\n",
            "**************************************************\n"
          ]
        },
        {
          "output_type": "display_data",
          "data": {
            "text/html": [
              "\n",
              "    <div>\n",
              "        <style>\n",
              "            /* Turns off some styling */\n",
              "            progress {\n",
              "                /* gets rid of default border in Firefox and Opera. */\n",
              "                border: none;\n",
              "                /* Needs to be in here for Safari polyfill so background images work as expected. */\n",
              "                background-size: auto;\n",
              "            }\n",
              "            .progress-bar-interrupted, .progress-bar-interrupted::-webkit-progress-bar {\n",
              "                background: #F44336;\n",
              "            }\n",
              "        </style>\n",
              "      <progress value='807' class='' max='807' style='width:300px; height:20px; vertical-align: middle;'></progress>\n",
              "      100.00% [807/807 02:33<00:00]\n",
              "    </div>\n",
              "    "
            ],
            "text/plain": [
              "<IPython.core.display.HTML object>"
            ]
          },
          "metadata": {}
        },
        {
          "output_type": "stream",
          "name": "stdout",
          "text": [
            "[48][50] Loss: 0.0842, time_lapsed: 9.4363\n",
            "[48][100] Loss: 0.0724, time_lapsed: 9.5281\n",
            "[48][150] Loss: 0.0753, time_lapsed: 9.5314\n",
            "[48][200] Loss: 0.0768, time_lapsed: 9.5262\n",
            "[48][250] Loss: 0.0582, time_lapsed: 9.5262\n",
            "[48][300] Loss: 0.0713, time_lapsed: 9.5276\n",
            "[48][350] Loss: 0.0894, time_lapsed: 9.5326\n",
            "[48][400] Loss: 0.1053, time_lapsed: 9.5341\n",
            "[48][450] Loss: 0.0523, time_lapsed: 9.5309\n",
            "[48][500] Loss: 0.0652, time_lapsed: 9.5349\n",
            "[48][550] Loss: 0.0505, time_lapsed: 9.5391\n",
            "[48][600] Loss: 0.0654, time_lapsed: 9.5252\n",
            "[48][650] Loss: 0.0655, time_lapsed: 9.5348\n",
            "[48][700] Loss: 0.0564, time_lapsed: 9.5336\n",
            "[48][750] Loss: 0.0794, time_lapsed: 9.5279\n",
            "[48][800] Loss: 0.0718, time_lapsed: 9.5315\n"
          ]
        },
        {
          "output_type": "display_data",
          "data": {
            "text/html": [
              "\n",
              "    <div>\n",
              "        <style>\n",
              "            /* Turns off some styling */\n",
              "            progress {\n",
              "                /* gets rid of default border in Firefox and Opera. */\n",
              "                border: none;\n",
              "                /* Needs to be in here for Safari polyfill so background images work as expected. */\n",
              "                background-size: auto;\n",
              "            }\n",
              "            .progress-bar-interrupted, .progress-bar-interrupted::-webkit-progress-bar {\n",
              "                background: #F44336;\n",
              "            }\n",
              "        </style>\n",
              "      <progress value='333' class='' max='333' style='width:300px; height:20px; vertical-align: middle;'></progress>\n",
              "      100.00% [333/333 00:19<00:00]\n",
              "    </div>\n",
              "    "
            ],
            "text/plain": [
              "<IPython.core.display.HTML object>"
            ]
          },
          "metadata": {}
        },
        {
          "output_type": "stream",
          "name": "stdout",
          "text": [
            "**************************************************\n",
            "[48]| Test Loss: 0.1202, correct: 269, wrong: 64, accuracy: 0.8078\n",
            "**************************************************\n"
          ]
        },
        {
          "output_type": "display_data",
          "data": {
            "text/html": [
              "\n",
              "    <div>\n",
              "        <style>\n",
              "            /* Turns off some styling */\n",
              "            progress {\n",
              "                /* gets rid of default border in Firefox and Opera. */\n",
              "                border: none;\n",
              "                /* Needs to be in here for Safari polyfill so background images work as expected. */\n",
              "                background-size: auto;\n",
              "            }\n",
              "            .progress-bar-interrupted, .progress-bar-interrupted::-webkit-progress-bar {\n",
              "                background: #F44336;\n",
              "            }\n",
              "        </style>\n",
              "      <progress value='807' class='' max='807' style='width:300px; height:20px; vertical-align: middle;'></progress>\n",
              "      100.00% [807/807 02:33<00:00]\n",
              "    </div>\n",
              "    "
            ],
            "text/plain": [
              "<IPython.core.display.HTML object>"
            ]
          },
          "metadata": {}
        },
        {
          "output_type": "stream",
          "name": "stdout",
          "text": [
            "[49][50] Loss: 0.0636, time_lapsed: 9.4471\n",
            "[49][100] Loss: 0.0650, time_lapsed: 9.5364\n",
            "[49][150] Loss: 0.0619, time_lapsed: 9.5366\n",
            "[49][200] Loss: 0.0691, time_lapsed: 9.5287\n",
            "[49][250] Loss: 0.0885, time_lapsed: 9.5312\n",
            "[49][300] Loss: 0.0661, time_lapsed: 9.5313\n",
            "[49][350] Loss: 0.0737, time_lapsed: 9.5282\n",
            "[49][400] Loss: 0.0690, time_lapsed: 9.5348\n",
            "[49][450] Loss: 0.0703, time_lapsed: 9.5343\n",
            "[49][500] Loss: 0.0646, time_lapsed: 9.5426\n",
            "[49][550] Loss: 0.0652, time_lapsed: 9.5352\n",
            "[49][600] Loss: 0.0888, time_lapsed: 9.5292\n",
            "[49][650] Loss: 0.0672, time_lapsed: 9.5319\n",
            "[49][700] Loss: 0.0837, time_lapsed: 9.5303\n",
            "[49][750] Loss: 0.0642, time_lapsed: 9.5354\n",
            "[49][800] Loss: 0.0620, time_lapsed: 9.5261\n"
          ]
        },
        {
          "output_type": "display_data",
          "data": {
            "text/html": [
              "\n",
              "    <div>\n",
              "        <style>\n",
              "            /* Turns off some styling */\n",
              "            progress {\n",
              "                /* gets rid of default border in Firefox and Opera. */\n",
              "                border: none;\n",
              "                /* Needs to be in here for Safari polyfill so background images work as expected. */\n",
              "                background-size: auto;\n",
              "            }\n",
              "            .progress-bar-interrupted, .progress-bar-interrupted::-webkit-progress-bar {\n",
              "                background: #F44336;\n",
              "            }\n",
              "        </style>\n",
              "      <progress value='333' class='' max='333' style='width:300px; height:20px; vertical-align: middle;'></progress>\n",
              "      100.00% [333/333 00:19<00:00]\n",
              "    </div>\n",
              "    "
            ],
            "text/plain": [
              "<IPython.core.display.HTML object>"
            ]
          },
          "metadata": {}
        },
        {
          "output_type": "stream",
          "name": "stdout",
          "text": [
            "**************************************************\n",
            "[49]| Test Loss: 0.1152, correct: 288, wrong: 45, accuracy: 0.8649\n",
            "**************************************************\n"
          ]
        },
        {
          "output_type": "display_data",
          "data": {
            "text/html": [
              "\n",
              "    <div>\n",
              "        <style>\n",
              "            /* Turns off some styling */\n",
              "            progress {\n",
              "                /* gets rid of default border in Firefox and Opera. */\n",
              "                border: none;\n",
              "                /* Needs to be in here for Safari polyfill so background images work as expected. */\n",
              "                background-size: auto;\n",
              "            }\n",
              "            .progress-bar-interrupted, .progress-bar-interrupted::-webkit-progress-bar {\n",
              "                background: #F44336;\n",
              "            }\n",
              "        </style>\n",
              "      <progress value='807' class='' max='807' style='width:300px; height:20px; vertical-align: middle;'></progress>\n",
              "      100.00% [807/807 02:33<00:00]\n",
              "    </div>\n",
              "    "
            ],
            "text/plain": [
              "<IPython.core.display.HTML object>"
            ]
          },
          "metadata": {}
        },
        {
          "output_type": "stream",
          "name": "stdout",
          "text": [
            "[50][50] Loss: 0.0741, time_lapsed: 9.4550\n",
            "[50][100] Loss: 0.0629, time_lapsed: 9.5382\n",
            "[50][150] Loss: 0.0603, time_lapsed: 9.5329\n",
            "[50][200] Loss: 0.0750, time_lapsed: 9.5327\n",
            "[50][250] Loss: 0.0638, time_lapsed: 9.5390\n",
            "[50][300] Loss: 0.0626, time_lapsed: 9.5305\n",
            "[50][350] Loss: 0.0560, time_lapsed: 9.5354\n",
            "[50][400] Loss: 0.0591, time_lapsed: 9.5359\n",
            "[50][450] Loss: 0.0823, time_lapsed: 9.5299\n",
            "[50][500] Loss: 0.0636, time_lapsed: 9.5334\n",
            "[50][550] Loss: 0.0787, time_lapsed: 9.5391\n",
            "[50][600] Loss: 0.0617, time_lapsed: 9.5396\n",
            "[50][650] Loss: 0.0690, time_lapsed: 9.5340\n",
            "[50][700] Loss: 0.0699, time_lapsed: 9.5409\n",
            "[50][750] Loss: 0.0741, time_lapsed: 9.5351\n",
            "[50][800] Loss: 0.0600, time_lapsed: 9.5335\n"
          ]
        },
        {
          "output_type": "display_data",
          "data": {
            "text/html": [
              "\n",
              "    <div>\n",
              "        <style>\n",
              "            /* Turns off some styling */\n",
              "            progress {\n",
              "                /* gets rid of default border in Firefox and Opera. */\n",
              "                border: none;\n",
              "                /* Needs to be in here for Safari polyfill so background images work as expected. */\n",
              "                background-size: auto;\n",
              "            }\n",
              "            .progress-bar-interrupted, .progress-bar-interrupted::-webkit-progress-bar {\n",
              "                background: #F44336;\n",
              "            }\n",
              "        </style>\n",
              "      <progress value='333' class='' max='333' style='width:300px; height:20px; vertical-align: middle;'></progress>\n",
              "      100.00% [333/333 00:19<00:00]\n",
              "    </div>\n",
              "    "
            ],
            "text/plain": [
              "<IPython.core.display.HTML object>"
            ]
          },
          "metadata": {}
        },
        {
          "output_type": "stream",
          "name": "stdout",
          "text": [
            "**************************************************\n",
            "[50]| Test Loss: 0.1088, correct: 285, wrong: 48, accuracy: 0.8559\n",
            "**************************************************\n"
          ]
        },
        {
          "output_type": "display_data",
          "data": {
            "text/html": [
              "\n",
              "    <div>\n",
              "        <style>\n",
              "            /* Turns off some styling */\n",
              "            progress {\n",
              "                /* gets rid of default border in Firefox and Opera. */\n",
              "                border: none;\n",
              "                /* Needs to be in here for Safari polyfill so background images work as expected. */\n",
              "                background-size: auto;\n",
              "            }\n",
              "            .progress-bar-interrupted, .progress-bar-interrupted::-webkit-progress-bar {\n",
              "                background: #F44336;\n",
              "            }\n",
              "        </style>\n",
              "      <progress value='807' class='' max='807' style='width:300px; height:20px; vertical-align: middle;'></progress>\n",
              "      100.00% [807/807 02:33<00:00]\n",
              "    </div>\n",
              "    "
            ],
            "text/plain": [
              "<IPython.core.display.HTML object>"
            ]
          },
          "metadata": {}
        },
        {
          "output_type": "stream",
          "name": "stdout",
          "text": [
            "[51][50] Loss: 0.0835, time_lapsed: 9.4479\n",
            "[51][100] Loss: 0.0615, time_lapsed: 9.5304\n",
            "[51][150] Loss: 0.0578, time_lapsed: 9.5381\n",
            "[51][200] Loss: 0.0738, time_lapsed: 9.5307\n",
            "[51][250] Loss: 0.0738, time_lapsed: 9.5338\n",
            "[51][300] Loss: 0.0786, time_lapsed: 9.5231\n",
            "[51][350] Loss: 0.0806, time_lapsed: 9.5296\n",
            "[51][400] Loss: 0.0721, time_lapsed: 9.5286\n",
            "[51][450] Loss: 0.0623, time_lapsed: 9.5291\n",
            "[51][500] Loss: 0.0680, time_lapsed: 9.5357\n",
            "[51][550] Loss: 0.0589, time_lapsed: 9.5283\n",
            "[51][600] Loss: 0.0668, time_lapsed: 9.5375\n",
            "[51][650] Loss: 0.0783, time_lapsed: 9.5360\n",
            "[51][700] Loss: 0.0705, time_lapsed: 9.5370\n",
            "[51][750] Loss: 0.0663, time_lapsed: 9.5351\n",
            "[51][800] Loss: 0.0763, time_lapsed: 9.5385\n"
          ]
        },
        {
          "output_type": "display_data",
          "data": {
            "text/html": [
              "\n",
              "    <div>\n",
              "        <style>\n",
              "            /* Turns off some styling */\n",
              "            progress {\n",
              "                /* gets rid of default border in Firefox and Opera. */\n",
              "                border: none;\n",
              "                /* Needs to be in here for Safari polyfill so background images work as expected. */\n",
              "                background-size: auto;\n",
              "            }\n",
              "            .progress-bar-interrupted, .progress-bar-interrupted::-webkit-progress-bar {\n",
              "                background: #F44336;\n",
              "            }\n",
              "        </style>\n",
              "      <progress value='333' class='' max='333' style='width:300px; height:20px; vertical-align: middle;'></progress>\n",
              "      100.00% [333/333 00:19<00:00]\n",
              "    </div>\n",
              "    "
            ],
            "text/plain": [
              "<IPython.core.display.HTML object>"
            ]
          },
          "metadata": {}
        },
        {
          "output_type": "stream",
          "name": "stdout",
          "text": [
            "**************************************************\n",
            "[51]| Test Loss: 0.1672, correct: 279, wrong: 54, accuracy: 0.8378\n",
            "**************************************************\n"
          ]
        },
        {
          "output_type": "display_data",
          "data": {
            "text/html": [
              "\n",
              "    <div>\n",
              "        <style>\n",
              "            /* Turns off some styling */\n",
              "            progress {\n",
              "                /* gets rid of default border in Firefox and Opera. */\n",
              "                border: none;\n",
              "                /* Needs to be in here for Safari polyfill so background images work as expected. */\n",
              "                background-size: auto;\n",
              "            }\n",
              "            .progress-bar-interrupted, .progress-bar-interrupted::-webkit-progress-bar {\n",
              "                background: #F44336;\n",
              "            }\n",
              "        </style>\n",
              "      <progress value='807' class='' max='807' style='width:300px; height:20px; vertical-align: middle;'></progress>\n",
              "      100.00% [807/807 02:33<00:00]\n",
              "    </div>\n",
              "    "
            ],
            "text/plain": [
              "<IPython.core.display.HTML object>"
            ]
          },
          "metadata": {}
        },
        {
          "output_type": "stream",
          "name": "stdout",
          "text": [
            "[52][50] Loss: 0.0793, time_lapsed: 9.4372\n",
            "[52][100] Loss: 0.0697, time_lapsed: 9.5185\n",
            "[52][150] Loss: 0.0639, time_lapsed: 9.5167\n",
            "[52][200] Loss: 0.0889, time_lapsed: 9.5269\n",
            "[52][250] Loss: 0.0588, time_lapsed: 9.5248\n",
            "[52][300] Loss: 0.0764, time_lapsed: 9.5266\n",
            "[52][350] Loss: 0.0629, time_lapsed: 9.5254\n",
            "[52][400] Loss: 0.0673, time_lapsed: 9.5321\n",
            "[52][450] Loss: 0.0742, time_lapsed: 9.5242\n",
            "[52][500] Loss: 0.0557, time_lapsed: 9.5272\n",
            "[52][550] Loss: 0.0611, time_lapsed: 9.5229\n",
            "[52][600] Loss: 0.0587, time_lapsed: 9.5253\n",
            "[52][650] Loss: 0.0633, time_lapsed: 9.5249\n",
            "[52][700] Loss: 0.0580, time_lapsed: 9.5326\n",
            "[52][750] Loss: 0.0708, time_lapsed: 9.5287\n",
            "[52][800] Loss: 0.0456, time_lapsed: 9.5318\n"
          ]
        },
        {
          "output_type": "display_data",
          "data": {
            "text/html": [
              "\n",
              "    <div>\n",
              "        <style>\n",
              "            /* Turns off some styling */\n",
              "            progress {\n",
              "                /* gets rid of default border in Firefox and Opera. */\n",
              "                border: none;\n",
              "                /* Needs to be in here for Safari polyfill so background images work as expected. */\n",
              "                background-size: auto;\n",
              "            }\n",
              "            .progress-bar-interrupted, .progress-bar-interrupted::-webkit-progress-bar {\n",
              "                background: #F44336;\n",
              "            }\n",
              "        </style>\n",
              "      <progress value='333' class='' max='333' style='width:300px; height:20px; vertical-align: middle;'></progress>\n",
              "      100.00% [333/333 00:19<00:00]\n",
              "    </div>\n",
              "    "
            ],
            "text/plain": [
              "<IPython.core.display.HTML object>"
            ]
          },
          "metadata": {}
        },
        {
          "output_type": "stream",
          "name": "stdout",
          "text": [
            "**************************************************\n",
            "[52]| Test Loss: 0.1536, correct: 280, wrong: 53, accuracy: 0.8408\n",
            "**************************************************\n"
          ]
        },
        {
          "output_type": "display_data",
          "data": {
            "text/html": [
              "\n",
              "    <div>\n",
              "        <style>\n",
              "            /* Turns off some styling */\n",
              "            progress {\n",
              "                /* gets rid of default border in Firefox and Opera. */\n",
              "                border: none;\n",
              "                /* Needs to be in here for Safari polyfill so background images work as expected. */\n",
              "                background-size: auto;\n",
              "            }\n",
              "            .progress-bar-interrupted, .progress-bar-interrupted::-webkit-progress-bar {\n",
              "                background: #F44336;\n",
              "            }\n",
              "        </style>\n",
              "      <progress value='807' class='' max='807' style='width:300px; height:20px; vertical-align: middle;'></progress>\n",
              "      100.00% [807/807 02:33<00:00]\n",
              "    </div>\n",
              "    "
            ],
            "text/plain": [
              "<IPython.core.display.HTML object>"
            ]
          },
          "metadata": {}
        },
        {
          "output_type": "stream",
          "name": "stdout",
          "text": [
            "[53][50] Loss: 0.0782, time_lapsed: 9.4331\n",
            "[53][100] Loss: 0.0524, time_lapsed: 9.5206\n",
            "[53][150] Loss: 0.0781, time_lapsed: 9.5215\n",
            "[53][200] Loss: 0.0627, time_lapsed: 9.5222\n",
            "[53][250] Loss: 0.0609, time_lapsed: 9.5247\n",
            "[53][300] Loss: 0.0524, time_lapsed: 9.5256\n",
            "[53][350] Loss: 0.0568, time_lapsed: 9.5255\n",
            "[53][400] Loss: 0.0746, time_lapsed: 9.5278\n",
            "[53][450] Loss: 0.0762, time_lapsed: 9.5209\n",
            "[53][500] Loss: 0.0625, time_lapsed: 9.5203\n",
            "[53][550] Loss: 0.0618, time_lapsed: 9.5202\n",
            "[53][600] Loss: 0.0569, time_lapsed: 9.5248\n",
            "[53][650] Loss: 0.0609, time_lapsed: 9.5270\n",
            "[53][700] Loss: 0.0571, time_lapsed: 9.5314\n",
            "[53][750] Loss: 0.0617, time_lapsed: 9.5357\n",
            "[53][800] Loss: 0.0643, time_lapsed: 9.5300\n"
          ]
        },
        {
          "output_type": "display_data",
          "data": {
            "text/html": [
              "\n",
              "    <div>\n",
              "        <style>\n",
              "            /* Turns off some styling */\n",
              "            progress {\n",
              "                /* gets rid of default border in Firefox and Opera. */\n",
              "                border: none;\n",
              "                /* Needs to be in here for Safari polyfill so background images work as expected. */\n",
              "                background-size: auto;\n",
              "            }\n",
              "            .progress-bar-interrupted, .progress-bar-interrupted::-webkit-progress-bar {\n",
              "                background: #F44336;\n",
              "            }\n",
              "        </style>\n",
              "      <progress value='333' class='' max='333' style='width:300px; height:20px; vertical-align: middle;'></progress>\n",
              "      100.00% [333/333 00:19<00:00]\n",
              "    </div>\n",
              "    "
            ],
            "text/plain": [
              "<IPython.core.display.HTML object>"
            ]
          },
          "metadata": {}
        },
        {
          "output_type": "stream",
          "name": "stdout",
          "text": [
            "**************************************************\n",
            "[53]| Test Loss: 0.1515, correct: 264, wrong: 69, accuracy: 0.7928\n",
            "**************************************************\n"
          ]
        },
        {
          "output_type": "display_data",
          "data": {
            "text/html": [
              "\n",
              "    <div>\n",
              "        <style>\n",
              "            /* Turns off some styling */\n",
              "            progress {\n",
              "                /* gets rid of default border in Firefox and Opera. */\n",
              "                border: none;\n",
              "                /* Needs to be in here for Safari polyfill so background images work as expected. */\n",
              "                background-size: auto;\n",
              "            }\n",
              "            .progress-bar-interrupted, .progress-bar-interrupted::-webkit-progress-bar {\n",
              "                background: #F44336;\n",
              "            }\n",
              "        </style>\n",
              "      <progress value='807' class='' max='807' style='width:300px; height:20px; vertical-align: middle;'></progress>\n",
              "      100.00% [807/807 02:33<00:00]\n",
              "    </div>\n",
              "    "
            ],
            "text/plain": [
              "<IPython.core.display.HTML object>"
            ]
          },
          "metadata": {}
        },
        {
          "output_type": "stream",
          "name": "stdout",
          "text": [
            "[54][50] Loss: 0.0676, time_lapsed: 9.4455\n",
            "[54][100] Loss: 0.0717, time_lapsed: 9.5275\n",
            "[54][150] Loss: 0.0750, time_lapsed: 9.5261\n",
            "[54][200] Loss: 0.0527, time_lapsed: 9.5206\n",
            "[54][250] Loss: 0.0566, time_lapsed: 9.5231\n",
            "[54][300] Loss: 0.0717, time_lapsed: 9.5226\n",
            "[54][350] Loss: 0.0635, time_lapsed: 9.5195\n",
            "[54][400] Loss: 0.0668, time_lapsed: 9.5296\n",
            "[54][450] Loss: 0.0756, time_lapsed: 9.5136\n",
            "[54][500] Loss: 0.0685, time_lapsed: 9.5146\n",
            "[54][550] Loss: 0.0558, time_lapsed: 9.5305\n",
            "[54][600] Loss: 0.0715, time_lapsed: 9.5238\n",
            "[54][650] Loss: 0.0670, time_lapsed: 9.5330\n",
            "[54][700] Loss: 0.0606, time_lapsed: 9.5207\n",
            "[54][750] Loss: 0.0477, time_lapsed: 9.5258\n",
            "[54][800] Loss: 0.0765, time_lapsed: 9.5182\n"
          ]
        },
        {
          "output_type": "display_data",
          "data": {
            "text/html": [
              "\n",
              "    <div>\n",
              "        <style>\n",
              "            /* Turns off some styling */\n",
              "            progress {\n",
              "                /* gets rid of default border in Firefox and Opera. */\n",
              "                border: none;\n",
              "                /* Needs to be in here for Safari polyfill so background images work as expected. */\n",
              "                background-size: auto;\n",
              "            }\n",
              "            .progress-bar-interrupted, .progress-bar-interrupted::-webkit-progress-bar {\n",
              "                background: #F44336;\n",
              "            }\n",
              "        </style>\n",
              "      <progress value='333' class='' max='333' style='width:300px; height:20px; vertical-align: middle;'></progress>\n",
              "      100.00% [333/333 00:19<00:00]\n",
              "    </div>\n",
              "    "
            ],
            "text/plain": [
              "<IPython.core.display.HTML object>"
            ]
          },
          "metadata": {}
        },
        {
          "output_type": "stream",
          "name": "stdout",
          "text": [
            "**************************************************\n",
            "[54]| Test Loss: 0.1357, correct: 261, wrong: 72, accuracy: 0.7838\n",
            "**************************************************\n"
          ]
        },
        {
          "output_type": "display_data",
          "data": {
            "text/html": [
              "\n",
              "    <div>\n",
              "        <style>\n",
              "            /* Turns off some styling */\n",
              "            progress {\n",
              "                /* gets rid of default border in Firefox and Opera. */\n",
              "                border: none;\n",
              "                /* Needs to be in here for Safari polyfill so background images work as expected. */\n",
              "                background-size: auto;\n",
              "            }\n",
              "            .progress-bar-interrupted, .progress-bar-interrupted::-webkit-progress-bar {\n",
              "                background: #F44336;\n",
              "            }\n",
              "        </style>\n",
              "      <progress value='807' class='' max='807' style='width:300px; height:20px; vertical-align: middle;'></progress>\n",
              "      100.00% [807/807 02:33<00:00]\n",
              "    </div>\n",
              "    "
            ],
            "text/plain": [
              "<IPython.core.display.HTML object>"
            ]
          },
          "metadata": {}
        },
        {
          "output_type": "stream",
          "name": "stdout",
          "text": [
            "[55][50] Loss: 0.0967, time_lapsed: 9.4482\n",
            "[55][100] Loss: 0.0515, time_lapsed: 9.5188\n",
            "[55][150] Loss: 0.0790, time_lapsed: 9.5225\n",
            "[55][200] Loss: 0.0631, time_lapsed: 9.5214\n",
            "[55][250] Loss: 0.0475, time_lapsed: 9.5213\n",
            "[55][300] Loss: 0.0691, time_lapsed: 9.5256\n",
            "[55][350] Loss: 0.0676, time_lapsed: 9.5201\n",
            "[55][400] Loss: 0.0699, time_lapsed: 9.5266\n",
            "[55][450] Loss: 0.0639, time_lapsed: 9.5252\n",
            "[55][500] Loss: 0.0549, time_lapsed: 9.5234\n",
            "[55][550] Loss: 0.0687, time_lapsed: 9.5154\n",
            "[55][600] Loss: 0.0769, time_lapsed: 9.5238\n",
            "[55][650] Loss: 0.0747, time_lapsed: 9.5280\n",
            "[55][700] Loss: 0.0688, time_lapsed: 9.5111\n",
            "[55][750] Loss: 0.0606, time_lapsed: 9.5207\n",
            "[55][800] Loss: 0.0590, time_lapsed: 9.5238\n"
          ]
        },
        {
          "output_type": "display_data",
          "data": {
            "text/html": [
              "\n",
              "    <div>\n",
              "        <style>\n",
              "            /* Turns off some styling */\n",
              "            progress {\n",
              "                /* gets rid of default border in Firefox and Opera. */\n",
              "                border: none;\n",
              "                /* Needs to be in here for Safari polyfill so background images work as expected. */\n",
              "                background-size: auto;\n",
              "            }\n",
              "            .progress-bar-interrupted, .progress-bar-interrupted::-webkit-progress-bar {\n",
              "                background: #F44336;\n",
              "            }\n",
              "        </style>\n",
              "      <progress value='333' class='' max='333' style='width:300px; height:20px; vertical-align: middle;'></progress>\n",
              "      100.00% [333/333 00:19<00:00]\n",
              "    </div>\n",
              "    "
            ],
            "text/plain": [
              "<IPython.core.display.HTML object>"
            ]
          },
          "metadata": {}
        },
        {
          "output_type": "stream",
          "name": "stdout",
          "text": [
            "**************************************************\n",
            "[55]| Test Loss: 0.1803, correct: 276, wrong: 57, accuracy: 0.8288\n",
            "**************************************************\n"
          ]
        },
        {
          "output_type": "display_data",
          "data": {
            "text/html": [
              "\n",
              "    <div>\n",
              "        <style>\n",
              "            /* Turns off some styling */\n",
              "            progress {\n",
              "                /* gets rid of default border in Firefox and Opera. */\n",
              "                border: none;\n",
              "                /* Needs to be in here for Safari polyfill so background images work as expected. */\n",
              "                background-size: auto;\n",
              "            }\n",
              "            .progress-bar-interrupted, .progress-bar-interrupted::-webkit-progress-bar {\n",
              "                background: #F44336;\n",
              "            }\n",
              "        </style>\n",
              "      <progress value='807' class='' max='807' style='width:300px; height:20px; vertical-align: middle;'></progress>\n",
              "      100.00% [807/807 02:33<00:00]\n",
              "    </div>\n",
              "    "
            ],
            "text/plain": [
              "<IPython.core.display.HTML object>"
            ]
          },
          "metadata": {}
        },
        {
          "output_type": "stream",
          "name": "stdout",
          "text": [
            "[56][50] Loss: 0.0690, time_lapsed: 9.4370\n",
            "[56][100] Loss: 0.0762, time_lapsed: 9.5236\n",
            "[56][150] Loss: 0.0637, time_lapsed: 9.5235\n",
            "[56][200] Loss: 0.0595, time_lapsed: 9.5149\n",
            "[56][250] Loss: 0.0554, time_lapsed: 9.5203\n",
            "[56][300] Loss: 0.0640, time_lapsed: 9.5171\n",
            "[56][350] Loss: 0.0674, time_lapsed: 9.5231\n",
            "[56][400] Loss: 0.0635, time_lapsed: 9.5269\n",
            "[56][450] Loss: 0.0661, time_lapsed: 9.5262\n",
            "[56][500] Loss: 0.0559, time_lapsed: 9.5209\n",
            "[56][550] Loss: 0.0602, time_lapsed: 9.5254\n",
            "[56][600] Loss: 0.0563, time_lapsed: 9.5140\n",
            "[56][650] Loss: 0.0806, time_lapsed: 9.5219\n",
            "[56][700] Loss: 0.0548, time_lapsed: 9.5304\n",
            "[56][750] Loss: 0.0651, time_lapsed: 9.5228\n",
            "[56][800] Loss: 0.0548, time_lapsed: 9.5274\n"
          ]
        },
        {
          "output_type": "display_data",
          "data": {
            "text/html": [
              "\n",
              "    <div>\n",
              "        <style>\n",
              "            /* Turns off some styling */\n",
              "            progress {\n",
              "                /* gets rid of default border in Firefox and Opera. */\n",
              "                border: none;\n",
              "                /* Needs to be in here for Safari polyfill so background images work as expected. */\n",
              "                background-size: auto;\n",
              "            }\n",
              "            .progress-bar-interrupted, .progress-bar-interrupted::-webkit-progress-bar {\n",
              "                background: #F44336;\n",
              "            }\n",
              "        </style>\n",
              "      <progress value='333' class='' max='333' style='width:300px; height:20px; vertical-align: middle;'></progress>\n",
              "      100.00% [333/333 00:19<00:00]\n",
              "    </div>\n",
              "    "
            ],
            "text/plain": [
              "<IPython.core.display.HTML object>"
            ]
          },
          "metadata": {}
        },
        {
          "output_type": "stream",
          "name": "stdout",
          "text": [
            "**************************************************\n",
            "[56]| Test Loss: 0.1228, correct: 271, wrong: 62, accuracy: 0.8138\n",
            "**************************************************\n"
          ]
        },
        {
          "output_type": "display_data",
          "data": {
            "text/html": [
              "\n",
              "    <div>\n",
              "        <style>\n",
              "            /* Turns off some styling */\n",
              "            progress {\n",
              "                /* gets rid of default border in Firefox and Opera. */\n",
              "                border: none;\n",
              "                /* Needs to be in here for Safari polyfill so background images work as expected. */\n",
              "                background-size: auto;\n",
              "            }\n",
              "            .progress-bar-interrupted, .progress-bar-interrupted::-webkit-progress-bar {\n",
              "                background: #F44336;\n",
              "            }\n",
              "        </style>\n",
              "      <progress value='807' class='' max='807' style='width:300px; height:20px; vertical-align: middle;'></progress>\n",
              "      100.00% [807/807 02:33<00:00]\n",
              "    </div>\n",
              "    "
            ],
            "text/plain": [
              "<IPython.core.display.HTML object>"
            ]
          },
          "metadata": {}
        },
        {
          "output_type": "stream",
          "name": "stdout",
          "text": [
            "[57][50] Loss: 0.0890, time_lapsed: 9.4290\n",
            "[57][100] Loss: 0.0556, time_lapsed: 9.5172\n",
            "[57][150] Loss: 0.0542, time_lapsed: 9.5222\n",
            "[57][200] Loss: 0.0681, time_lapsed: 9.5199\n",
            "[57][250] Loss: 0.0623, time_lapsed: 9.5275\n",
            "[57][300] Loss: 0.0607, time_lapsed: 9.5238\n",
            "[57][350] Loss: 0.0690, time_lapsed: 9.5226\n",
            "[57][400] Loss: 0.0687, time_lapsed: 9.5228\n",
            "[57][450] Loss: 0.0774, time_lapsed: 9.5244\n",
            "[57][500] Loss: 0.0614, time_lapsed: 9.5168\n",
            "[57][550] Loss: 0.0530, time_lapsed: 9.5205\n",
            "[57][600] Loss: 0.0561, time_lapsed: 9.5237\n",
            "[57][650] Loss: 0.0618, time_lapsed: 9.5251\n",
            "[57][700] Loss: 0.0633, time_lapsed: 9.5170\n",
            "[57][750] Loss: 0.0580, time_lapsed: 9.5209\n",
            "[57][800] Loss: 0.0963, time_lapsed: 9.5304\n"
          ]
        },
        {
          "output_type": "display_data",
          "data": {
            "text/html": [
              "\n",
              "    <div>\n",
              "        <style>\n",
              "            /* Turns off some styling */\n",
              "            progress {\n",
              "                /* gets rid of default border in Firefox and Opera. */\n",
              "                border: none;\n",
              "                /* Needs to be in here for Safari polyfill so background images work as expected. */\n",
              "                background-size: auto;\n",
              "            }\n",
              "            .progress-bar-interrupted, .progress-bar-interrupted::-webkit-progress-bar {\n",
              "                background: #F44336;\n",
              "            }\n",
              "        </style>\n",
              "      <progress value='333' class='' max='333' style='width:300px; height:20px; vertical-align: middle;'></progress>\n",
              "      100.00% [333/333 00:19<00:00]\n",
              "    </div>\n",
              "    "
            ],
            "text/plain": [
              "<IPython.core.display.HTML object>"
            ]
          },
          "metadata": {}
        },
        {
          "output_type": "stream",
          "name": "stdout",
          "text": [
            "**************************************************\n",
            "[57]| Test Loss: 0.1080, correct: 273, wrong: 60, accuracy: 0.8198\n",
            "**************************************************\n"
          ]
        },
        {
          "output_type": "display_data",
          "data": {
            "text/html": [
              "\n",
              "    <div>\n",
              "        <style>\n",
              "            /* Turns off some styling */\n",
              "            progress {\n",
              "                /* gets rid of default border in Firefox and Opera. */\n",
              "                border: none;\n",
              "                /* Needs to be in here for Safari polyfill so background images work as expected. */\n",
              "                background-size: auto;\n",
              "            }\n",
              "            .progress-bar-interrupted, .progress-bar-interrupted::-webkit-progress-bar {\n",
              "                background: #F44336;\n",
              "            }\n",
              "        </style>\n",
              "      <progress value='612' class='' max='807' style='width:300px; height:20px; vertical-align: middle;'></progress>\n",
              "      75.84% [612/807 01:56<00:37]\n",
              "    </div>\n",
              "    "
            ],
            "text/plain": [
              "<IPython.core.display.HTML object>"
            ]
          },
          "metadata": {}
        },
        {
          "output_type": "stream",
          "name": "stdout",
          "text": [
            "[58][50] Loss: 0.0802, time_lapsed: 9.4345\n",
            "[58][100] Loss: 0.0573, time_lapsed: 9.5217\n",
            "[58][150] Loss: 0.0626, time_lapsed: 9.5228\n",
            "[58][200] Loss: 0.0639, time_lapsed: 9.5163\n",
            "[58][250] Loss: 0.0462, time_lapsed: 9.5189\n",
            "[58][300] Loss: 0.0719, time_lapsed: 9.5180\n",
            "[58][350] Loss: 0.0583, time_lapsed: 9.5191\n",
            "[58][400] Loss: 0.0537, time_lapsed: 9.5234\n",
            "[58][450] Loss: 0.0771, time_lapsed: 9.5253\n",
            "[58][500] Loss: 0.0643, time_lapsed: 9.5148\n",
            "[58][550] Loss: 0.0525, time_lapsed: 9.5213\n",
            "[58][600] Loss: 0.0780, time_lapsed: 9.5247\n"
          ]
        }
      ]
    },
    {
      "cell_type": "code",
      "metadata": {
        "id": "SJSECTCIV_GY"
      },
      "source": [
        "SAVE_PATH = CUR_DIR / 'sample_data' / 'siamese.pt'\n",
        "torch.save(model, SAVE_PATH)"
      ],
      "execution_count": null,
      "outputs": []
    },
    {
      "cell_type": "code",
      "metadata": {
        "id": "M-kTNo4QlRC1"
      },
      "source": [
        ""
      ],
      "execution_count": null,
      "outputs": []
    }
  ]
}